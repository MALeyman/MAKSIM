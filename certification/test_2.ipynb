{
 "cells": [
  {
   "cell_type": "markdown",
   "metadata": {},
   "source": [
    "# Аттестация"
   ]
  },
  {
   "cell_type": "markdown",
   "metadata": {},
   "source": [
    "## Загрузка датасета"
   ]
  },
  {
   "cell_type": "code",
   "execution_count": 2,
   "metadata": {},
   "outputs": [
    {
     "name": "stderr",
     "output_type": "stream",
     "text": [
      "/home/maksim/develops/python/MAKSIM/.venv/lib/python3.12/site-packages/tqdm/auto.py:21: TqdmWarning: IProgress not found. Please update jupyter and ipywidgets. See https://ipywidgets.readthedocs.io/en/stable/user_install.html\n",
      "  from .autonotebook import tqdm as notebook_tqdm\n"
     ]
    },
    {
     "name": "stdout",
     "output_type": "stream",
     "text": [
      "Downloading from https://www.kaggle.com/api/v1/datasets/download/atanaskanev/sqlite-sakila-sample-database?dataset_version_number=1...\n"
     ]
    },
    {
     "name": "stderr",
     "output_type": "stream",
     "text": [
      "100%|██████████| 4.29M/4.29M [00:01<00:00, 2.29MB/s]"
     ]
    },
    {
     "name": "stdout",
     "output_type": "stream",
     "text": [
      "Extracting files...\n",
      "Path to dataset files: /home/maksim/.cache/kagglehub/datasets/atanaskanev/sqlite-sakila-sample-database/versions/1\n"
     ]
    },
    {
     "name": "stderr",
     "output_type": "stream",
     "text": [
      "\n"
     ]
    }
   ],
   "source": [
    "import kagglehub\n",
    "\n",
    "# Download latest version\n",
    "path = kagglehub.dataset_download(\"atanaskanev/sqlite-sakila-sample-database\")\n",
    "\n",
    "print(\"Path to dataset files:\", path)"
   ]
  },
  {
   "cell_type": "markdown",
   "metadata": {},
   "source": [
    "#### Импорты"
   ]
  },
  {
   "cell_type": "code",
   "execution_count": 3,
   "metadata": {},
   "outputs": [],
   "source": [
    "import sqlite3\n",
    "import psycopg2\n",
    "import pandas as pd\n",
    "from sqlalchemy import create_engine"
   ]
  },
  {
   "cell_type": "code",
   "execution_count": null,
   "metadata": {},
   "outputs": [],
   "source": [
    "\n",
    "\n",
    "# Подключение к SQLite\n",
    "sqlite_db_path = \"sakila.db\"  # Путь к скачанной SQLite базе\n",
    "sqlite_conn = sqlite3.connect(sqlite_db_path)\n",
    "\n",
    "# Подключение к PostgreSQL\n",
    "pg_user = \"postgres\"\n",
    "pg_password = \"postgres\"\n",
    "pg_host = \"localhost\"\n",
    "pg_port = \"5432\"\n",
    "pg_dbname = \"sakila\"\n",
    "\n",
    "pg_engine = create_engine(f\"postgresql://{pg_user}:{pg_password}@{pg_host}:{pg_port}/{pg_dbname}\")\n",
    "\n",
    "# Получение списка таблиц из SQLite\n",
    "query = \"SELECT name FROM sqlite_master WHERE type='table';\"\n",
    "tables = pd.read_sql(query, sqlite_conn)\n",
    "\n",
    "# Перенос данных из каждой таблицы\n",
    "for table_name in tables[\"name\"]:\n",
    "    df = pd.read_sql(f\"SELECT * FROM {table_name}\", sqlite_conn)\n",
    "    df.to_sql(table_name, pg_engine, if_exists=\"replace\", index=False)\n",
    "    print(f\"Таблица {table_name} успешно перенесена.\")\n",
    "\n",
    "# Закрываем соединения\n",
    "sqlite_conn.close()\n",
    "print(\"Перенос завершён!\")\n"
   ]
  }
 ],
 "metadata": {
  "kernelspec": {
   "display_name": ".venv",
   "language": "python",
   "name": "python3"
  },
  "language_info": {
   "codemirror_mode": {
    "name": "ipython",
    "version": 3
   },
   "file_extension": ".py",
   "mimetype": "text/x-python",
   "name": "python",
   "nbconvert_exporter": "python",
   "pygments_lexer": "ipython3",
   "version": "3.12.8"
  }
 },
 "nbformat": 4,
 "nbformat_minor": 2
}
