{
 "cells": [
  {
   "cell_type": "markdown",
   "metadata": {},
   "source": [
    "# Аттестация"
   ]
  },
  {
   "cell_type": "markdown",
   "metadata": {},
   "source": [
    "## Загрузка датасета"
   ]
  },
  {
   "cell_type": "code",
   "execution_count": 1,
   "metadata": {},
   "outputs": [
    {
     "name": "stderr",
     "output_type": "stream",
     "text": [
      "/home/maksim/develops/python/MAKSIM/.venv/lib/python3.12/site-packages/tqdm/auto.py:21: TqdmWarning: IProgress not found. Please update jupyter and ipywidgets. See https://ipywidgets.readthedocs.io/en/stable/user_install.html\n",
      "  from .autonotebook import tqdm as notebook_tqdm\n"
     ]
    },
    {
     "name": "stdout",
     "output_type": "stream",
     "text": [
      "Path to dataset files: /home/maksim/.cache/kagglehub/datasets/atanaskanev/sqlite-sakila-sample-database/versions/1\n"
     ]
    }
   ],
   "source": [
    "import kagglehub\n",
    "\n",
    "# Download latest version\n",
    "path = kagglehub.dataset_download(\"atanaskanev/sqlite-sakila-sample-database\")\n",
    "\n",
    "print(\"Path to dataset files:\", path)"
   ]
  },
  {
   "cell_type": "markdown",
   "metadata": {},
   "source": [
    "#### Импорты"
   ]
  },
  {
   "cell_type": "code",
   "execution_count": 2,
   "metadata": {},
   "outputs": [],
   "source": [
    "import sqlite3\n",
    "import psycopg2\n",
    "import pandas as pd\n",
    "from sqlalchemy import create_engine\n",
    "from psycopg2 import sql\n",
    "\n",
    "from sqlalchemy.orm import sessionmaker\n",
    "from database import engine\n",
    "import matplotlib.pyplot as plt\n",
    "import seaborn as sns\n",
    "import os\n",
    "import plotly.express as px\n"
   ]
  },
  {
   "cell_type": "markdown",
   "metadata": {},
   "source": [
    "#### Создание базы данных \"sakila\""
   ]
  },
  {
   "cell_type": "code",
   "execution_count": null,
   "metadata": {},
   "outputs": [
    {
     "name": "stdout",
     "output_type": "stream",
     "text": [
      "База данных 'sakila' успешно создана.\n"
     ]
    }
   ],
   "source": [
    "\n",
    "# Параметры подключения\n",
    "pg_user = \"postgres\"\n",
    "pg_password = \"postgres\"\n",
    "pg_host = \"localhost\"\n",
    "pg_port = \"5432\"\n",
    "pg_dbname = \"sakila\"\n",
    "\n",
    "# Устанавливаем соединение с PostgreSQL (к базе данных postgres)\n",
    "conn = psycopg2.connect(\n",
    "    dbname=\"postgres\",  # Подключаемся к стандартной базе данных postgres\n",
    "    user=pg_user,\n",
    "    password=pg_password,\n",
    "    host=pg_host,\n",
    "    port=pg_port\n",
    ")\n",
    "\n",
    "# Создаем курсор\n",
    "cursor = conn.cursor()\n",
    "\n",
    "conn.autocommit = True\n",
    "\n",
    "# Создаем базу данных sakila\n",
    "cursor.execute(sql.SQL(\"CREATE DATABASE {}\").format(sql.Identifier('sakila')))\n",
    "\n",
    "# Закрываем курсор и соединение\n",
    "cursor.close()\n",
    "conn.close()\n",
    "\n",
    "print(\"База данных 'sakila' успешно создана.\")\n"
   ]
  },
  {
   "cell_type": "markdown",
   "metadata": {},
   "source": [
    "#### Перенос данных из sqlite в Postgresql \"sakila\" "
   ]
  },
  {
   "cell_type": "code",
   "execution_count": 7,
   "metadata": {},
   "outputs": [
    {
     "name": "stdout",
     "output_type": "stream",
     "text": [
      "Таблица actor успешно перенесена.\n",
      "Таблица country успешно перенесена.\n",
      "Таблица city успешно перенесена.\n",
      "Таблица address успешно перенесена.\n",
      "Таблица language успешно перенесена.\n",
      "Таблица category успешно перенесена.\n",
      "Таблица customer успешно перенесена.\n",
      "Таблица film успешно перенесена.\n",
      "Таблица film_actor успешно перенесена.\n",
      "Таблица film_category успешно перенесена.\n",
      "Таблица film_text успешно перенесена.\n",
      "Таблица inventory успешно перенесена.\n",
      "Таблица staff успешно перенесена.\n",
      "Таблица store успешно перенесена.\n",
      "Таблица payment успешно перенесена.\n",
      "Таблица rental успешно перенесена.\n",
      "Перенос завершён!\n"
     ]
    }
   ],
   "source": [
    "\n",
    "# Подключение к SQLite\n",
    "sqlite_db_path = \"sakila.db\"  # Путь к скачанной SQLite базе\n",
    "sqlite_conn = sqlite3.connect(sqlite_db_path)\n",
    "\n",
    "pg_engine = create_engine(f\"postgresql://{pg_user}:{pg_password}@{pg_host}:{pg_port}/{pg_dbname}\")\n",
    "\n",
    "# Получение списка таблиц из SQLite\n",
    "query = \"SELECT name FROM sqlite_master WHERE type='table';\"\n",
    "tables = pd.read_sql(query, sqlite_conn)\n",
    "\n",
    "# Перенос данных из каждой таблицы\n",
    "for table_name in tables[\"name\"]:\n",
    "    df = pd.read_sql(f\"SELECT * FROM {table_name}\", sqlite_conn)\n",
    "    df.to_sql(table_name, pg_engine, if_exists=\"replace\", index=False)\n",
    "    print(f\"Таблица {table_name} успешно перенесена.\")\n",
    "\n",
    "# Закрываем соединения\n",
    "sqlite_conn.close()\n",
    "print(\"Перенос завершён!\")\n"
   ]
  },
  {
   "cell_type": "markdown",
   "metadata": {},
   "source": [
    "## Задача 2 Подключение к БД и выполнение запросов"
   ]
  },
  {
   "cell_type": "code",
<<<<<<< HEAD
=======
   "execution_count": 5,
   "metadata": {},
   "outputs": [],
   "source": [
    "# Создаём папку \"output\" для хранения графиков и отчётов\n",
>>>>>>> task_3
    "output_dir = \"output\"\n",
    "os.makedirs(output_dir, exist_ok=True)\n"
   ]
  },
  {
   "cell_type": "code",
<<<<<<< HEAD
=======
   "execution_count": 6,
>>>>>>> task_3
   "metadata": {},
   "outputs": [],
   "source": [
    "# Создание сессии\n",
    "Session = sessionmaker(bind=engine)\n",
    "session = Session()\n"
   ]
  },
  {
   "cell_type": "code",
<<<<<<< HEAD
   "execution_count": 5,
=======
   "execution_count": 7,
>>>>>>> task_3
   "metadata": {},
   "outputs": [
    {
     "data": {
      "image/png": "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",
      "text/plain": [
       "<Figure size 800x500 with 1 Axes>"
      ]
     },
     "metadata": {},
     "output_type": "display_data"
    }
   ],
   "source": [
    "\n",
    "# 1 Доля фильмов в каждой рейтинговой категории\n",
    "query_1 = \"\"\"\n",
    "SELECT rating, COUNT(*) * 100.0 / (SELECT COUNT(*) FROM film) AS percentage\n",
    "FROM film\n",
    "GROUP BY rating\n",
    "ORDER BY percentage DESC;\n",
    "\"\"\"\n",
    "df_1 = pd.read_sql(query_1, engine)\n",
    "df_1.to_csv(\"output/films_by_rating.csv\", index=False)\n",
    "\n",
    "# Визуализация\n",
    "plt.figure(figsize=(8, 5))\n",
    "sns.barplot(x=df_1[\"rating\"], y=df_1[\"percentage\"])\n",
    "plt.title(\"Доля фильмов в каждой рейтинговой категории\")\n",
    "plt.ylabel(\"Процент фильмов\")\n",
    "plt.xlabel(\"Рейтинг\")\n",
    "plt.savefig(\"output/films_by_rating.png\")\n",
    "plt.show()"
   ]
  },
  {
   "cell_type": "code",
<<<<<<< HEAD
   "execution_count": 24,
=======
   "execution_count": 9,
>>>>>>> task_3
   "metadata": {},
   "outputs": [
    {
     "name": "stderr",
     "output_type": "stream",
     "text": [
<<<<<<< HEAD
      "/tmp/ipykernel_21771/1178054635.py:17: FutureWarning: \n",
=======
      "/tmp/ipykernel_22873/1867487714.py:17: FutureWarning: \n",
>>>>>>> task_3
      "\n",
      "Passing `palette` without assigning `hue` is deprecated and will be removed in v0.14.0. Assign the `y` variable to `hue` and set `legend=False` for the same effect.\n",
      "\n",
      "  sns.barplot(x=df_2[\"rentals\"], y=df_2[\"name\"], palette=\"viridis\")\n"
     ]
    },
    {
     "data": {
      "image/png": "iVBORw0KGgoAAAANSUhEUgAAA5YAAAIjCAYAAAB4e4QMAAAAOnRFWHRTb2Z0d2FyZQBNYXRwbG90bGliIHZlcnNpb24zLjEwLjAsIGh0dHBzOi8vbWF0cGxvdGxpYi5vcmcvlHJYcgAAAAlwSFlzAAAPYQAAD2EBqD+naQAAgkpJREFUeJzs3Xd4FNX79/HPkpBNT6gJSCCEUEPoRYhSw5felWIEQ1EUEEEQBEWKQkClimABElCUIoiI2AiEJkoNRUKRDlIEJKFI6jx/+Ms+LCmEbCBI3q/rmuvKnDlzzj0zm7A3Z+aMyTAMQwAAAAAAZFO+3A4AAAAAAPDfRmIJAAAAALAJiSUAAAAAwCYklgAAAAAAm5BYAgAAAABsQmIJAAAAALAJiSUAAAAAwCYklgAAAAAAm5BYAgAAAABsQmIJAAAAALAJiSWAPO3o0aPq16+f/Pz85OjoKHd3dwUFBWnGjBn6559/cjs8AHgotGnTRr6+vrkdBoCHmH1uBwAAueW7777T008/LbPZrJ49e6py5cpKSEjQ5s2b9dprr+n333/XJ598ktthAgAAPPRILAHkScePH1e3bt1UqlQprVu3TsWKFbNsGzBggP744w999913uRghAADAfwe3wgLIk959911dv35d8+bNs0oqU/n7++uVV16xrIeHh6tJkyYqWrSozGazKlWqpDlz5qTZz9fXVyaTSYMHD06zrXnz5jKZTGrTpo2lLCoqSiaTSV999VWGsYaGhqa5BS0lJUXTp09XQECAHB0d5eXlpX79+unvv/++67H7+voqNDTUqiw1jqioKEvZpk2b9PTTT6tkyZIym83y8fHRkCFD0r1F+ODBg+rSpYuKFCkiJycnlS9fXm+88YYkaezYsTKZTJkut/e7bNky1axZU05OTipcuLCeffZZnT179q7HdeXKFQ0bNkyBgYFydXWVu7u7WrZsqT179qR7rEuWLNGoUaPk7e0tFxcXtWvXTqdPn07T7m+//aYWLVrIw8NDzs7OatiwobZs2WJVJ/UYL126ZFW+Y8cOmUwmRUREpGk39bNy55Ja1zAM+fr6qn379mn2vXXrljw8PNSvXz9LWXx8vMaMGSN/f3/L9Ro+fLji4+Ot9k3tZ/r06WnarVChgkwmkwYOHGgpi4iIkMlk0o4dO9LUT9WoUSM1atTIqiyr8WS1vQkTJihfvnz64osvLGVZ+YyGhobe9fN34sQJS/3vv/9eTz75pFxcXOTm5qbWrVvr999/t4olozb9/f2t6s2ePVsBAQEym80qXry4BgwYoKtXr6Y51sqVK2vnzp2qX7++nJycVLp0aX300UdW9dL7HZWk1q1by2QyaezYsZay1M/j7a5fvy5vb+9020jPZ599Jh8fH3l6eiosLMxSvmTJEhUvXlyFCxfW5MmTrfZJ/azcfj5TUlJUpUqVDH8PsnJN7vxMpif1/JhMJkVHR1ttO3v2rOzs7NL9W7tu3TrL9fb09FT79u0VExNjVefOv2Fubm6qU6eOVq5cmWlMQF7DiCWAPOnbb7+Vn5+f6tevn6X6c+bMUUBAgNq1ayd7e3t9++236t+/v1JSUjRgwACruo6Ojlq0aJHee+895c+fX5J05swZRUZGytHRMUfi79evnyIiItSrVy8NGjRIx48f16xZs7R7925t2bLF0q8tli1bpps3b+qll15SoUKFtG3bNn3wwQc6c+aMli1bZqm3d+9ePfnkk8qfP79eeOEF+fr66ujRo/r22281YcIEderUyeoL95AhQ1SxYkW98MILlrKKFStKkuWYateurbCwMF24cEEzZszQli1btHv3bnl6emYY77Fjx7Ry5Uo9/fTTKl26tC5cuKCPP/5YDRs21IEDB1S8eHGr+hMmTJDJZNKIESN08eJFTZ8+XcHBwYqOjpaTk5Okf790tmzZUjVr1tSYMWOUL18+y38ybNq0SXXq1LHpHFerVk1Dhw6V9O8o+ltvvWXZZjKZ9Oyzz+rdd9/VlStXVLBgQcu2b7/9VnFxcXr22Wcl/fvlvV27dtq8ebNeeOEFVaxYUfv27dO0adN0+PDhNF+AHR0dFR4ebvUfIL/88otOnjxp0/Gkutd47iY8PFxvvvmmpkyZomeeecZSnpXPaL9+/RQcHGzZp0ePHurYsaM6depkKStSpIikf5Op5557Ts2bN9fkyZN18+ZNzZkzR0888YR2795t9R88ZrNZc+fOtYrTzc3N8vPYsWM1btw4BQcH66WXXtKhQ4c0Z84cbd++Pc3v6N9//61WrVqpS5cu6t69u5YuXaqXXnpJDg4O6t27d4bnZePGjVqzZk2WzuGUKVN04cKFLNXdsmWLnnvuOdWvX1/du3fXZ599pmPHjumff/7R+PHjNWrUKP300096/fXXVbJkSXXv3j3Dtj777DPt27cv0/5uvx6bNm2y6RGE1M/2jBkzLGULFiyQg4ODbt26ZVV37dq1atmypfz8/DR27Fj9888/+uCDDxQUFKRdu3al+Q+9zz77TJJ06dIlzZ49W08//bT279+v8uXLZzte4JFiAEAeExsba0gy2rdvn+V9bt68maasefPmhp+fn1VZqVKljGbNmhmFCxc2vvrqK0v522+/bdSvX98oVaqU0bp1a0v5+vXrDUnGsmXLMuz7ueeeM0qVKmVZ37RpkyHJWLRokVW9H374Id3yO5UuXdro2bOnVVlqHOvXr8/0mMPCwgyTyWScPHnSUtagQQPDzc3NqswwDCMlJSXd/kuVKmU899xzacoTEhKMokWLGpUrVzb++ecfS/nq1asNScZbb72V6XHdunXLSE5Otio7fvy4YTabjfHjx6c51scee8yIi4uzlC9dutSQZMyYMcMSf9myZY3mzZtbHcvNmzeN0qVLG82aNbOUjRkzxpBk/PXXX1b9b9++3ZBkhIeHp4m3ePHiRps2bTKte+jQIUOSMWfOHKt927VrZ/j6+lri+uyzz4x8+fIZmzZtsqr30UcfGZKMLVu2WMokGU899ZRhb29v7Nixw1Lep08f45lnnjEkGQMGDLCUh4eHG5KM7du3pzmGVA0bNjQaNmxoWb+XeO7W3nfffWfY29sbQ4cOTVMvq5/R20kyxowZk6b82rVrhqenp/H8889blZ8/f97w8PCwKn/uuecMFxeXDOO/ePGi4eDgYPzvf/+z+kzOmjXLkGTMnz/f6lglGVOmTLGUxcfHG9WqVTOKFi1qJCQkGIaR/u9o3bp1jZYtW6Y5ptTP4+3xuLm5Were3kZ62rVrZ5QuXdq4deuW5dyULl3acHZ2No4dO2YYxr+/H0FBQUbVqlUt+6V+Vo4fP24Yxr+/kyVLlrT0e+fvQWJioiHJGDduXIZtGIaR5jOZntTz0717d6NQoUJGfHy8ZVvZsmUtn+3b/9amnuPLly9byvbs2WPky5fP6m/knefTMAzjp59+MiQZS5cuzTQuIC/hVlgAeU5cXJwk69GFu0kdwZKk2NhYXbp0SQ0bNtSxY8cUGxtrVdfBwUEhISEKDw+3lKWOxGXk2rVrunTpUprb5NKzbNkyeXh4qFmzZrp06ZJlqVmzplxdXbV+/fpM9y9atKjOnDlz135uP+YbN27o0qVLql+/vgzD0O7duyVJf/31lzZu3KjevXurZMmSVvvfeSve3ezYsUMXL15U//79rUZ2W7durQoVKtz1mVez2ax8+f79Zy05OVmXL1+Wq6urypcvr127dqWp37NnT6vPwFNPPaVixYpZRoCio6N15MgRPfPMM7p8+bLlPN+4cUNNmzbVxo0blZKSYtXmlStXrK7JnZ+N2926deuuI9jlypVT3bp1tWjRIqs+vv/+e4WEhFjO8bJly1SxYkVVqFDBqv8mTZpIUprPhJeXl1q3bm35jN68eVNLly7N9DOa+rm/du1apjFnJ56MbNu2TV26dFHnzp313nvvpdmelc9oVv3888+6evWqunfvbhWznZ2d6tatm+WYpX9HwhISEjR48GDLZ1KSnn/+ebm7u6f5LNvb21vd1uzg4KB+/frp4sWL2rlzZ7p9rFixQtu3b9ekSZPuGs/bb78tDw8PDRo0KEvxR0ZGqlWrVjKbzZIkV1dXVapUSUWKFFHp0qUl/fv73aFDB+3Zs0eXL19Ot50PP/xQly9f1pgxY9LdnpCQIEmWfjJz69YtXbp0SZcvX07ze3e7tm3bymQyadWqVZL+HQE9c+aMunbtalXv3Llzio6OVmhoqNXdAFWqVFGzZs3SHQlO/UzExMToo48+kouLix5//PG7xg7kFdwKCyDPcXd3l6QsfUFOtWXLFo0ZM0Zbt27VzZs3rbbFxsbKw8PDqqxXr16qWbOmzp07p8OHD+vcuXPq0qWL3nnnnXTbv/12N1dXV7Vt21bTpk2Tl5dXmrpHjhxRbGysihYtmm5bFy9ezPRY6tevr5kzZ2rx4sVq0qSJ8uXLl24CdOrUKb311ltatWpVmmc3U+sfO3ZMklS5cuVM+8yK1Nsw07utrEKFCtq8eXOm+6ekpGjGjBmaPXu2jh8/ruTkZMu2QoUKpalftmxZq/XUZ+RSn+06cuSIJOm5557LsM/Y2FgVKFDAsp7VW+KSk5N19erVNJ+b9PTs2VMDBw7UyZMnVapUKS1btkyJiYnq0aOHpc6RI0cUExNjuaXzTul9Jnr16qVevXppypQpWrZsmQoUKGBJ/NJz++2knp6e6t69u9577z25uLikqZudeO509uxZtW7dWjdu3NDly5fT/Y+KrHxGsyr1emd0DlL/bmRFRp9lBwcH+fn5pbnluHjx4mnOY7ly5SRJJ06cSJO8JCcna9SoUQoJCVGVKlUyjeX48eP6+OOPNWfOnCzdiv/333/rxo0beuyxx+5aN7XO6dOn0/yOxcbGauLEiXr11VfT/TsmyfIfaa6urnfta968eZo3b56kf89j3bp1NXXqVNWqVcuqXv78+fXss89q/vz5euqppzR//nx17tw5zfXL7O9NxYoV9eOPP+rGjRtW1+X2z7O7u7sWLVokHx+fu8YO5BUklgDyHHd3dxUvXlz79+/PUv2jR4+qadOmqlChgqZOnSofHx85ODhozZo1mjZtWrr/e161alVVrVpVCxcuVExMTLpfbG731ltv6cknn1RiYqJ27typ8ePH6+rVq+n+r3lKSoqKFi1qNYp1u4y+zKcaNWqUtmzZkulzUcnJyWrWrJmuXLmiESNGqEKFCnJxcdHZs2cVGhqa6YhBbpk4caJGjx6t3r176+2331bBggWVL18+DR48OFvxpu7z3nvvqVq1aunWufML8fLly62u8+HDh9M8gyv9mxClpKRk6b2A3bp105AhQ7Ro0SKNGjVKn3/+uWrVqmX1hTglJUWBgYGaOnVqum2k9+W3devWcnBw0MqVKxUeHq7nnnvOanTtTh9++KHKlSun+Ph4RUVF6f3335f07wQ1d8pOPHf6448/VKNGDU2bNk09evTQggULrJL8nP6Mptb/7LPP5O3tnWa7vf3D85Vp3rx5OnHihH788ce71n3jjTdUtmxZPffcc9q0adNd69/5HGJWpDeh1+TJk5UvXz699tprGY5onj9/XpLSPd93at++vQYOHCjDMHT8+HGNHz9ebdq00ZEjR9LcfdK7d29Vr15dhw4d0rJlyyyjl7b6+eefJf07Or58+XJ16dJFq1evVrNmzXKkfeC/7uH5KwkAD1CbNm30ySefaOvWrapXr16mdb/99lvFx8dr1apVVrd73u3WuN69e2vatGk6f/68vv3220zrBgYGWkaEWrZsqVOnTmnBggVKSkpKU7dMmTJau3atgoKCrG4FzKrChQtr69atOnDggOWL3Z49ezRs2DBLnX379unw4cNasGCBevbsaSlP/WKVys/PT5KynKRnplSpUpKkQ4cOpRk1OnTokGV7Rr766is1btzYMqqR6urVqypcuHCa+qkjVKkMw9Aff/xhGQEqU6aMpH//I+L20brMNGjQwKqvjCYbSp1h9c7RlvQULFhQrVu31qJFixQSEqItW7akmdG1TJky2rNnj5o2bZrlW5Dt7e3Vo0cPTZgwQb///rvmz5+faf06depY4m3durX27NmjH374Id262YnnTqm3JXt5eembb77R0KFD1apVK8t/nGT1M5pVqde7aNGiWb7eGbn9s5z6OyL9e+vn8ePH07T/559/phkdO3z4sCSl+c+Hmzdvaty4cerfv/9dfyd2796txYsXa+XKlbKzs8tS7IULF1b+/Pn1559/3rVu6mzNd06M9eeff2rGjBkKCwuTm5tbhonlgQMHJP3/ybsyU6JECavz5urqqpCQEO3evVsNGjSwqhsYGKjq1atbZqpu3LixNmzYYFXn9mt0p4MHD6pw4cJpRpFv7799+/b67bff9P7775NYAv+HZywB5EnDhw+Xi4uL+vbtm+5MiUePHrXMKpj6hcwwDMv22NhYq2co0/PMM8/o7NmzKlq0aJpXJ9xNSkqK8uXLl+6X8i5duig5OVlvv/12mm1JSUlZek4zX758qly5soKDgxUcHKyaNWtabU/vmA3DsJppUfp3dLRBgwaaP3++Tp06ZbXt9n2zolatWipatKg++ugjq1dSfP/994qJiVHr1q0z3d/Ozi5Nn8uWLcvwVSULFy60uh36q6++0rlz59SyZUtJUs2aNVWmTBm9//77un79epr9//rrrywf252WLVsmT09PNWzYMEv1e/TooQMHDui1116TnZ2dunXrZrW9S5cuOnv2rD799NM0+/7zzz+6ceNGuu327t1b+/btU4MGDawSoKxISUnJMFnJbjy3K1eunOUWyg8++EApKSlWrwDK6mc0q5o3by53d3dNnDhRiYmJabbfy/UODg6Wg4ODZs6caRXfvHnzFBsbm+aznJSUpI8//tiynpCQoI8//lhFihRJ87s5Y8YM3bhxw/I6n8y8/vrrCgoKUrt27bIce/78+fX4449rzZo1lmcgr1+/rgMHDuivv/6y3CpuGIa++eYblSxZMk2CO27cOHl5eenFF1/MtK8lS5aoWLFiWUos75Q6wpzRZ7B3797au3ev5dUwdypWrJiqVaumBQsWWP3N3L9/v3766Se1atUq0/6Tk5OVkJCQpdfnAHkFI5YA8qQyZcroiy++UNeuXVWxYkX17NlTlStXVkJCgn755RctW7bM8q7H//3vf3JwcFDbtm3Vr18/Xb9+XZ9++qmKFi2qc+fOZdhHgQIFdO7cOcv70zITHR0tV1dXJSUlaefOnVq4cKHat2+f7pemhg0bql+/fgoLC1N0dLT+97//KX/+/Dpy5IiWLVumGTNm6KmnnrLp/FSoUEFlypTRsGHDdPbsWbm7u2v58uXpvidz5syZeuKJJ1SjRg298MILKl26tE6cOKHvvvsuzfvkMpM/f35NnjxZvXr1UsOGDdW9e3fL60Z8fX01ZMiQTPdv06aNxo8fr169eql+/frat2+fFi1alGHCVLBgQT3xxBPq1auXLly4oOnTp8vf31/PP/+8pH+T77lz56ply5YKCAhQr1699Nhjj+ns2bNav3693N3d7zoSfacLFy5o5syZWrZsmRo0aKDly5dbth0/flyStHXrVtWoUcPq2bnWrVurUKFCWrZsmVq2bJnm+doePXpo6dKlevHFF7V+/XoFBQUpOTlZBw8e1NKlS/Xjjz+mOzpasWJFXbp0KUsj31u3btWlS5cst8JGRkZajXLnRDwZ8fb21nvvvae+ffvq2WefVatWre7pM5oV7u7umjNnjnr06KEaNWqoW7duKlKkiE6dOqXvvvtOQUFBmjVrVpbaKlKkiEaOHKlx48apRYsWateunQ4dOqTZs2erdu3altfEpCpevLgmT56sEydOqFy5clqyZImio6P1ySefpHl10E8//aQJEyak+9zwnX766ac071zNilGjRqlly5YKDg5Wt27dtHDhQl2/fl12dnZq06aNXnrpJf3000/avHlzmvdtpva7aNEiOTg4pNv+jh07NHr0aP3www/66KOPsjSqferUKf3www+WW2EnTJigUqVKqXr16unWf/755/X0009n+hzze++9p5YtW6pevXrq06eP5XUjHh4eVu8FTfX5559L+vdW2JUrV+rEiRPpvrMYyLNyYypaAHhYHD582Hj++ecNX19fw8HBwXBzczOCgoKMDz74wDLVvmEYxqpVq4wqVaoYjo6Ohq+vrzF58mRj/vz5aabFv/N1InfK6HUjqYu9vb1RqlQpY9CgQcbff/9tGEba142k+uSTT4yaNWsaTk5OhpubmxEYGGgMHz7c+PPPP+/5PKT3KoMDBw4YwcHBhqurq1G4cGHj+eefN/bs2ZPuawP2799vdOzY0fD09DQcHR2N8uXLG6NHj87wHKT3upFUS5YsMapXr26YzWajYMGCRkhIiHHmzJm7HsOtW7eMoUOHGsWKFTOcnJyMoKAgY+vWrWlehZF6rF9++aUxcuRIo2jRooaTk5PRunXrdF9RsXv3bqNTp05GoUKFDLPZbJQqVcro0qWLERkZaamT1deN3Hm9M1rSex1G//79DUnGF198ke7xJyQkGJMnTzYCAgIMs9lsFChQwKhZs6Yxbtw4IzY21lJPd3l1w53bU1//kLo4ODgY/v7+xltvvWV5pcOd5/he4klPeu0ZhmE0adLEKFmypHHt2jXDMO7tM3r78aV3flOtX7/eaN68ueHh4WE4OjoaZcqUMUJDQ61ezXK3142kmjVrllGhQgUjf/78hpeXl/HSSy9Zfq9vP9aAgABjx44dRr169QxHR0ejVKlSxqxZs9LEJckoVqyYcePGjUyPKfXzeOcrldL7Pc/IvHnzjMcee8zw8PAwJk2aZLRu3dooVaqUsWTJEqNYsWJGwYIFrV7jYxj//7NSrVo1q1f0HD9+3OqaTJ482ahdu3a6r0bK6HUjqYvJZDK8vb2NTp06GTExMWmOLaNXN2W0fe3atUZQUJDh5ORkuLu7G23btjUOHDhgVSf1fKYuTk5ORqVKlYxp06Zl+FolIC8yGcY93qsEAMB/WFRUlBo3bqxly5bZPLKb3b4z+6c3NDRUvr6+aUZMhgwZonnz5un8+fNydna+z5HiQWnUqJEuXbqUI88p309t2rTR/v37LbfCAsCdeMYSAICH3K1bt/T555+rc+fOJJUAgIcSz1gCAPCAeHl5KSQkJNM69evXt8wse/HiRa1du1ZfffWVLl++bDV5DQAADxMSSwAAHpCKFStaJgDJyAsvvGD5+cCBAwoJCVHRokU1c+bMDN+nCQBAbuMZSwAAAACATXjGEgAAAABgExJLAAAAAIBNeMYSaaSkpOjPP/+Um5tbll5aDAAAAODRZBiGrl27puLFiytfvozHJUkskcaff/4pHx+f3A4DAAAAwEPi9OnTKlGiRIbbSSyRhpubm6R/Pzzu7u65HA0AAACA3BIXFycfHx9LjpAREkukkXr7q7u7O4klAAAAgLs+IkdiiQx1rPKi7PM55HYYAAAAQJ7x47GI3A4hW5gVFgAAAABgExJLAAAAAIBNSCwBAAAAADYhsQQAAAAA2ITEEgAAAABgExJLAAAAAIBNSCxzwF9//aWXXnpJJUuWlNlslre3t5o3b64tW7bc9759fX01ffr0+94PAAAAAGSE91jmgM6dOyshIUELFiyQn5+fLly4oMjISF2+fPm+9ZmQkCAHB94xCQAAACD3MWJpo6tXr2rTpk2aPHmyGjdurFKlSqlOnToaOXKk2rVrJ0kymUyaM2eOWrZsKScnJ/n5+emrr76yamffvn1q0qSJnJycVKhQIb3wwgu6fv26ZXtoaKg6dOigCRMmqHjx4ipfvrwaNWqkkydPasiQITKZTDKZTJKkkydPqm3btipQoIBcXFwUEBCgNWvWPLiTAgAAACBPIbG0kaurq1xdXbVy5UrFx8dnWG/06NHq3Lmz9uzZo5CQEHXr1k0xMTGSpBs3bqh58+YqUKCAtm/frmXLlmnt2rUaOHCgVRuRkZE6dOiQfv75Z61evVorVqxQiRIlNH78eJ07d07nzp2TJA0YMEDx8fHauHGj9u3bp8mTJ8vV1TXD2OLj4xUXF2e1AAAAAEBWkVjayN7eXhEREVqwYIE8PT0VFBSkUaNGae/evVb1nn76afXt21flypXT22+/rVq1aumDDz6QJH3xxRe6deuWFi5cqMqVK6tJkyaaNWuWPvvsM124cMHShouLi+bOnauAgAAFBASoYMGCsrOzk5ubm7y9veXt7S1JOnXqlIKCghQYGCg/Pz+1adNGDRo0yPAYwsLC5OHhYVl8fHzuw5kCAAAA8KgiscwBnTt31p9//qlVq1apRYsWioqKUo0aNRQREWGpU69ePat96tWrZxmxjImJUdWqVeXi4mLZHhQUpJSUFB06dMhSFhgYmKXnKgcNGqR33nlHQUFBGjNmTJok904jR45UbGysZTl9+nRWDhsAAAAAJJFY5hhHR0c1a9ZMo0eP1i+//KLQ0FCNGTMmR/u4PfHMTN++fXXs2DH16NFD+/btsxodTY/ZbJa7u7vVAgAAAABZRWJ5n1SqVEk3btywrP/6669W23/99VdVrFhRklSxYkXt2bPHqv6WLVuUL18+lS9fPtN+HBwclJycnKbcx8dHL774olasWKGhQ4fq008/teVwAAAAACBDJJY2unz5spo0aaLPP/9ce/fu1fHjx7Vs2TK9++67at++vaXesmXLNH/+fB0+fFhjxozRtm3bLJPzhISEyNHRUc8995z279+v9evX6+WXX1aPHj3k5eWVaf++vr7auHGjzp49q0uXLkmSBg8erB9//FHHjx/Xrl27tH79eksSCwAAAAA5jfdY2sjV1VV169bVtGnTdPToUSUmJsrHx0fPP/+8Ro0aZak3btw4LV68WP3791exYsX05ZdfqlKlSpIkZ2dn/fjjj3rllVdUu3ZtOTs7q3Pnzpo6depd+x8/frz69eunMmXKKD4+XoZhKDk5WQMGDNCZM2fk7u6uFi1aaNq0afftHAAAAADI20yGYRi5HcSjzmQy6euvv1aHDh1yO5QsiYuLk4eHh5qU6i77fHefLAgAAABAzvjxWERuh2AlNTeIjY3NdC4WboUFAAAAANiExBIAAAAAYBOesXwAuNsYAAAAwKOMEUsAAAAAgE1ILAEAAAAANuFWWGTo670fZTrzEwAAAABIjFgCAAAAAGxEYgkAAAAAsAmJJQAAAADAJiSWAAAAAACbMHkPMvRUo9eV386c22EAAAAAj4zvtk/L7RDuC0YsAQAAAAA2IbEEAAAAANiExBIAAAAAYBMSSwAAAACATUgsAQAAAAA2IbEEAAAAANiExDITY8eOVbVq1XKtf5PJpJUrV+Za/wAAAACQFY98Yrl161bZ2dmpdevW97zvsGHDFBkZeR+ispZRAnvu3Dm1bNnyvvcPAAAAALZ45BPLefPm6eWXX9bGjRv1559/3tO+rq6uKlSo0H2K7O68vb1lNptzrX8AAAAAyIpHOrG8fv26lixZopdeekmtW7dWRESEZVtUVJRMJpMiIyNVq1YtOTs7q379+jp06JClzp0jiaGhoerQoYMmTpwoLy8veXp6avz48UpKStJrr72mggULqkSJEgoPD7eKY8SIESpXrpycnZ3l5+en0aNHKzExUZIUERGhcePGac+ePTKZTDKZTJY477wVdt++fWrSpImcnJxUqFAhvfDCC7p+/Xqa+N5//30VK1ZMhQoV0oABAyx9AQAAAMD98EgnlkuXLlWFChVUvnx5Pfvss5o/f74Mw7Cq88Ybb2jKlCnasWOH7O3t1bt370zbXLdunf78809t3LhRU6dO1ZgxY9SmTRsVKFBAv/32m1588UX169dPZ86csezj5uamiIgIHThwQDNmzNCnn36qadOmSZK6du2qoUOHKiAgQOfOndO5c+fUtWvXNP3euHFDzZs3V4ECBbR9+3YtW7ZMa9eu1cCBA63qrV+/XkePHtX69eu1YMECRUREWCXU6YmPj1dcXJzVAgAAAABZ9UgnlvPmzdOzzz4rSWrRooViY2O1YcMGqzoTJkxQw4YNValSJb3++uv65ZdfdOvWrQzbLFiwoGbOnKny5curd+/eKl++vG7evKlRo0apbNmyGjlypBwcHLR582bLPm+++abq168vX19ftW3bVsOGDdPSpUslSU5OTnJ1dZW9vb28vb3l7e0tJyenNP1+8cUXunXrlhYuXKjKlSurSZMmmjVrlj777DNduHDBUq9AgQKaNWuWKlSooDZt2qh169Z3fU40LCxMHh4elsXHx+fuJxcAAAAA/s8jm1geOnRI27ZtU/fu3SVJ9vb26tq1q+bNm2dVr0qVKpafixUrJkm6ePFihu0GBAQoX77/f9q8vLwUGBhoWbezs1OhQoWs2liyZImCgoLk7e0tV1dXvfnmmzp16tQ9HU9MTIyqVq0qFxcXS1lQUJBSUlKsbt8NCAiQnZ2d1TFldjySNHLkSMXGxlqW06dP31NsAAAAAPI2+9wO4H6ZN2+ekpKSVLx4cUuZYRgym82aNWuWpSx//vyWn00mkyQpJSUlw3Zvr5+6T3plqW1s3bpVISEhGjdunJo3by4PDw8tXrxYU6ZMyf7BZSKzWDJiNpuZJAgAAABAtj2SiWVSUpIWLlyoKVOm6H//+5/Vtg4dOujLL79UhQoVHkgsv/zyi0qVKqU33njDUnby5EmrOg4ODkpOTs60nYoVKyoiIkI3btywjFpu2bJF+fLlU/ny5XM+cAAAAADIokfyVtjVq1fr77//Vp8+fVS5cmWrpXPnzmluh72fypYtq1OnTmnx4sU6evSoZs6cqa+//tqqjq+vr44fP67o6GhdunRJ8fHxadoJCQmRo6OjnnvuOe3fv1/r16/Xyy+/rB49esjLy+tBHQ4AAAAApPFIJpbz5s1TcHCwPDw80mzr3LmzduzYob179z6QWNq1a6chQ4Zo4MCBqlatmn755ReNHj06TUwtWrRQ48aNVaRIEX355Zdp2nF2dtaPP/6oK1euqHbt2nrqqafUtGlTq9t6AQAAACA3mIw737+BPC8uLk4eHh5qVv0l5bfj2UsAAAAgp3y3fVpuh3BPUnOD2NhYubu7Z1jvkRyxBAAAAAA8OCSWAAAAAACbkFgCAAAAAGxCYgkAAAAAsAmJJQAAAADAJva5HQAeXl9FTcp05icAAAAAkBixBAAAAADYiMQSAAAAAGATEksAAAAAgE1ILAEAAAAANmHyHmTo6Y5vK7+9ObfDAAAAAGy2+sd3cjuERxojlgAAAAAAm5BYAgAAAABsQmIJAAAAALAJiSUAAAAAwCYklgAAAAAAm5BYAgAAAABsQmL5EIuIiJCnp2duhwEAAAAAmSKxzGFbt26VnZ2dWrdufU/7+fr6avr06VZlXbt21eHDh3MwOgAAAADIeSSWOWzevHl6+eWXtXHjRv355582teXk5KSiRYvmUGQAAAAAcH+QWOag69eva8mSJXrppZfUunVrRUREWG3/9ttvVbt2bTk6Oqpw4cLq2LGjJKlRo0Y6efKkhgwZIpPJJJPJJCn9W2HnzJmjMmXKyMHBQeXLl9dnn31mtd1kMmnu3Lnq2LGjnJ2dVbZsWa1ateq+HTMAAAAAkFjmoKVLl6pChQoqX768nn32Wc2fP1+GYUiSvvvuO3Xs2FGtWrXS7t27FRkZqTp16kiSVqxYoRIlSmj8+PE6d+6czp07l277X3/9tV555RUNHTpU+/fvV79+/dSrVy+tX7/eqt64cePUpUsX7d27V61atVJISIiuXLmSYdzx8fGKi4uzWgAAAAAgq0gsc9C8efP07LPPSpJatGih2NhYbdiwQZI0YcIEdevWTePGjVPFihVVtWpVjRw5UpJUsGBB2dnZyc3NTd7e3vL29k63/ffff1+hoaHq37+/ypUrp1dffVWdOnXS+++/b1UvNDRU3bt3l7+/vyZOnKjr169r27ZtGcYdFhYmDw8Py+Lj45MTpwMAAABAHkFimUMOHTqkbdu2qXv37pIke3t7de3aVfPmzZMkRUdHq2nTpjb1ERMTo6CgIKuyoKAgxcTEWJVVqVLF8rOLi4vc3d118eLFDNsdOXKkYmNjLcvp06dtihMAAABA3mKf2wE8KubNm6ekpCQVL17cUmYYhsxms2bNmiUnJ6cHFkv+/Pmt1k0mk1JSUjKsbzabZTab73dYAAAAAB5RjFjmgKSkJC1cuFBTpkxRdHS0ZdmzZ4+KFy+uL7/8UlWqVFFkZGSGbTg4OCg5OTnTfipWrKgtW7ZYlW3ZskWVKlXKkeMAAAAAgOxgxDIHrF69Wn///bf69OkjDw8Pq22dO3fWvHnz9N5776lp06YqU6aMunXrpqSkJK1Zs0YjRoyQ9O97LDdu3Khu3brJbDarcOHCafp57bXX1KVLF1WvXl3BwcH69ttvtWLFCq1du/aBHCcAAAAApIcRyxwwb948BQcHp0kqpX8Tyx07dqhgwYJatmyZVq1apWrVqqlJkyZWE+qMHz9eJ06cUJkyZVSkSJF0++nQoYNmzJih999/XwEBAfr4448VHh6uRo0a3a9DAwAAAIC7Mhmp78MA/k9cXJw8PDz0vybDlN+eZy8BAADw37f6x3dyO4T/pNTcIDY2Vu7u7hnWY8QSAAAAAGATEksAAAAAgE1ILAEAAAAANiGxBAAAAADYhNeNIEPLvh6d6QO6AAAAACAxYgkAAAAAsBGJJQAAAADAJiSWAAAAAACbkFgCAAAAAGxCYgkAAAAAsAmzwiJDHXuEyT6/Y26HAQAAAGTJj1+Nye0Q8ixGLAEAAAAANiGxBAAAAADYhMQSAAAAAGATEksAAAAAgE1ILAEAAAAANiGxBAAAAADYhMTyPyAiIkKenp7Z3j80NFQdOnTIsXgAAAAA4HYklg/IX3/9pZdeekklS5aU2WyWt7e3mjdvri1bttx1365du+rw4cOZ1hk7dqxMJlOaZe3atZoxY4YiIiJy6EgAAAAAwJp9bgeQV3Tu3FkJCQlasGCB/Pz8dOHCBUVGRury5ct33dfJyUlOTk53rRcQEKC1a9dalRUsWFAODg7ZjhsAAAAA7obE8gG4evWqNm3apKioKDVs2FCSVKpUKdWpU8eqzogRI7Ry5UrFxsbK399fkyZNUps2bRQREaHBgwfr6tWrmfZjb28vb2/vNOWhoaG6evWqVq5cmZOHBQAAAACSSCwfCFdXV7m6umrlypV6/PHHZTabrbanpKSoZcuWunbtmj7//HOVKVNGBw4ckJ2d3QOJLz4+XvHx8Zb1uLi4B9IvAAAAgEcDieUDYG9vr4iICD3//PP66KOPVKNGDTVs2FDdunVTlSpVtHbtWm3btk0xMTEqV66cJMnPz++e+9m3b59cXV0t65UqVdK2bdvuul9YWJjGjRt3z/0BAAAAgMTkPQ9M586d9eeff2rVqlVq0aKFoqKiVKNGDUVERCg6OlolSpSwJJWZOXXqlGUE1NXVVRMnTrRsK1++vKKjoy3L8uXLsxTbyJEjFRsba1lOnz6d7eMEAAAAkPcwYvkAOTo6qlmzZmrWrJlGjx6tvn37asyYMRo2bFiW2yhevLiio6Mt6wULFrT87ODgIH9//3uOy2w2p7k9FwAAAACyihHLXFSpUiXduHFDVapU0ZkzZ+76ShHp39tq/f39LcvtiSUAAAAA5AZGLB+Ay5cv6+mnn1bv3r1VpUoVubm5aceOHXr33XfVvn17NWzYUA0aNFDnzp01depU+fv76+DBgzKZTGrRokVuhw8AAAAAmSKxfABcXV1Vt25dTZs2TUePHlViYqJ8fHz0/PPPa9SoUZKk5cuXa9iwYerevbtu3Lhhed0IAAAAADzsTIZhGLkdBB4ucXFx8vDwUJN2r8s+v2NuhwMAAABkyY9fjcntEB45qblBbGys3N3dM6zHM5YAAAAAAJuQWAIAAAAAbEJiCQAAAACwCYklAAAAAMAmzAqLDH392chMH9AFAAAAAIkRSwAAAACAjUgsAQAAAAA2IbEEAAAAANiExBIAAAAAYBMSSwAAAACATZgVFhlq/eJk2Ts45nYYAAAAQIbWR4zO7RAgRiwBAAAAADYisQQAAAAA2ITEEgAAAABgExJLAAAAAIBNSCwBAAAAADYhsQQAAAAA2ITE8j/I19dX06dPt6ybTCatXLky1+IBAAAAkLeRWOaA0NBQmUymNMsff/xxX/rbvn27XnjhhfvSNgAAAADcK/vcDuBR0aJFC4WHh1uVFSlS5L70db/aBQAAAIDsYMQyh5jNZnl7e1stM2bMUGBgoFxcXOTj46P+/fvr+vXrln0iIiLk6emp1atXq3z58nJ2dtZTTz2lmzdvasGCBfL19VWBAgU0aNAgJScnW/a781bY2zVp0kQDBw60Kvvrr7/k4OCgyMjI+3LsAAAAAPI2Esv7KF++fJo5c6Z+//13LViwQOvWrdPw4cOt6ty8eVMzZ87U4sWL9cMPPygqKkodO3bUmjVrtGbNGn322Wf6+OOP9dVXX2Wpz759++qLL75QfHy8pezzzz/XY489piZNmqS7T3x8vOLi4qwWAAAAAMgqEsscsnr1arm6ulqWp59+WoMHD1bjxo3l6+urJk2a6J133tHSpUut9ktMTNScOXNUvXp1NWjQQE899ZQ2b96sefPmqVKlSmrTpo0aN26s9evXZymOTp06SZK++eYbS1lERITlOdD0hIWFycPDw7L4+Phk8ywAAAAAyIt4xjKHNG7cWHPmzLGsu7i4aO3atQoLC9PBgwcVFxenpKQk3bp1Szdv3pSzs7MkydnZWWXKlLHs5+XlJV9fX7m6ulqVXbx4MUtxODo6qkePHpo/f766dOmiXbt2af/+/Vq1alWG+4wcOVKvvvqqZT0uLo7kEgAAAECWMWKZQ1xcXOTv729Z4uPj1aZNG1WpUkXLly/Xzp079eGHH0qSEhISLPvlz5/fqh2TyZRuWUpKSpZj6du3r37++WedOXNG4eHhatKkiUqVKpVhfbPZLHd3d6sFAAAAALKKEcv7ZOfOnUpJSdGUKVOUL9+/+fudt8HeL4GBgapVq5Y+/fRTffHFF5o1a9YD6RcAAABA3sSI5X3i7++vxMREffDBBzp27Jg+++wzffTRRw+s/759+2rSpEkyDEMdO3Z8YP0CAAAAyHtILO+TqlWraurUqZo8ebIqV66sRYsWKSws7IH13717d9nb26t79+5ydHR8YP0CAAAAyHtMhmEYuR0Ect6JEydUpkwZbd++XTVq1LinfePi4uTh4aEnuo+SvQNJKQAAAB5e6yNG53YIj7TU3CA2NjbTuVh4xvIRk5iYqMuXL+vNN9/U448/fs9JJQAAAADcK26FfcRs2bJFxYoV0/bt2x/oM50AAAAA8i5GLB8xjRo1Enc3AwAAAHiQGLEEAAAAANiEEUtk6LuPRmT6gC4AAAAASIxYAgAAAABsRGIJAAAAALAJiSUAAAAAwCYklgAAAAAAm5BYAgAAAABswqywyFCzVyfL3sExt8MAAADAf9yW2aNzOwTcZ4xYAgAAAABsQmIJAAAAALAJiSUAAAAAwCYklgAAAAAAm5BYAgAAAABsQmIJAAAAALAJiSUAAAAAwCYkltkUGhoqk8kkk8mk/Pnzy8vLS82aNdP8+fOVkpKS2+EBAAAAwANDYmmDFi1a6Ny5czpx4oS+//57NW7cWK+88oratGmjpKSkdPdJTEx8wFECAAAAwP1FYmkDs9ksb29vPfbYY6pRo4ZGjRqlb775Rt9//70iIiIkSSaTSXPmzFG7du3k4uKiCRMmKDk5WX369FHp0qXl5OSk8uXLa8aMGVZth4aGqkOHDpo4caK8vLzk6emp8ePHKykpSa+99poKFiyoEiVKKDw83Gq/ESNGqFy5cnJ2dpafn59Gjx5NMgsAAADgvrLP7QAeNU2aNFHVqlW1YsUK9e3bV5I0duxYTZo0SdOnT5e9vb1SUlJUokQJLVu2TIUKFdIvv/yiF154QcWKFVOXLl0sba1bt04lSpTQxo0btWXLFvXp00e//PKLGjRooN9++01LlixRv3791KxZM5UoUUKS5ObmpoiICBUvXlz79u3T888/Lzc3Nw0fPjzDmOPj4xUfH29Zj4uLu09nBwAAAMCjyGQYhpHbQfwXhYaG6urVq1q5cmWabd26ddPevXt14MABmUwmDR48WNOmTcu0vYEDB+r8+fP66quvLO1HRUXp2LFjypfv34HlChUqqGjRotq4caMkKTk5WR4eHpo7d666deuWbrvvv/++Fi9erB07dmTY99ixYzVu3Lg05XX6jJK9g2OmcQMAAAB3s2X26NwOAdkUFxcnDw8PxcbGyt3dPcN6jFjeB4ZhyGQyWdZr1aqVps6HH36o+fPn69SpU/rnn3+UkJCgatWqWdUJCAiwJJWS5OXlpcqVK1vW7ezsVKhQIV28eNFStmTJEs2cOVNHjx7V9evXlZSUlOkHQJJGjhypV1991bIeFxcnHx+fLB8vAAAAgLyNZyzvg5iYGJUuXdqy7uLiYrV98eLFGjZsmPr06aOffvpJ0dHR6tWrlxISEqzq5c+f32o9dQbaO8tSZ6HdunWrQkJC1KpVK61evVq7d+/WG2+8kabdO5nNZrm7u1stAAAAAJBVjFjmsHXr1mnfvn0aMmRIhnW2bNmi+vXrq3///payo0eP2tz3L7/8olKlSumNN96wlJ08edLmdgEAAAAgMySWNoiPj9f58+eVnJysCxcu6IcfflBYWJjatGmjnj17Zrhf2bJltXDhQv34448qXbq0PvvsM23fvt1qlDM7ypYtq1OnTmnx4sWqXbu2vvvuO3399dc2tQkAAAAAd8OtsDb44YcfVKxYMfn6+qpFixZav369Zs6cqW+++UZ2dnYZ7tevXz916tRJXbt2Vd26dXX58mWr0cvsateunYYMGaKBAweqWrVq+uWXXzR6NA9KAwAAALi/mBUWaaTO/MSssAAAAMgJzAr735XVWWEZsQQAAAAA2ITEEgAAAABgExJLAAAAAIBNSCwBAAAAADbhdSPI0M9TR2T6gC4AAAAASIxYAgAAAABsRGIJAAAAALAJiSUAAAAAwCYklgAAAAAAm5BYAgAAAABswqywyFDjNybLzuyY22EAAADgP2Lb+6NzOwTkEkYsAQAAAAA2IbEEAAAAANiExBIAAAAAYBMSSwAAAACATUgsAQAAAAA2IbEEAAAAANiExBIAAAAAYJNcTSxDQ0NlMplkMpmUP39+eXl5qVmzZpo/f75SUlJyM7QHJiIiQp6enrkdBgAAAABkW66PWLZo0ULnzp3TiRMn9P3336tx48Z65ZVX1KZNGyUlJeV2eP8ZhmFwvgAAAADkilxPLM1ms7y9vfXYY4+pRo0aGjVqlL755ht9//33ioiIkCSdOnVK7du3l6urq9zd3dWlSxdduHDBqp1vv/1WtWvXlqOjowoXLqyOHTtatplMJq1cudKqvqenp6X9EydOyGQyaenSpXryySfl5OSk2rVr6/Dhw9q+fbtq1aolV1dXtWzZUn/99ZdVO3PnzlXFihXl6OioChUqaPbs2ZZtqe2uWLFCjRs3lrOzs6pWraqtW7dKkqKiotSrVy/FxsZaRm7Hjh0rSfrss89Uq1Ytubm5ydvbW88884wuXrxoaTsqKkomk0nff/+9atasKbPZrM8//1z58uXTjh07rGKcPn26SpUqleEocHx8vOLi4qwWAAAAAMiqXE8s09OkSRNVrVpVK1asUEpKitq3b68rV65ow4YN+vnnn3Xs2DF17drVUv+7775Tx44d1apVK+3evVuRkZGqU6fOPfc7ZswYvfnmm9q1a5fs7e31zDPPaPjw4ZoxY4Y2bdqkP/74Q2+99Zal/qJFi/TWW29pwoQJiomJ0cSJEzV69GgtWLDAqt033nhDw4YNU3R0tMqVK6fu3bsrKSlJ9evX1/Tp0+Xu7q5z587p3LlzGjZsmCQpMTFRb7/9tvbs2aOVK1fqxIkTCg0NTRPz66+/rkmTJikmJkbt2rVTcHCwwsPDreqEh4crNDRU+fKlf7nDwsLk4eFhWXx8fO753AEAAADIu+xzO4CMVKhQQXv37lVkZKT27dun48ePWxKehQsXKiAgQNu3b1ft2rU1YcIEdevWTePGjbPsX7Vq1Xvuc9iwYWrevLkk6ZVXXlH37t0VGRmpoKAgSVKfPn0so5zSv4nolClT1KlTJ0lS6dKldeDAAX388cd67rnnrNpt3bq1JGncuHEKCAjQH3/8oQoVKsjDw0Mmk0ne3t5WsfTu3dvys5+fn2bOnKnatWvr+vXrcnV1tWwbP368mjVrZlnv27evXnzxRU2dOlVms1m7du3Svn379M0332R43CNHjtSrr75qWY+LiyO5BAAAAJBlD+WIpfTvM4Mmk0kxMTHy8fGxSnQqVaokT09PxcTESJKio6PVtGlTm/usUqWK5WcvLy9JUmBgoFVZ6u2oN27c0NGjR9WnTx+5urpalnfeeUdHjx7NsN1ixYpJktVtrenZuXOn2rZtq5IlS8rNzU0NGzaU9O9twberVauW1XqHDh1kZ2enr7/+WtK/kwM1btxYvr6+GfZlNpvl7u5utQAAAABAVj20I5YxMTEqXbp0luo6OTllut1kMskwDKuyxMTENPXy589vtU96ZanPKV6/fl2S9Omnn6pu3bpW7djZ2d213cxmvb1x44aaN2+u5s2ba9GiRSpSpIhOnTql5s2bKyEhwaqui4uL1bqDg4N69uyp8PBwderUSV988YVmzJiRYV8AAAAAYKuHMrFct26d9u3bpyFDhqhEiRI6ffq0Tp8+bRm1PHDggK5evapKlSpJ+ndEMDIyUr169Uq3vSJFiujcuXOW9SNHjujmzZs2xejl5aXixYvr2LFjCgkJyXY7Dg4OSk5Otio7ePCgLl++rEmTJlmO+c4JeTLTt29fVa5cWbNnz1ZSUpLlVl0AAAAAuB9yPbGMj4/X+fPnlZycrAsXLuiHH35QWFiY2rRpo549eypfvnwKDAxUSEiIpk+frqSkJPXv318NGza03AY6ZswYNW3aVGXKlFG3bt2UlJSkNWvWaMSIEZL+nQxo1qxZqlevnpKTkzVixAirUcTsGjdunAYNGiQPDw+1aNFC8fHx2rFjh/7++2+rZxYz4+vrq+vXrysyMlJVq1aVs7OzSpYsKQcHB33wwQd68cUXtX//fr399ttZjqtixYp6/PHHNWLECPXu3fuuI7oAAAAAYItcf8byhx9+ULFixeTr66sWLVpo/fr1mjlzpr755hvZ2dnJZDLpm2++UYECBdSgQQMFBwfLz89PS5YssbTRqFEjLVu2TKtWrVK1atXUpEkTbdu2zbJ9ypQp8vHx0ZNPPqlnnnlGw4YNk7Ozs82x9+3bV3PnzlV4eLgCAwPVsGFDRUREZPkWXkmqX7++XnzxRXXt2lVFihTRu+++qyJFiigiIkLLli1TpUqVNGnSJL3//vv3FFufPn2UkJBgNQkQAAAAANwPJuPOhw/xSHj77be1bNky7d279573jYuLk4eHh2oMHCU7s+N9iA4AAACPom3vj87tEJDDUnOD2NjYTCf5zPURS+Ss69eva//+/Zo1a5Zefvnl3A4HAAAAQB5AYvmIGThwoGrWrKlGjRpxGywAAACAByJbk/cULFgw0+1XrlzJVjCwXUREhCIiInI7DAAAAAB5SLYSy6tXr2r69Ony8PCQYRh66aWXNH78eBUtWjSn4wMAAAAAPOSyNXlPvnz5dP78eUsi6ebmpj179sjPzy/HA8SDl9UHdAEAAAA82u7r5D3u7u66fPmyJOmff/7RP//8o2effVZnz57NXrQAAAAAgP+sbCWWderU0YABA7R48WKFhobK399fTzzxhGrUqKF169bldIwAAAAAgIdYtp6x/OCDD9SrVy/16dNHpUuX1sKFC1WnTh3VrVtXTz/9tGU0EwAAAADw6MvWM5aZOXLkiMqWLZuTTeIB4xlLAAAAANJ9fsYyMySVAAAAAJC3ZOtW2JkzZ2a6fdCgQdkKBg+XJyaEyc7smNthAAAAIBftHj8mt0PAf0C2EsvBgwfL2dlZRYsW1Z130ppMJhJLAAAAAMhDsnUr7BtvvKF8+fIpODhYv/76q44fP25Zjh07ltMxAgAAAAAeYtlKLN9++23FxMQoISFB5cuX14QJExQfH5/TsQEAAAAA/gOyPXnPY489poiICK1bt06RkZHy9/fXwoULczI2AAAAAMB/QLaesdy7d+//b8DeXtOnT9c333yjgQMHasaMGdq5c2eOBQgAAAAAeLhlK7GsVq2aTCaTZeKe23+Ojo7OseDyukaNGqlatWqaPn16bocCAAAAABnKVmJ5/PjxnI7joRcaGqoFCxakKT9y5Ij8/f3vS58rVqxQ/vz570vbAAAAAJBTspVYlipVKqfj+E9o0aKFwsPDrcqKFClyz+0kJCTIwcHhrvUKFix4z20DAAAAwIOW7cl7Dh06pIEDB6pp06Zq2rSpBg4cqEOHDuVkbA8ds9ksb29vq8XOzk4bNmxQnTp1ZDabVaxYMb3++utKSkqy7NeoUSMNHDhQgwcPVuHChdW8eXNJ0v79+9WyZUu5urrKy8tLPXr00KVLl6z2Gzx4sGX93Llzat26tZycnFS6dGl98cUX8vX1tbpV1mQyae7cuerYsaOcnZ1VtmxZrVq16r6fGwAAAAB5V7YSy+XLl6ty5crauXOnqlatqqpVq2rXrl2qXLmyli9fntMxPtTOnj2rVq1aqXbt2tqzZ4/mzJmjefPm6Z133rGqt2DBAjk4OGjLli366KOPdPXqVTVp0kTVq1fXjh079MMPP+jChQvq0qVLhn317NlTf/75p6KiorR8+XJ98sknunjxYpp648aNU5cuXbR37161atVKISEhunLlSobtxsfHKy4uzmoBAAAAgKzK1q2ww4cP18iRIzV+/Hir8jFjxmj48OHq3LlzjgT3sFm9erVcXV0t6y1btlS5cuXk4+OjWbNmyWQyqUKFCvrzzz81YsQIvfXWW8qX79/cvWzZsnr33Xct+77zzjuqXr26Jk6caCmbP3++fHx8dPjwYZUrV86q74MHD2rt2rXavn27atWqJUmaO3euypYtmybO0NBQde/eXZI0ceJEzZw5U9u2bVOLFi3SPa6wsDCNGzcum2cFAAAAQF6XrRHLc+fOqWfPnmnKn332WZ07d87moB5WjRs3VnR0tGWZOXOmYmJiVK9ePZlMJku9oKAgXb9+XWfOnLGU1axZ06qtPXv2aP369XJ1dbUsFSpUkCQdPXo0Td+HDh2Svb29atSoYSnz9/dXgQIF0tStUqWK5WcXFxe5u7unO7KZauTIkYqNjbUsp0+fzsLZAAAAAIB/ZWvEslGjRtq0aVOa2VA3b96sJ598MkcCexi5uLhkewZYFxcXq/Xr16+rbdu2mjx5cpq6xYoVy1Yfqe6cSdZkMiklJSXD+mazWWaz2aY+AQAAAORd2Uos27VrpxEjRmjnzp16/PHHJUm//vqrli1bpnHjxllNFtOuXbucifQhVbFiRS1fvlyGYVhGLbds2SI3NzeVKFEiw/1q1Kih5cuXy9fXV/b2d78M5cuXV1JSknbv3m0Z/fzjjz/0999/58yBAAAAAEA2ZSux7N+/vyRp9uzZmj17drrbpH9HypKTk20I7+HXv39/TZ8+XS+//LJlZtwxY8bo1VdftTxfmZ4BAwbo008/Vffu3TV8+HAVLFhQf/zxhxYvXqy5c+fKzs7Oqn6FChUUHBysF154QXPmzFH+/Pk1dOhQOTk5Wd2GCwAAAAAPWraesUxJScnS8qgnlZL02GOPac2aNdq2bZuqVq2qF198UX369NGbb76Z6X7FixfXli1blJycrP/9738KDAzU4MGD5enpmWFCunDhQnl5ealBgwbq2LGjnn/+ebm5ucnR0fF+HBoAAAAAZInJMAwjt4NA9pw5c0Y+Pj5au3atmjZtmmPtxsXFycPDQ4HDX5edmaQVAAAgL9s9fkxuh4BclJobxMbGyt3dPcN62RqxlKQNGzaobdu28vf3l7+/v9q1a6dNmzZltzlkwbp167Rq1SodP35cv/zyi7p16yZfX181aNAgt0MDAAAAkIdlK7H8/PPPFRwcLGdnZw0aNEiDBg2Sk5OTmjZtqi+++CKnY8T/SUxM1KhRoxQQEKCOHTuqSJEiioqKSjMLLAAAAAA8SNm6FbZixYp64YUXNGTIEKvyqVOn6tNPP1VMTEyOBYgHj1thAQAAkIpbYfO2+3or7LFjx9S2bds05e3atdPx48ez0yQAAAAA4D8qW4mlj4+PIiMj05SvXbtWPj4+NgcFAAAAAPjvyNZ7LIcOHapBgwYpOjpa9evXlyRt2bJFERERmjFjRo4GiNyz+Y2RmQ53AwAAAICUzcTypZdekre3t6ZMmaKlS5dK+ve5yyVLlqh9+/Y5GiAAAAAA4OHGeyyRRlYf0AUAAADwaLuvk/cMHz5cN27cyHZwAAAAAIBHR7YSyylTppBYAgAAAAAkZTOx5O5ZAAAAAECqbE3eg7yh/rQw2TmaczsMAACAR9qeEWNzOwTAZtlOLOfOnStXV9d0tw0aNCjbAQEAAAAA/luylViWLFlSn376abrbTCYTiSUAAAAA5CHZSixPnDiRw2EAAAAAAP6rsjV5T6qEhAQdOnRISUlJORUPAAAAAOA/JluJ5c2bN9WnTx85OzsrICBAp06dkiS9/PLLmjRpUo4GCAAAAAB4uGUrsRw5cqT27NmjqKgoOTo6WsqDg4O1ZMmSHAsOAAAAAPDwy1ZiuXLlSs2aNUtPPPGETCaTpTwgIEBHjx7NseAeZufPn9crr7wif39/OTo6ysvLS0FBQZozZ45u3ryZ2+EBAAAAwAOTrcl7/vrrLxUtWjRN+Y0bN6wSzUfVsWPHFBQUJE9PT02cOFGBgYEym83at2+fPvnkEz322GNq165dbocJAAAAAA9EtkYsa9Wqpe+++86ynppMzp07V/Xq1cuZyB5i/fv3l729vXbs2KEuXbqoYsWK8vPzU/v27fXdd9+pbdu2kqSpU6cqMDBQLi4u8vHxUf/+/XX9+nVLOxEREfL09NTq1atVvnx5OTs766mnntLNmze1YMEC+fr6qkCBAho0aJCSk5Mt+8XHx2vYsGF67LHH5OLiorp16yoqKsqy/eTJk2rbtq0KFCggFxcXBQQEaM2aNQ/s/AAAAADIW7I1Yjlx4kS1bNlSBw4cUFJSkmbMmKEDBw7ol19+0YYNG3I6xofK5cuX9dNPP2nixIlycXFJt05qop0vXz7NnDlTpUuX1rFjx9S/f38NHz5cs2fPttS9efOmZs6cqcWLF+vatWvq1KmTOnbsKE9PT61Zs0bHjh1T586dFRQUpK5du0qSBg4cqAMHDmjx4sUqXry4vv76a7Vo0UL79u1T2bJlNWDAACUkJGjjxo1ycXHRgQMH5OrqmuExxcfHKz4+3rIeFxeXE6cKAAAAQB6RrRHLJ554QtHR0UpKSlJgYKB++uknFS1aVFu3blXNmjVzOsaHyh9//CHDMFS+fHmr8sKFC8vV1VWurq4aMWKEJGnw4MFq3LixfH191aRJE73zzjtaunSp1X6JiYmaM2eOqlevrgYNGuipp57S5s2bNW/ePFWqVElt2rRR48aNtX79eknSqVOnFB4ermXLlunJJ59UmTJlNGzYMD3xxBMKDw+31AkKClJgYKD8/PzUpk0bNWjQIMNjCgsLk4eHh2Xx8fHJyVMGAAAA4BGXrRFLSSpTpow+/fTTnIzlP23btm1KSUlRSEiIZfRv7dq1CgsL08GDBxUXF6ekpCTdunVLN2/elLOzsyTJ2dlZZcqUsbTj5eUlX19fqxFGLy8vXbx4UZK0b98+JScnq1y5clb9x8fHq1ChQpKkQYMG6aWXXtJPP/2k4OBgde7cWVWqVMkw9pEjR+rVV1+1rMfFxZFcAgAAAMiybI1Y2tnZWRKdvMbf318mk0mHDh2yKvfz85O/v7+cnJwkSSdOnFCbNm1UpUoVLV++XDt37tSHH34oSUpISLDslz9/fqt2TCZTumUpKSmSpOvXr8vOzk47d+5UdHS0ZYmJidGMGTMkSX379tWxY8fUo0cP7du3T7Vq1dIHH3yQ4TGZzWa5u7tbLQAAAACQVdlKLA3DyOk4/jMKFSqkZs2aadasWbpx40aG9Xbu3KmUlBRNmTJFjz/+uMqVK6c///zT5v6rV6+u5ORkXbx4Uf7+/laLt7e3pZ6Pj49efPFFrVixQkOHDmV0GQAAAMB9k63EUlKeeK1IRmbPnq2kpCTVqlVLS5YsUUxMjA4dOqTPP/9cBw8elJ2dnfz9/ZWYmKgPPvhAx44d02effaaPPvrI5r7LlSunkJAQ9ezZUytWrNDx48e1bds2hYWFWWbqHTx4sH788UcdP35cu3bt0vr161WxYkWb+wYAAACA9GT7GcvbR8fudPurMR5FZcqU0e7duzVx4kSNHDlSZ86ckdlsVqVKlTRs2DD1799fzs7Omjp1qiZPnqyRI0eqQYMGCgsLU8+ePW3uPzw8XO+8846GDh2qs2fPqnDhwnr88cfVpk0bSf+e/wEDBujMmTNyd3dXixYtNG3aNJv7BQAAAID0mIxs3NeaL18+LV++XAULFkx3e8OGDW0ODLknLi5OHh4eChj7uuwczbkdDgAAwCNtz4ixuR0CkKHU3CA2NjbTuViyNWJpMpkUFBSkokWLZjtAAAAAAMCjgcl7AAAAAAA2yVZiuX79+gxvgwUAAAAA5C3ZuhX29mcob926ZfVeRkm8BxEAAAAA8pBsjVjevHlTAwcOVNGiReXi4qICBQpYLQAAAACAvCNbI5avvfaa1q9frzlz5qhHjx768MMPdfbsWX388ceaNGlSTseIXPLLkJGMPgMAAAC4q2wllt9++60WLlyoRo0aqVevXnryySfl7++vUqVKadGiRQoJCcnpOAEAAAAAD6ls3Qp75coV+fn5Sfr3ecorV65Ikp544glt3Lgx56IDAAAAADz0spVY+vn56fjx45KkChUqaOnSpZL+Hcn09PTMseAAAAAAAA+/bCWWvXr10p49eyRJr7/+uj788EM5OjpqyJAheu2113I0QAAAAADAw81kGIaR1crXrl2Tm5tbmvKTJ09q586d8vf3V3x8vGrXrp2jQeLBiouLk4eHh6q8P1x2TubcDgcAAOCht6v/+NwOAbgvUnOD2NjYTCf2vKcRy//973+6fv16mvJSpUqpXbt2Wrp0qYKCgu49WgAAAADAf9Y9JZbXrl1TcHCw4uLirMr379+vOnXqKCIiQitXrszJ+AAAAAAAD7l7SizXr1+vGzduqFmzZoqLi5NhGJo8ebJq1aqlChUqaN++fWrVqtX9ihUAAAAA8BC6p/dYFilSROvWrVNwcLCaNGkis9msI0eO6PPPP9dTTz11v2IEAAAAADzE7imxlP5NLiMjIxUcHKz9+/crOjpaFSpUuB+xAQAAAAD+A7L1upHChQtr3bp1qlSpkp555hn9/fffOR0XAAAAAOA/4p5GLDt16mS17u7uro0bN6pOnToKDAy0lK9YsSJnontImUwmff311+rQoUO626OiotS4cWP9/fff8vT0VEREhAYPHqyrV69m2ObYsWO1cuVKRUdH35eYAQAAAOB+uafE0sPDI8166dKlczSgh8H58+c1YcIEfffddzp79qyKFi2qatWqafDgwWratOld969fv77OnTuX5nwBAAAAwKPonhLL8PDw+xXHQ+PEiRMKCgqSp6en3nvvPQUGBioxMVE//vijBgwYoIMHD961DQcHB3l7e+doXAkJCXJwcMjRNgEAAAAgJ2TrGctHWf/+/WUymbRt2zZ17txZ5cqVU0BAgF599VX9+uuvlnqXLl1Sx44d5ezsrLJly2rVqlWWbVFRUTKZTJne+jpp0iR5eXnJzc1Nffr00a1bt6y2h4aGqkOHDpowYYKKFy+u8uXLS5JOnz6tLl26yNPTUwULFlT79u114sSJNPu9//77KlasmAoVKqQBAwYoMTExZ04QAAAAANyBxPI2V65c0Q8//KABAwbIxcUlzXZPT0/Lz+PGjVOXLl20d+9etWrVSiEhIbpy5UqW+lm6dKnGjh2riRMnaseOHSpWrJhmz56dpl5kZKQOHTqkn3/+WatXr1ZiYqKaN28uNzc3bdq0SVu2bJGrq6tatGihhIQEy37r16/X0aNHtX79ei1YsEARERGKiIjIMJ74+HjFxcVZLQAAAACQVSSWt/njjz9kGEaWXp8SGhqq7t27y9/fXxMnTtT169e1bdu2LPUzffp09enTR3369FH58uX1zjvvqFKlSmnqubi4aO7cuQoICFBAQICWLFmilJQUzZ07V4GBgapYsaLCw8N16tQpRUVFWfYrUKCAZs2apQoVKqhNmzZq3bq1IiMjM4wnLCxMHh4elsXHxydLxwEAAAAAEomlFcMwsly3SpUqlp9dXFzk7u6uixcvZmnfmJgY1a1b16qsXr16aeoFBgZaPVe5Z88e/fHHH3Jzc5Orq6tcXV1VsGBB3bp1S0ePHrXUCwgIkJ2dnWW9WLFimcY2cuRIxcbGWpbTp09n6TgAAAAAQLrHyXsedWXLlpXJZMrSBD358+e3WjeZTEpJScnReO68Hff69euqWbOmFi1alKZukSJFsh2b2WyW2Wy2MVoAAAAAeRUjlrcpWLCgmjdvrg8//FA3btxIsz2zyXjuRcWKFfXbb79Zld0+MVBGatSooSNHjqho0aLy9/e3Wni1CQAAAIDcQmJ5hw8//FDJycmqU6eOli9friNHjigmJkYzZ85M93bV7HjllVc0f/58hYeH6/DhwxozZox+//33u+4XEhKiwoULq3379tq0aZOOHz+uqKgoDRo0SGfOnMmR2AAAAADgXpFY3sHPz0+7du1S48aNNXToUFWuXFnNmjVTZGSk5syZkyN9dO3aVaNHj9bw4cNVs2ZNnTx5Ui+99NJd93N2dtbGjRtVsmRJderUSRUrVrS8qsTd3T1HYgMAAACAe2Uy7mXGGuQJcXFx8vDwUJX3h8vOiWcvAQAA7mZX//G5HQJwX6TmBrGxsZkOZjFiCQAAAACwCYklAAAAAMAmJJYAAAAAAJuQWAIAAAAAbEJiCQAAAACwiX1uB4CH16bn3+A1JgAAAADuihFLAAAAAIBNSCwBAAAAADYhsQQAAAAA2ITEEgAAAABgEybvQYZaLR4neydzbocBAADw0IrqMTG3QwAeCoxYAgAAAABsQmIJAAAAALAJiSUAAAAAwCYklgAAAAAAm5BYAgAAAABsQmIJAAAAALAJieV/3NixY1WtWrXcDgMAAABAHkZimY7z58/r5Zdflp+fn8xms3x8fNS2bVtFRkbmdmgAAAAA8NCxz+0AHjYnTpxQUFCQPD099d577ykwMFCJiYn68ccfNWDAAB08eDC3QwQAAACAhwojlnfo37+/TCaTtm3bps6dO6tcuXIKCAjQq6++ql9//VWSdOrUKbVv316urq5yd3dXly5ddOHCBUsbqbenzp8/XyVLlpSrq6v69++v5ORkvfvuu/L29lbRokU1YcIEq76vXr2qvn37qkiRInJ3d1eTJk20Z88eqzqTJk2Sl5eX3Nzc1KdPH926dcuybePGjcqfP7/Onz9vtc/gwYP15JNP5vSpAgAAAABJJJZWrly5oh9++EEDBgyQi4tLmu2enp5KSUlR+/btdeXKFW3YsEE///yzjh07pq5du1rVPXr0qL7//nv98MMP+vLLLzVv3jy1bt1aZ86c0YYNGzR58mS9+eab+u233yz7PP3007p48aK+//577dy5UzVq1FDTpk115coVSdLSpUs1duxYTZw4UTt27FCxYsU0e/Zsy/4NGjSQn5+fPvvsM0tZYmKiFi1apN69e2d43PHx8YqLi7NaAAAAACCrSCxv88cff8gwDFWoUCHDOpGRkdq3b5+++OIL1axZU3Xr1tXChQu1YcMGbd++3VIvJSVF8+fPV6VKldS2bVs1btxYhw4d0vTp01W+fHn16tVL5cuX1/r16yVJmzdv1rZt27Rs2TLVqlVLZcuW1fvvvy9PT0999dVXkqTp06erT58+6tOnj8qXL6933nlHlSpVsoqvT58+Cg8Pt6x/++23unXrlrp06ZLhMYWFhcnDw8Oy+Pj4ZOv8AQAAAMibSCxvYxjGXevExMTIx8fHKvmqVKmSPD09FRMTYynz9fWVm5ubZd3Ly0uVKlVSvnz5rMouXrwoSdqzZ4+uX7+uQoUKydXV1bIcP35cR48etfRdt25dq3jq1atntR4aGqo//vjDcttuRESEunTpku4IbKqRI0cqNjbWspw+ffqu5wEAAAAAUjF5z23Kli0rk8mUIxP05M+f32rdZDKlW5aSkiJJun79uooVK6aoqKg0bXl6ema536JFi6pt27YKDw9X6dKl9f3336fb5u3MZrPMZnOW+wAAAACA2zFieZuCBQuqefPm+vDDD3Xjxo00269evaqKFSvq9OnTVqN6Bw4c0NWrV9PclnovatSoofPnz8ve3l7+/v5WS+HChSVJFStWtHomU5JlZPJ2ffv21ZIlS/TJJ5+oTJkyCgoKynZcAAAAAHA3JJZ3+PDDD5WcnKw6depo+fLlOnLkiGJiYjRz5kzVq1dPwcHBCgwMVEhIiHbt2qVt27apZ8+eatiwoWrVqpXtfoODg1WvXj116NBBP/30k06cOKFffvlFb7zxhnbs2CFJeuWVVzR//nyFh4fr8OHDGjNmjH7//fc0bTVv3lzu7u5655131KtXr2zHBAAAAABZQWJ5Bz8/P+3atUuNGzfW0KFDVblyZTVr1kyRkZGaM2eOTCaTvvnmGxUoUEANGjRQcHCw/Pz8tGTJEpv6NZlMWrNmjRo0aKBevXqpXLly6tatm06ePCkvLy9JUteuXTV69GgNHz5cNWvW1MmTJ/XSSy+laStfvnwKDQ1VcnKyevbsaVNcAAAAAHA3JiMrM9bgP6dPnz7666+/tGrVqnveNy4uTh4eHgr6+FXZO/HsJQAAQEaiekzM7RCA+yo1N4iNjZW7u3uG9Zi85xETGxtreR1KdpJKAAAAALhXJJaPmPbt22vbtm168cUX1axZs9wOBwAAAEAeQGL5iLnbq0UAAAAAIKcxeQ8AAAAAwCaMWCJDa7qNyfQBXQAAAACQGLEEAAAAANiIxBIAAAAAYBMSSwAAAACATUgsAQAAAAA2IbEEAAAAANiEWWGRoefWvKn8zubcDgMAAOChtLTde7kdAvDQYMQSAAAAAGATEksAAAAAgE1ILAEAAAAANiGxBAAAAADYhMQSAAAAAGATEksAAAAAgE1ILAEAAAAANiGxzEWhoaEymUyaNGmSVfnKlStlMplyKSoAAAAAuDcklrnM0dFRkydP1t9//53boQAAAABAtpBY5rLg4GB5e3srLCwswzqbN2/Wk08+KScnJ/n4+GjQoEG6ceOGJGnWrFmqXLmypW7qaOdHH31k1cebb755/w4CAAAAQJ5GYpnL7OzsNHHiRH3wwQc6c+ZMmu1Hjx5VixYt1LlzZ+3du1dLlizR5s2bNXDgQElSw4YNdeDAAf3111+SpA0bNqhw4cKKioqSJCUmJmrr1q1q1KhRhjHEx8crLi7OagEAAACArCKxfAh07NhR1apV05gxY9JsCwsLU0hIiAYPHqyyZcuqfv36mjlzphYuXKhbt26pcuXKKliwoDZs2CBJioqK0tChQy3r27ZtU2JiourXr59h/2FhYfLw8LAsPj4+9+dAAQAAADySSCwfEpMnT9aCBQsUExNjVb5nzx5FRETI1dXVsjRv3lwpKSk6fvy4TCaTGjRooKioKF29elUHDhxQ//79FR8fr4MHD2rDhg2qXbu2nJ2dM+x75MiRio2NtSynT5++34cLAAAA4BFin9sB4F8NGjRQ8+bNNXLkSIWGhlrKr1+/rn79+mnQoEFp9ilZsqQkqVGjRvrkk0+0adMmVa9eXe7u7pZkc8OGDWrYsGGmfZvNZpnN5hw9HgAAAAB5B4nlQ2TSpEmqVq2aypcvbymrUaOGDhw4IH9//wz3a9iwoQYPHqxly5ZZnqVs1KiR1q5dqy1btmjo0KH3O3QAAAAAeRi3wj5EAgMDFRISopkzZ1rKRowYoV9++UUDBw5UdHS0jhw5om+++cYyeY8kValSRQUKFNAXX3xhlViuXLlS8fHxCgoKetCHAgAAACAPIbF8yIwfP14pKSmW9SpVqmjDhg06fPiwnnzySVWvXl1vvfWWihcvbqljMpn05JNPymQy6YknnrDs5+7urlq1asnFxeWBHwcAAACAvMNkGIaR20Hg4RIXFycPDw91+PJl5Xfm2UsAAID0LG33Xm6HANx3qblBbGys3N3dM6zHiCUAAAAAwCYklgAAAAAAm5BYAgAAAABsQmIJAAAAALAJ77FEhha0eifTB3QBAAAAQGLEEgAAAABgIxJLAAAAAIBNSCwBAAAAADYhsQQAAAAA2ITEEgAAAABgE2aFRYZGbhwms4tDbocBAADwUJraeFZuhwA8NBixBAAAAADYhMQSAAAAAGATEksAAAAAgE1ILAEAAAAANiGxBAAAAADYhMQSAAAAAGATEksbmUwmrVy58r73ExUVJZPJpKtXr973vgAAAADgXpBY3sX58+f18ssvy8/PT2azWT4+Pmrbtq0iIyMfaBz169fXuXPn5OHh8UD7BQAAAIC7sc/tAB5mJ06cUFBQkDw9PfXee+8pMDBQiYmJ+vHHHzVgwAAdPHjwgcXi4OAgb2/vB9YfAAAAAGQVI5aZ6N+/v0wmk7Zt26bOnTurXLlyCggI0Kuvvqpff/013X1GjBihcuXKydnZWX5+fho9erQSExMt2/fs2aPGjRvLzc1N7u7uqlmzpnbs2CFJOnnypNq2basCBQrIxcVFAQEBWrNmjaT0b4XdsmWLGjVqJGdnZxUoUEDNmzfX33//LUn66quvFBgYKCcnJxUqVEjBwcG6cePGfTpTAAAAAPIyRiwzcOXKFf3www+aMGGCXFxc0mz39PRMdz83NzdFRESoePHi2rdvn55//nm5ublp+PDhkqSQkBBVr15dc+bMkZ2dnaKjo5U/f35J0oABA5SQkKCNGzfKxcVFBw4ckKura7r9REdHq2nTpurdu7dmzJghe3t7rV+/XsnJyTp37py6d++ud999Vx07dtS1a9e0adMmGYaRblvx8fGKj4+3rMfFxd3LqQIAAACQx5FYZuCPP/6QYRiqUKHCPe335ptvWn729fXVsGHDtHjxYktieerUKb322muWdsuWLWupf+rUKXXu3FmBgYGSJD8/vwz7effdd1WrVi3Nnj3bUhYQECBJ2rVrl5KSktSpUyeVKlVKkixtpicsLEzjxo27p+MEAAAAgFTcCpuBjEb37mbJkiUKCgqSt7e3XF1d9eabb+rUqVOW7a+++qr69u2r4OBgTZo0SUePHrVsGzRokN555x0FBQVpzJgx2rt3b4b9pI5Ypqdq1apq2rSpAgMD9fTTT+vTTz+13CKbnpEjRyo2NtaynD59OhtHDgAAACCvIrHMQNmyZWUyme5pgp6tW7cqJCRErVq10urVq7V792698cYbSkhIsNQZO3asfv/9d7Vu3Vrr1q1TpUqV9PXXX0uS+vbtq2PHjqlHjx7at2+fatWqpQ8++CDdvpycnDKMw87OTj///LO+//57VapUSR988IHKly+v48ePp1vfbDbL3d3dagEAAACArCKxzEDBggXVvHlzffjhh+lOepPe+yR/+eUXlSpVSm+88YZq1aqlsmXL6uTJk2nqlStXTkOGDNFPP/2kTp06KTw83LLNx8dHL774olasWKGhQ4fq008/TTe+KlWqZPrKE5PJpKCgII0bN067d++Wg4ODJYEFAAAAgJxEYpmJDz/8UMnJyapTp46WL1+uI0eOKCYmRjNnzlS9evXS1C9btqxOnTqlxYsX6+jRo5o5c6ZVMvfPP/9o4MCBioqK0smTJ7VlyxZt375dFStWlCQNHjxYP/74o44fP65du3Zp/fr1lm13GjlypLZv367+/ftr7969OnjwoObMmaNLly7pt99+08SJE7Vjxw6dOnVKK1as0F9//ZVhWwAAAABgCybvyYSfn5927dqlCRMmaOjQoTp37pyKFCmimjVras6cOWnqt2vXTkOGDNHAgQMVHx+v1q1ba/To0Ro7dqykf29RvXz5snr27KkLFy6ocOHC6tSpk2XinOTkZA0YMEBnzpyRu7u7WrRooWnTpqUbW7ly5fTTTz9p1KhRqlOnjpycnFS3bl11795d7u7u2rhxo6ZPn664uDiVKlVKU6ZMUcuWLe/buQIAAACQd5mM7M5Sg0dWXFycPDw81P/b52V2ccjtcAAAAB5KUxvPyu0QgPsuNTeIjY3NdC4WboUFAAAAANiExBIAAAAAYBMSSwAAAACATUgsAQAAAAA2YVZYZCiswfuZPqALAAAAABIjlgAAAAAAG5FYAgAAAABsQmIJAAAAALAJiSUAAAAAwCYklgAAAAAAmzArLDI0Y2tfObrkz+0wAADAf8hrTyzK7RAA5AJGLAEAAAAANiGxBAAAAADYhMQSAAAAAGATEksAAAAAgE1ILAEAAAAANiGxBAAAAADYhMQSAAAAAGATEsscEBoaqg4dOqQpj4qKkslk0tWrVx94TAAAAADwoJBYPsQSEhLSlCUnJyslJeWe28rufgAAAABwNySWD9Dy5csVEBAgs9ksX19fTZkyxWq7r6+v3n77bfXs2VPu7u564YUXFBERIU9PT61atUqVKlWS2WzWqVOn9Pfff6tnz54qUKCAnJ2d1bJlSx05csTSVkb7AQAAAEBOI7F8QHbu3KkuXbqoW7du2rdvn8aOHavRo0crIiLCqt7777+vqlWravfu3Ro9erQk6ebNm5o8ebLmzp2r33//XUWLFlVoaKh27NihVatWaevWrTIMQ61atVJiYqKlrfT2S098fLzi4uKsFgAAAADIKvvcDuBRsXr1arm6ulqVJScnW36eOnWqmjZtakkWy5UrpwMHDui9995TaGiopV6TJk00dOhQy/qmTZuUmJio2bNnq2rVqpKkI0eOaNWqVdqyZYvq168vSVq0aJF8fHy0cuVKPf3005KUZr+MhIWFady4cdk/eAAAAAB5GiOWOaRx48aKjo62WubOnWvZHhMTo6CgIKt9goKCdOTIEasEtFatWmnadnBwUJUqVazasre3V926dS1lhQoVUvny5RUTE5PhfhkZOXKkYmNjLcvp06ezdtAAAAAAIEYsc4yLi4v8/f2tys6cOZOtdu7k5OQkk8l0z21ldT+z2Syz2XzP7QMAAACAxIjlA1OxYkVt2bLFqmzLli0qV66c7Ozs7rmtpKQk/fbbb5ayy5cv69ChQ6pUqVKOxAsAAAAAWUVi+YAMHTpUkZGRevvtt3X48GEtWLBAs2bN0rBhw+65rbJly6p9+/Z6/vnntXnzZu3Zs0fPPvusHnvsMbVv3/4+RA8AAAAAGSOxfEBq1KihpUuXavHixapcubLeeustjR8/3mrinnsRHh6umjVrqk2bNqpXr54Mw9CaNWuUP3/+nA0cAAAAAO7CZBiGkdtB4OESFxcnDw8Pjf/haTm6kKgCAICse+2JRbkdAoAclJobxMbGyt3dPcN6jFgCAAAAAGxCYgkAAAAAsAmJJQAAAADAJiSWAAAAAACb2Od2AHh4vVJvbqYP6AIAAACAxIglAAAAAMBGJJYAAAAAAJuQWAIAAAAAbEJiCQAAAACwCYklAAAAAMAmzAqLDC3d3l7OLnxEAABA+p55/OfcDgHAQ4IRSwAAAACATUgsAQAAAAA2IbEEAAAAANiExBIAAAAAYBMSSwAAAACATUgsAQAAAAA2IbHMA06cOCGTyaTo6OjcDgUAAADAI4jEMgeZTKZMl7Fjx+Z2iAAAAACQ4+xzO4BHyblz5yw/L1myRG+99ZYOHTpkKXN1dbX8bBiGkpOTZW/PJQAAAADw38aIZQ7y9va2LB4eHjKZTJb1gwcPys3NTd9//71q1qwps9mszZs36+jRo2rfvr28vLzk6uqq2rVra+3atZY2R40apbp166bpq2rVqho/frxlfe7cuapYsaIcHR1VoUIFzZ49O8txx8fHKy4uzmoBAAAAgKwisXzAXn/9dU2aNEkxMTGqUqWKrl+/rlatWikyMlK7d+9WixYt1LZtW506dUqSFBISom3btuno0aOWNn7//Xft3btXzzzzjCRp0aJFeuuttzRhwgTFxMRo4sSJGj16tBYsWJClmMLCwuTh4WFZfHx8cv7AAQAAADyySCwfsPHjx6tZs2YqU6aMChYsqKpVq6pfv36qXLmyypYtq7fffltlypTRqlWrJEkBAQGqWrWqvvjiC0sbixYtUt26deXv7y9JGjNmjKZMmaJOnTqpdOnS6tSpk4YMGaKPP/44SzGNHDlSsbGxluX06dM5f+AAAAAAHlkklg9YrVq1rNavX7+uYcOGqWLFivL09JSrq6tiYmIsI5bSv6OWqYmlYRj68ssvFRISIkm6ceOGjh49qj59+sjV1dWyvPPOO1ajnJkxm81yd3e3WgAAAAAgq5g55gFzcXGxWh82bJh+/vlnvf/++/L395eTk5OeeuopJSQkWOp0795dI0aM0K5du/TPP//o9OnT6tq1q6R/E1NJ+vTTT9M8i2lnZ3efjwYAAAAASCxz3ZYtWxQaGqqOHTtK+jdRPHHihFWdEiVKqGHDhlq0aJH++ecfNWvWTEWLFpUkeXl5qXjx4jp27JhlFBMAAAAAHiQSy1xWtmxZrVixQm3btpXJZNLo0aOVkpKSpl5ISIjGjBmjhIQETZs2zWrbuHHjNGjQIHl4eKhFixaKj4/Xjh079Pfff+vVV199UIcCAAAAII/iGctcNnXqVBUoUED169dX27Zt1bx5c9WoUSNNvaeeekqXL1/WzZs31aFDB6ttffv21dy5cxUeHq7AwEA1bNhQERERKl269AM6CgAAAAB5mckwDCO3g8DDJS4uTh4eHvp0bSM5uzCoDQAA0vfM4z/ndggA7rPU3CA2NjbTST4ZsQQAAAAA2ITEEgAAAABgExJLAAAAAIBNSCwBAAAAADZhZhZkqEvtbzJ9QBcAAAAAJEYsAQAAAAA2IrEEAAAAANiExBIAAAAAYBMSSwAAAACATUgsAQAAAAA2YVZYZGjLjoZycbXL7TAAAMBDoEGdHbkdAoCHGCOWAAAAAACbkFgCAAAAAGxCYgkAAAAAsAmJJQAAAADAJiSWAAAAAACbkFg+Anx9fTV9+vTcDgMAAABAHkVieZ+EhobKZDLpxRdfTLNtwIABMplMCg0NzZG+tm/frhdeeCFH2gIAAACAe0VieR/5+Pho8eLF+ueffyxlt27d0hdffKGSJUvmWD9FihSRs7NzjrUHAAAAAPeCxPI+qlGjhnx8fLRixQpL2YoVK1SyZElVr17dUpberazVqlXT2LFjJUmGYWjs2LEqWbKkzGazihcvrkGDBmW4/9WrV9WvXz95eXnJ0dFRlStX1urVq+/LMQIAAACAfW4H8Kjr3bu3wsPDFRISIkmaP3++evXqpaioqCy3sXz5ck2bNk2LFy9WQECAzp8/rz179qRbNyUlRS1bttS1a9f0+eefq0yZMjpw4IDs7OwybD8+Pl7x8fGW9bi4uCzHBgAAAAAklvfZs88+q5EjR+rkyZOSpC1btmjx4sX3lFieOnVK3t7eCg4OVv78+VWyZEnVqVMn3bpr167Vtm3bFBMTo3LlykmS/Pz8Mm0/LCxM48aNy3I8AAAAAHA7boW9z4oUKaLWrVsrIiJC4eHhat26tQoXLnxPbTz99NP6559/5Ofnp+eff15ff/21kpKS0q0bHR2tEiVKWJLKrBg5cqRiY2Mty+nTp+8pPgAAAAB5G4nlA9C7d29FRERowYIF6t27d5rt+fLlk2EYVmWJiYmWn318fHTo0CHNnj1bTk5O6t+/vxo0aGBVJ5WTk9M9x2c2m+Xu7m61AAAAAEBWkVg+AC1atFBCQoISExPVvHnzNNuLFCmic+fOWdbj4uJ0/PhxqzpOTk5q27atZs6cqaioKG3dulX79u1L01aVKlV05swZHT58OOcPBAAAAADSwTOWD4CdnZ1iYmIsP9+pSZMmioiIUNu2beXp6am33nrLql5ERISSk5NVt25dOTs76/PPP5eTk5NKlSqVpq2GDRuqQYMG6ty5s6ZOnSp/f38dPHhQJpNJLVq0uH8HCQAAACDPYsTyAcnsFtORI0eqYcOGatOmjVq3bq0OHTqoTJkylu2enp769NNPFRQUpCpVqmjt2rX69ttvVahQoXTbW758uWrXrq3u3burUqVKGj58uJKTk+/LcQEAAACAybjz4T7keXFxcfLw8NCayGpycc34NSUAACDvaFBnR26HACAXpOYGsbGxmc7FwoglAAAAAMAmJJYAAAAAAJuQWAIAAAAAbEJiCQAAAACwCYklAAAAAMAmvMcSGQqqtSHTmZ8AAAAAQGLEEgAAAABgI0YskUbqq03j4uJyORIAAAAAuSk1J0jNETJCYok0Ll++LEny8fHJ5UgAAAAAPAyuXbsmDw+PDLeTWCKNggULSpJOnTqV6YcHj464uDj5+Pjo9OnTPFebR3DN8x6ued7Edc97uOZ5z/2+5oZh6Nq1aypevHim9UgskUa+fP8+euvh4cEfpDzG3d2da57HcM3zHq553sR1z3u45nnP/bzmWRlsYvIeAAAAAIBNSCwBAAAAADYhsUQaZrNZY8aMkdlszu1Q8IBwzfMernnewzXPm7jueQ/XPO95WK65ybjbvLEAAAAAAGSCEUsAAAAAgE1ILAEAAAAANiGxBAAAAADYhMQSAAAAAGATEktY+fDDD+Xr6ytHR0fVrVtX27Zty+2QkE1hYWGqXbu23NzcVLRoUXXo0EGHDh2yqnPr1i0NGDBAhQoVkqurqzp37qwLFy5Y1Tl16pRat24tZ2dnFS1aVK+99pqSkpIe5KEgmyZNmiSTyaTBgwdbyrjmj56zZ8/q2WefVaFCheTk5KTAwEDt2LHDst0wDL311lsqVqyYnJycFBwcrCNHjli1ceXKFYWEhMjd3V2enp7q06ePrl+//qAPBVmQnJys0aNHq3Tp0nJyclKZMmX09ttv6/a5GLnm/30bN25U27ZtVbx4cZlMJq1cudJqe05d47179+rJJ5+Uo6OjfHx89O67797vQ0MGMrvmiYmJGjFihAIDA+Xi4qLixYurZ8+e+vPPP63ayPVrbgD/Z/HixYaDg4Mxf/584/fffzeef/55w9PT07hw4UJuh4ZsaN68uREeHm7s37/fiI6ONlq1amWULFnSuH79uqXOiy++aPj4+BiRkZHGjh07jMcff9yoX7++ZXtSUpJRuXJlIzg42Ni9e7exZs0ao3DhwsbIkSNz45BwD7Zt22b4+voaVapUMV555RVLOdf80XLlyhWjVKlSRmhoqPHbb78Zx44dM3788Ufjjz/+sNSZNGmS4eHhYaxcudLYs2eP0a5dO6N06dLGP//8Y6nTokULo2rVqsavv/5qbNq0yfD39ze6d++eG4eEu5gwYYJRqFAhY/Xq1cbx48eNZcuWGa6ursaMGTMsdbjm/31r1qwx3njjDWPFihWGJOPrr7+22p4T1zg2Ntbw8vIyQkJCjP379xtffvml4eTkZHz88ccP6jBxm8yu+dWrV43g4GBjyZIlxsGDB42tW7caderUMWrWrGnVRm5fcxJLWNSpU8cYMGCAZT05OdkoXry4ERYWlotRIadcvHjRkGRs2LDBMIx//0jlz5/fWLZsmaVOTEyMIcnYunWrYRj//pHLly+fcf78eUudOXPmGO7u7kZ8fPyDPQBk2bVr14yyZcsaP//8s9GwYUNLYsk1f/SMGDHCeOKJJzLcnpKSYnh7exvvvfeepezq1auG2Ww2vvzyS8MwDOPAgQOGJGP79u2WOt9//71hMpmMs2fP3r/gkS2tW7c2evfubVXWqVMnIyQkxDAMrvmj6M4kI6eu8ezZs40CBQpY/W0fMWKEUb58+ft8RLib9P4z4U7btm0zJBknT540DOPhuObcCgtJUkJCgnbu3Kng4GBLWb58+RQcHKytW7fmYmTIKbGxsZKkggULSpJ27typxMREq2teoUIFlSxZ0nLNt27dqsDAQHl5eVnqNG/eXHFxcfr9998fYPS4FwMGDFDr1q2trq3ENX8UrVq1SrVq1dLTTz+tokWLqnr16vr0008t248fP67z589bXXMPDw/VrVvX6pp7enqqVq1aljrBwcHKly+ffvvttwd3MMiS+vXrKzIyUocPH5Yk7dmzR5s3b1bLli0lcc3zgpy6xlu3blWDBg3k4OBgqdO8eXMdOnRIf//99wM6GmRXbGysTCaTPD09JT0c19ze5hbwSLh06ZKSk5OtvkxKkpeXlw4ePJhLUSGnpKSkaPDgwQoKClLlypUlSefPn5eDg4PlD1IqLy8vnT9/3lInvc9E6jY8fBYvXqxdu3Zp+/btabZxzR89x44d05w5c/Tqq69q1KhR2r59uwYNGiQHBwc999xzlmuW3jW9/ZoXLVrUaru9vb0KFizINX8Ivf7664qLi1OFChVkZ2en5ORkTZgwQSEhIZLENc8Dcuoanz9/XqVLl07TRuq2AgUK3Jf4Ybtbt25pxIgR6t69u9zd3SU9HNecxBLIAwYMGKD9+/dr8+bNuR0K7qPTp0/rlVde0c8//yxHR8fcDgcPQEpKimrVqqWJEydKkqpXr679+/fro48+0nPPPZfL0eF+WLp0qRYtWqQvvvhCAQEBio6O1uDBg1W8eHGuOZAHJCYmqkuXLjIMQ3PmzMntcKxwKywkSYULF5adnV2a2SEvXLggb2/vXIoKOWHgwIFavXq11q9frxIlSljKvb29lZCQoKtXr1rVv/2ae3t7p/uZSN2Gh8vOnTt18eJF1ahRQ/b29rK3t9eGDRs0c+ZM2dvby8vLi2v+iClWrJgqVapkVVaxYkWdOnVK0v+/Zpn9bff29tbFixetticlJenKlStc84fQa6+9ptdff13dunVTYGCgevTooSFDhigsLEwS1zwvyKlrzN/7/57UpPLkyZP6+eefLaOV0sNxzUksIUlycHBQzZo1FRkZaSlLSUlRZGSk6tWrl4uRIbsMw9DAgQP19ddfa926dWlufahZs6by589vdc0PHTqkU6dOWa55vXr1tG/fPqs/VKl/yO78Movc17RpU+3bt0/R0dGWpVatWgoJCbH8zDV/tAQFBaV5jdDhw4dVqlQpSVLp0qXl7e1tdc3j4uL022+/WV3zq1evaufOnZY669atU0pKiurWrfsAjgL34ubNm8qXz/rrm52dnVJSUiRxzfOCnLrG9erV08aNG5WYmGip8/PPP6t8+fLcBvsQSk0qjxw5orVr16pQoUJW2x+Ka54jUwDhkbB48WLDbDYbERERxoEDB4wXXnjB8PT0tJodEv8dL730kuHh4WFERUUZ586dsyw3b9601HnxxReNkiVLGuvWrTN27Nhh1KtXz6hXr55le+qrJ/73v/8Z0dHRxg8//GAUKVKEV0/8h9w+K6xhcM0fNdu2bTPs7e2NCRMmGEeOHDEWLVpkODs7G59//rmlzqRJkwxPT0/jm2++Mfbu3Wu0b98+3dcSVK9e3fjtt9+MzZs3G2XLluXVEw+p5557znjssccsrxtZsWKFUbhwYWP48OGWOlzz/75r164Zu3fvNnbv3m1IMqZOnWrs3r3bMgNoTlzjq1evGl5eXkaPHj2M/fv3G4sXLzacnZ153UguyeyaJyQkGO3atTNKlChhREdHW32vu32G19y+5iSWsPLBBx8YJUuWNBwcHIw6deoYv/76a26HhGySlO4SHh5uqfPPP/8Y/fv3NwoUKGA4OzsbHTt2NM6dO2fVzokTJ4yWLVsaTk5ORuHChY2hQ4caiYmJD/hokF13JpZc80fPt99+a1SuXNkwm81GhQoVjE8++cRqe0pKijF69GjDy8vLMJvNRtOmTY1Dhw5Z1bl8+bLRvXt3w9XV1XB3dzd69eplXLt27UEeBrIoLi7OeOWVV4ySJUsajo6Ohp+fn/HGG29Yfbnkmv/3rV+/Pt1/w5977jnDMHLuGu/Zs8d44oknDLPZbDz22GPGpEmTHtQh4g6ZXfPjx49n+L1u/fr1ljZy+5qbDMMwbB/3BAAAAADkVTxjCQAAAACwCYklAAAAAMAmJJYAAAAAAJuQWAIAAAAAbEJiCQAAAACwCYklAAAAAMAmJJYAAAAAAJuQWAIAAAAAbEJiCQAAAACwCYklAAAPgK+vr6ZPn25VFhUVJZPJpKtXr+ZKTAAA5BQSSwAAAACATUgsAQB4AEwm013rRERE6P+1d38hTa5xHMC/bpVFa5vNcM1iFss5kdjCG53OUVAJLkgjFOti3nShrFDGgryIBHFhUJJFSt4Eti5K8MooJxpCMWXrj9VaxihSk3QlFpi6zpWj92w7eM5kncP5fuCF1+f3e/6874Xw2/Po5HK5oM1kMiElJQU+ny/SNjY2hrKyMkilUmzZsgXFxcUYHx+PxFd2Qn+9fh03HA7jwoUL2LFjB1JTU6HX69HX1/eXa+vr60NRURHkcjkUCgXKysoEcwaDQaSkpMDlcqGwsBAbN25EXl4eBgcHBeO8ePECpaWlkEgkyMjIwMmTJ/H58+dI3Gw248yZM4I+58+fh16vF7StzPfni7u/RES/BwtLIiKiJEhPTxcUUKtx7949eL1eQdvHjx9hMpmQmpoKt9uN0dFR1NTUYGlpKZLz8+dPAIDf78fk5GTUEdwrV67g0qVLaG1txbNnz3Do0CEcOXIEgUAg7lq+ffuG+vp6jIyMoL+/HyKRCEePHkU4HBbk2e12NDQ0wOv1oqCgABaLBTMzMwCAL1++YP/+/TAYDBgZGUFfXx8+ffqE48eP/6338quHDx9icnISd+/e/cdjEBFR4lhYEhERJUFRURFu376N9+/fryp/cXERDocDDodD0N7e3g6ZTAaXy4X8/HxkZ2fDarVCq9UK+gJAZmYmlEolZDKZYIzW1lY4HA5UVlZCq9XC6XRCr9dHFaC/qqioQHl5OTQaDfR6Pbq6uvD8+XO8fPlSkFdXV4eKigrodDpcv34dMpkMN2/eBABcvXoVBoMBzc3NyMnJgcFgQFdXFwYGBvDmzZtVvZcVCwsLAAClUgmlUomtW7f+rf5ERLS2WFgSERElQWNjI7KysqBWqyGRSCCRSFBaWho3f6WArK6uFrT7fD4UFxdj/fr1cfvOzc1BJBJh06ZNMWMTExMwGo2CdqPRiFevXsUdMxAIoKqqCrt374ZUKkVWVhYARBXKBQUFkft169YhPz8/Mu7Tp08xMDAQeX6JRIKcnBwAEByrvXbtmiCnubk5aj0ru6BSqTTumomIKHnW/e4FEBER/R8oFAr09/cjFApFiqInT57gxIkTUbmhUAhNTU3o6emJ+tvMWMXin01MTCAjIwMi0dp9fmyxWKBWq9HZ2QmVSoVwOIy8vDz8+PFj1WPMz8/DYrHA6XRGxbZv3x65r66uxrlz5yI/t7W1YWhoSJD/7t07bNiwASqV6h88DRERrTXuWBIRESVRWloaNBoNNBoNMjMzY+Y0NTWhuLgYJpMpKrZ37148evQoctw1Fo/HA4PBEDMmlUqhUqkwPDwsaB8eHkZubm7MPjMzM/D7/WhsbMSBAweg0+kQCoVi5j5+/Dhyv7S0hNHRUeh0OgDAvn37MDY2hqysrMg7WLk2b94c6SeTyQSxWMdcBwcHUVhYCLFYHPc9EBFR8rCwJCIi+hf5/v07Ojo6cPHixZjxuro6zM3NobKyEiMjIwgEArh16xb8fj/m5+dx+fJldHd3w2q1xp3DbrfD6XTizp078Pv9OHv2LHw+H06fPh0zPy0tDQqFAh0dHXj79i3cbjfq6+tj5ra3t6OnpwevX79GbW0tQqEQampqAAC1tbWYnZ1FVVUVPB4PxsfHcf/+fVitViwvL6/q/SwvL2NoaAjd3d0oLy/H1NQUpqamMDs7CwCYnp5e1ThERLS2eBSWiIjoX2RxcRGnTp1CdnZ2zLhCoYDb7YbdbkdJSQnEYjH0ej2MRiMePHiAzs5O3LhxA8eOHYs7h81mw9evX9HQ0IDp6Wnk5uait7cXe/bsiZkvEongcrlgs9mQl5cHrVaLtrY2mM3mqNyWlha0tLTA5/NBo9Ggt7cX6enpABDZKXU4HDh48CAWFhagVqtx+PDhVR/b/fDhA0pKSiLPYbPZBHGtVhv5r7hERJQ8KT/525eIiIgSFAwGsWvXLni93qjvnFzrecxmM4LBYMy4XC7nd1kSEf0GPApLRERE/xlisRjbtm2LG8/IyEjiaoiIaAULSyIiIvrP2LlzJzweT9y43+9P4mqIiGgFj8ISERERERFRQrhjSURERERERAlhYUlEREREREQJYWFJRERERERECWFhSURERERERAlhYUlEREREREQJYWFJRERERERECWFhSURERERERAlhYUlEREREREQJ+QPfKu1PrT3/aQAAAABJRU5ErkJggg==",
      "text/plain": [
       "<Figure size 1000x600 with 1 Axes>"
      ]
     },
     "metadata": {},
     "output_type": "display_data"
    }
   ],
   "source": [
    "# 2  Какие категории фильмов чаще арендуются?\n",
    "query_2 = \"\"\"\n",
    "SELECT c.name, COUNT(r.rental_id) AS rentals\n",
    "FROM rental r\n",
    "JOIN inventory i ON r.inventory_id = i.inventory_id\n",
    "JOIN film f ON i.film_id = f.film_id\n",
    "JOIN film_category fc ON f.film_id = fc.film_id\n",
    "JOIN category c ON fc.category_id = c.category_id\n",
    "GROUP BY c.name\n",
    "ORDER BY rentals DESC;\n",
    "\"\"\"\n",
    "df_2 = pd.read_sql(query_2, engine)\n",
    "df_2.to_csv(\"output/top_rented_categories.csv\", index=False)\n",
    "\n",
    "# Визуализация\n",
    "plt.figure(figsize=(10, 6))\n",
    "sns.barplot(x=df_2[\"rentals\"], y=df_2[\"name\"], palette=\"viridis\")\n",
    "plt.title(\"Самые часто арендуемые категории фильмов\")\n",
    "plt.xlabel(\"Число аренд\")\n",
    "plt.ylabel(\"Категория\")\n",
    "plt.savefig(\"output/top_rented_categories.png\")\n",
    "plt.show()"
   ]
  },
  {
   "cell_type": "code",
<<<<<<< HEAD
   "execution_count": null,
=======
   "execution_count": 10,
>>>>>>> task_3
   "metadata": {},
   "outputs": [
    {
     "name": "stderr",
     "output_type": "stream",
     "text": [
<<<<<<< HEAD
      "/tmp/ipykernel_21771/1370291913.py:15: FutureWarning: \n",
=======
      "/tmp/ipykernel_22873/1956820985.py:15: FutureWarning: \n",
>>>>>>> task_3
      "\n",
      "Passing `palette` without assigning `hue` is deprecated and will be removed in v0.14.0. Assign the `y` variable to `hue` and set `legend=False` for the same effect.\n",
      "\n",
      "  sns.barplot(x=df_3[\"avg_rental_duration\"], y=df_3[\"name\"], palette=\"coolwarm\")\n"
     ]
    },
    {
     "data": {
      "image/png": "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",
      "text/plain": [
       "<Figure size 1000x600 with 1 Axes>"
      ]
     },
     "metadata": {},
     "output_type": "display_data"
    }
   ],
   "source": [
    "\n",
    "# 3️ Средняя продолжительность аренды для каждой категории\n",
    "query_3 = \"\"\"\n",
    "SELECT c.name, AVG(f.rental_duration) AS avg_rental_duration\n",
    "FROM film f\n",
    "JOIN film_category fc ON f.film_id = fc.film_id\n",
    "JOIN category c ON fc.category_id = c.category_id\n",
    "GROUP BY c.name\n",
    "ORDER BY avg_rental_duration DESC;\n",
    "\"\"\"\n",
    "df_3 = pd.read_sql(query_3, engine)\n",
    "df_3.to_csv(\"output/avg_rental_duration.csv\", index=False)\n",
    "\n",
    "# Визуализация\n",
    "plt.figure(figsize=(10, 6))\n",
    "sns.barplot(x=df_3[\"avg_rental_duration\"], y=df_3[\"name\"], palette=\"coolwarm\")\n",
    "plt.title(\"Средняя продолжительность аренды по категориям\")\n",
    "plt.xlabel(\"Среднее количество дней\")\n",
    "plt.ylabel(\"Категория\")\n",
    "plt.savefig(\"output/avg_rental_duration.png\")\n",
    "plt.show()\n",
    "\n"
   ]
  },
  {
   "cell_type": "code",
<<<<<<< HEAD
   "execution_count": 26,
   "metadata": {},
   "outputs": [
    {
     "name": "stderr",
     "output_type": "stream",
     "text": [
      "/tmp/ipykernel_21771/650071940.py:18: UserWarning: Glyph 128202 (\\N{BAR CHART}) missing from font(s) DejaVu Sans.\n",
      "  plt.savefig(\"output/monthly_rental_revenue.png\")\n",
      "/home/maksim/develops/python/MAKSIM/.venv/lib/python3.12/site-packages/IPython/core/pylabtools.py:170: UserWarning: Glyph 128202 (\\N{BAR CHART}) missing from font(s) DejaVu Sans.\n",
      "  fig.canvas.print_figure(bytes_io, **kw)\n"
     ]
    },
    {
     "data": {
      "image/png": "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",
      "text/plain": [
       "<Figure size 1000x500 with 1 Axes>"
=======
   "execution_count": 11,
   "metadata": {},
   "outputs": [
    {
     "name": "stdout",
     "output_type": "stream",
     "text": [
      "           start_date            end_date\n",
      "0 2005-05-24 22:53:30 2006-02-14 15:16:03\n"
     ]
    }
   ],
   "source": [
    "# Проверим начало и конец периода дат в таблице оплат \"payment\"\n",
    "query_check_dates = \"\"\"\n",
    "SELECT MIN(payment_date) AS start_date, MAX(payment_date) AS end_date\n",
    "FROM payment;\n",
    "\"\"\"\n",
    "\n",
    "df_dates = pd.read_sql(query_check_dates, engine)\n",
    "print(df_dates)\n"
   ]
  },
  {
   "cell_type": "code",
   "execution_count": 12,
   "metadata": {},
   "outputs": [
    {
     "data": {
      "image/png": "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",
      "text/plain": [
       "<Figure size 1200x600 with 1 Axes>"
>>>>>>> task_3
      ]
     },
     "metadata": {},
     "output_type": "display_data"
    }
   ],
   "source": [
<<<<<<< HEAD
    "# 4 Тенденции за ежемесячный доход от продаж за предыдущий год\n",
    "query_4 = \"\"\"\n",
    "SELECT DATE_TRUNC('month', payment_date) AS month, SUM(amount) AS revenue\n",
    "FROM payment\n",
    "WHERE payment_date >= NOW() - INTERVAL '1 year'\n",
    "GROUP BY month\n",
    "ORDER BY month;\n",
    "\"\"\"\n",
    "df_4 = pd.read_sql(query_4, engine)\n",
    "df_4.to_csv(\"output/monthly_rental_revenue.csv\", index=False)\n",
    "\n",
    "# Визуализация тренда доходов по месяцам\n",
    "plt.figure(figsize=(10, 5))\n",
    "sns.lineplot(data=df_4, x=\"month\", y=\"revenue\", marker=\"o\")\n",
    "plt.title(\"📊 Тенденция дохода от аренды за последний год\")\n",
    "plt.xlabel(\"Месяц\")\n",
    "plt.ylabel(\"Доход ($)\")\n",
    "plt.xticks(rotation=45)\n",
=======
    "\n",
    "\n",
    "# SQL-запрос: считаем доход по месяцам за год\n",
    "query_4 = \"\"\"\n",
    "SELECT DATE_TRUNC('month', payment_date)::DATE AS month, SUM(amount) AS revenue\n",
    "FROM payment\n",
    "WHERE payment_date >= (SELECT MIN(payment_date) FROM payment)  -- Убираем пустые периоды\n",
    "GROUP BY month\n",
    "ORDER BY month;\n",
    "\"\"\"\n",
    "\n",
    "# Выполняем запрос и преобразуем в DataFrame\n",
    "df_4 = pd.read_sql(query_4, engine)\n",
    "\n",
    "# Преобразуем дату в формат datetime\n",
    "df_4[\"month\"] = pd.to_datetime(df_4[\"month\"])\n",
    "\n",
    "# Сохраняем данные в CSV\n",
    "df_4.to_csv(\"output/monthly_rental_revenue.csv\", index=False)\n",
    "\n",
    "# Визуализация тренда доходов по месяцам\n",
    "plt.figure(figsize=(12, 6))\n",
    "sns.lineplot(data=df_4, x=\"month\", y=\"revenue\", marker=\"o\", linestyle=\"-\", color=\"b\")\n",
    "plt.title(\"Тенденция дохода от аренды за последний год\", fontsize=14)\n",
    "plt.xlabel(\"Месяц\", fontsize=12)\n",
    "plt.ylabel(\"Доход\", fontsize=12)\n",
    "plt.xticks(rotation=45)\n",
    "plt.grid(True, linestyle=\"--\", alpha=0.6)\n",
>>>>>>> task_3
    "plt.savefig(\"output/monthly_rental_revenue.png\")\n",
    "plt.show()\n"
   ]
  },
  {
   "cell_type": "code",
<<<<<<< HEAD
   "execution_count": 6,
=======
   "execution_count": 13,
>>>>>>> task_3
   "metadata": {},
   "outputs": [
    {
     "data": {
      "application/vnd.plotly.v1+json": {
       "config": {
        "plotlyServerURL": "https://plot.ly"
       },
       "data": [
        {
         "domain": {
          "x": [
           0,
           1
          ],
          "y": [
           0,
           1
          ]
         },
         "hole": 0.2,
         "hovertemplate": "store_id=%{label}<br>total_sales=%{value}<extra></extra>",
         "labels": {
          "bdata": "AgE=",
          "dtype": "i1"
         },
         "legendgroup": "",
         "name": "",
         "showlegend": true,
         "type": "pie",
         "values": {
          "bdata": "PQrXo9h34EB7FK5H+XHgQA==",
          "dtype": "f8"
         }
        }
       ],
       "layout": {
        "height": 600,
        "legend": {
         "tracegroupgap": 0
        },
        "piecolorway": [
         "rgb(103,0,31)",
         "rgb(178,24,43)",
         "rgb(214,96,77)",
         "rgb(244,165,130)",
         "rgb(253,219,199)",
         "rgb(247,247,247)",
         "rgb(209,229,240)",
         "rgb(146,197,222)",
         "rgb(67,147,195)",
         "rgb(33,102,172)",
         "rgb(5,48,97)"
        ],
        "template": {
         "data": {
          "bar": [
           {
            "error_x": {
             "color": "#2a3f5f"
            },
            "error_y": {
             "color": "#2a3f5f"
            },
            "marker": {
             "line": {
              "color": "#E5ECF6",
              "width": 0.5
             },
             "pattern": {
              "fillmode": "overlay",
              "size": 10,
              "solidity": 0.2
             }
            },
            "type": "bar"
           }
          ],
          "barpolar": [
           {
            "marker": {
             "line": {
              "color": "#E5ECF6",
              "width": 0.5
             },
             "pattern": {
              "fillmode": "overlay",
              "size": 10,
              "solidity": 0.2
             }
            },
            "type": "barpolar"
           }
          ],
          "carpet": [
           {
            "aaxis": {
             "endlinecolor": "#2a3f5f",
             "gridcolor": "white",
             "linecolor": "white",
             "minorgridcolor": "white",
             "startlinecolor": "#2a3f5f"
            },
            "baxis": {
             "endlinecolor": "#2a3f5f",
             "gridcolor": "white",
             "linecolor": "white",
             "minorgridcolor": "white",
             "startlinecolor": "#2a3f5f"
            },
            "type": "carpet"
           }
          ],
          "choropleth": [
           {
            "colorbar": {
             "outlinewidth": 0,
             "ticks": ""
            },
            "type": "choropleth"
           }
          ],
          "contour": [
           {
            "colorbar": {
             "outlinewidth": 0,
             "ticks": ""
            },
            "colorscale": [
             [
              0,
              "#0d0887"
             ],
             [
              0.1111111111111111,
              "#46039f"
             ],
             [
              0.2222222222222222,
              "#7201a8"
             ],
             [
              0.3333333333333333,
              "#9c179e"
             ],
             [
              0.4444444444444444,
              "#bd3786"
             ],
             [
              0.5555555555555556,
              "#d8576b"
             ],
             [
              0.6666666666666666,
              "#ed7953"
             ],
             [
              0.7777777777777778,
              "#fb9f3a"
             ],
             [
              0.8888888888888888,
              "#fdca26"
             ],
             [
              1,
              "#f0f921"
             ]
            ],
            "type": "contour"
           }
          ],
          "contourcarpet": [
           {
            "colorbar": {
             "outlinewidth": 0,
             "ticks": ""
            },
            "type": "contourcarpet"
           }
          ],
          "heatmap": [
           {
            "colorbar": {
             "outlinewidth": 0,
             "ticks": ""
            },
            "colorscale": [
             [
              0,
              "#0d0887"
             ],
             [
              0.1111111111111111,
              "#46039f"
             ],
             [
              0.2222222222222222,
              "#7201a8"
             ],
             [
              0.3333333333333333,
              "#9c179e"
             ],
             [
              0.4444444444444444,
              "#bd3786"
             ],
             [
              0.5555555555555556,
              "#d8576b"
             ],
             [
              0.6666666666666666,
              "#ed7953"
             ],
             [
              0.7777777777777778,
              "#fb9f3a"
             ],
             [
              0.8888888888888888,
              "#fdca26"
             ],
             [
              1,
              "#f0f921"
             ]
            ],
            "type": "heatmap"
           }
          ],
          "histogram": [
           {
            "marker": {
             "pattern": {
              "fillmode": "overlay",
              "size": 10,
              "solidity": 0.2
             }
            },
            "type": "histogram"
           }
          ],
          "histogram2d": [
           {
            "colorbar": {
             "outlinewidth": 0,
             "ticks": ""
            },
            "colorscale": [
             [
              0,
              "#0d0887"
             ],
             [
              0.1111111111111111,
              "#46039f"
             ],
             [
              0.2222222222222222,
              "#7201a8"
             ],
             [
              0.3333333333333333,
              "#9c179e"
             ],
             [
              0.4444444444444444,
              "#bd3786"
             ],
             [
              0.5555555555555556,
              "#d8576b"
             ],
             [
              0.6666666666666666,
              "#ed7953"
             ],
             [
              0.7777777777777778,
              "#fb9f3a"
             ],
             [
              0.8888888888888888,
              "#fdca26"
             ],
             [
              1,
              "#f0f921"
             ]
            ],
            "type": "histogram2d"
           }
          ],
          "histogram2dcontour": [
           {
            "colorbar": {
             "outlinewidth": 0,
             "ticks": ""
            },
            "colorscale": [
             [
              0,
              "#0d0887"
             ],
             [
              0.1111111111111111,
              "#46039f"
             ],
             [
              0.2222222222222222,
              "#7201a8"
             ],
             [
              0.3333333333333333,
              "#9c179e"
             ],
             [
              0.4444444444444444,
              "#bd3786"
             ],
             [
              0.5555555555555556,
              "#d8576b"
             ],
             [
              0.6666666666666666,
              "#ed7953"
             ],
             [
              0.7777777777777778,
              "#fb9f3a"
             ],
             [
              0.8888888888888888,
              "#fdca26"
             ],
             [
              1,
              "#f0f921"
             ]
            ],
            "type": "histogram2dcontour"
           }
          ],
          "mesh3d": [
           {
            "colorbar": {
             "outlinewidth": 0,
             "ticks": ""
            },
            "type": "mesh3d"
           }
          ],
          "parcoords": [
           {
            "line": {
             "colorbar": {
              "outlinewidth": 0,
              "ticks": ""
             }
            },
            "type": "parcoords"
           }
          ],
          "pie": [
           {
            "automargin": true,
            "type": "pie"
           }
          ],
          "scatter": [
           {
            "fillpattern": {
             "fillmode": "overlay",
             "size": 10,
             "solidity": 0.2
            },
            "type": "scatter"
           }
          ],
          "scatter3d": [
           {
            "line": {
             "colorbar": {
              "outlinewidth": 0,
              "ticks": ""
             }
            },
            "marker": {
             "colorbar": {
              "outlinewidth": 0,
              "ticks": ""
             }
            },
            "type": "scatter3d"
           }
          ],
          "scattercarpet": [
           {
            "marker": {
             "colorbar": {
              "outlinewidth": 0,
              "ticks": ""
             }
            },
            "type": "scattercarpet"
           }
          ],
          "scattergeo": [
           {
            "marker": {
             "colorbar": {
              "outlinewidth": 0,
              "ticks": ""
             }
            },
            "type": "scattergeo"
           }
          ],
          "scattergl": [
           {
            "marker": {
             "colorbar": {
              "outlinewidth": 0,
              "ticks": ""
             }
            },
            "type": "scattergl"
           }
          ],
          "scattermap": [
           {
            "marker": {
             "colorbar": {
              "outlinewidth": 0,
              "ticks": ""
             }
            },
            "type": "scattermap"
           }
          ],
          "scattermapbox": [
           {
            "marker": {
             "colorbar": {
              "outlinewidth": 0,
              "ticks": ""
             }
            },
            "type": "scattermapbox"
           }
          ],
          "scatterpolar": [
           {
            "marker": {
             "colorbar": {
              "outlinewidth": 0,
              "ticks": ""
             }
            },
            "type": "scatterpolar"
           }
          ],
          "scatterpolargl": [
           {
            "marker": {
             "colorbar": {
              "outlinewidth": 0,
              "ticks": ""
             }
            },
            "type": "scatterpolargl"
           }
          ],
          "scatterternary": [
           {
            "marker": {
             "colorbar": {
              "outlinewidth": 0,
              "ticks": ""
             }
            },
            "type": "scatterternary"
           }
          ],
          "surface": [
           {
            "colorbar": {
             "outlinewidth": 0,
             "ticks": ""
            },
            "colorscale": [
             [
              0,
              "#0d0887"
             ],
             [
              0.1111111111111111,
              "#46039f"
             ],
             [
              0.2222222222222222,
              "#7201a8"
             ],
             [
              0.3333333333333333,
              "#9c179e"
             ],
             [
              0.4444444444444444,
              "#bd3786"
             ],
             [
              0.5555555555555556,
              "#d8576b"
             ],
             [
              0.6666666666666666,
              "#ed7953"
             ],
             [
              0.7777777777777778,
              "#fb9f3a"
             ],
             [
              0.8888888888888888,
              "#fdca26"
             ],
             [
              1,
              "#f0f921"
             ]
            ],
            "type": "surface"
           }
          ],
          "table": [
           {
            "cells": {
             "fill": {
              "color": "#EBF0F8"
             },
             "line": {
              "color": "white"
             }
            },
            "header": {
             "fill": {
              "color": "#C8D4E3"
             },
             "line": {
              "color": "white"
             }
            },
            "type": "table"
           }
          ]
         },
         "layout": {
          "annotationdefaults": {
           "arrowcolor": "#2a3f5f",
           "arrowhead": 0,
           "arrowwidth": 1
          },
          "autotypenumbers": "strict",
          "coloraxis": {
           "colorbar": {
            "outlinewidth": 0,
            "ticks": ""
           }
          },
          "colorscale": {
           "diverging": [
            [
             0,
             "#8e0152"
            ],
            [
             0.1,
             "#c51b7d"
            ],
            [
             0.2,
             "#de77ae"
            ],
            [
             0.3,
             "#f1b6da"
            ],
            [
             0.4,
             "#fde0ef"
            ],
            [
             0.5,
             "#f7f7f7"
            ],
            [
             0.6,
             "#e6f5d0"
            ],
            [
             0.7,
             "#b8e186"
            ],
            [
             0.8,
             "#7fbc41"
            ],
            [
             0.9,
             "#4d9221"
            ],
            [
             1,
             "#276419"
            ]
           ],
           "sequential": [
            [
             0,
             "#0d0887"
            ],
            [
             0.1111111111111111,
             "#46039f"
            ],
            [
             0.2222222222222222,
             "#7201a8"
            ],
            [
             0.3333333333333333,
             "#9c179e"
            ],
            [
             0.4444444444444444,
             "#bd3786"
            ],
            [
             0.5555555555555556,
             "#d8576b"
            ],
            [
             0.6666666666666666,
             "#ed7953"
            ],
            [
             0.7777777777777778,
             "#fb9f3a"
            ],
            [
             0.8888888888888888,
             "#fdca26"
            ],
            [
             1,
             "#f0f921"
            ]
           ],
           "sequentialminus": [
            [
             0,
             "#0d0887"
            ],
            [
             0.1111111111111111,
             "#46039f"
            ],
            [
             0.2222222222222222,
             "#7201a8"
            ],
            [
             0.3333333333333333,
             "#9c179e"
            ],
            [
             0.4444444444444444,
             "#bd3786"
            ],
            [
             0.5555555555555556,
             "#d8576b"
            ],
            [
             0.6666666666666666,
             "#ed7953"
            ],
            [
             0.7777777777777778,
             "#fb9f3a"
            ],
            [
             0.8888888888888888,
             "#fdca26"
            ],
            [
             1,
             "#f0f921"
            ]
           ]
          },
          "colorway": [
           "#636efa",
           "#EF553B",
           "#00cc96",
           "#ab63fa",
           "#FFA15A",
           "#19d3f3",
           "#FF6692",
           "#B6E880",
           "#FF97FF",
           "#FECB52"
          ],
          "font": {
           "color": "#2a3f5f"
          },
          "geo": {
           "bgcolor": "white",
           "lakecolor": "white",
           "landcolor": "#E5ECF6",
           "showlakes": true,
           "showland": true,
           "subunitcolor": "white"
          },
          "hoverlabel": {
           "align": "left"
          },
          "hovermode": "closest",
          "mapbox": {
           "style": "light"
          },
          "paper_bgcolor": "white",
          "plot_bgcolor": "#E5ECF6",
          "polar": {
           "angularaxis": {
            "gridcolor": "white",
            "linecolor": "white",
            "ticks": ""
           },
           "bgcolor": "#E5ECF6",
           "radialaxis": {
            "gridcolor": "white",
            "linecolor": "white",
            "ticks": ""
           }
          },
          "scene": {
           "xaxis": {
            "backgroundcolor": "#E5ECF6",
            "gridcolor": "white",
            "gridwidth": 2,
            "linecolor": "white",
            "showbackground": true,
            "ticks": "",
            "zerolinecolor": "white"
           },
           "yaxis": {
            "backgroundcolor": "#E5ECF6",
            "gridcolor": "white",
            "gridwidth": 2,
            "linecolor": "white",
            "showbackground": true,
            "ticks": "",
            "zerolinecolor": "white"
           },
           "zaxis": {
            "backgroundcolor": "#E5ECF6",
            "gridcolor": "white",
            "gridwidth": 2,
            "linecolor": "white",
            "showbackground": true,
            "ticks": "",
            "zerolinecolor": "white"
           }
          },
          "shapedefaults": {
           "line": {
            "color": "#2a3f5f"
           }
          },
          "ternary": {
           "aaxis": {
            "gridcolor": "white",
            "linecolor": "white",
            "ticks": ""
           },
           "baxis": {
            "gridcolor": "white",
            "linecolor": "white",
            "ticks": ""
           },
           "bgcolor": "#E5ECF6",
           "caxis": {
            "gridcolor": "white",
            "linecolor": "white",
            "ticks": ""
           }
          },
          "title": {
           "x": 0.05
          },
          "xaxis": {
           "automargin": true,
           "gridcolor": "white",
           "linecolor": "white",
           "ticks": "",
           "title": {
            "standoff": 15
           },
           "zerolinecolor": "white",
           "zerolinewidth": 2
          },
          "yaxis": {
           "automargin": true,
           "gridcolor": "white",
           "linecolor": "white",
           "ticks": "",
           "title": {
            "standoff": 15
           },
           "zerolinecolor": "white",
           "zerolinewidth": 2
          }
         }
        },
        "title": {
         "text": "Доля продаж по магазинам"
        },
        "width": 800
       }
      }
     },
     "metadata": {},
     "output_type": "display_data"
    }
   ],
   "source": [
    "import plotly.express as px\n",
    "import pandas as pd\n",
    "\n",
    "# SQL-запрос: сумма продаж по магазинам\n",
    "query_5 = \"\"\"\n",
    "SELECT s.store_id, SUM(p.amount) AS total_sales\n",
    "FROM payment p\n",
    "JOIN rental r ON p.rental_id = r.rental_id\n",
    "JOIN inventory i ON r.inventory_id = i.inventory_id\n",
    "JOIN store s ON i.store_id = s.store_id\n",
    "GROUP BY s.store_id\n",
    "ORDER BY total_sales DESC;\n",
    "\"\"\"\n",
    "\n",
    "# Выполняем запрос\n",
    "df_5 = pd.read_sql(query_5, engine)\n",
    "df_5.to_csv(\"output/sales_by_store.csv\", index=False)\n",
    "\n",
    "# Создаём круговую диаграмму\n",
    "fig = px.pie(\n",
    "    df_5,\n",
    "    values=\"total_sales\",\n",
    "    names=\"store_id\",\n",
    "    title=\"Доля продаж по магазинам\",\n",
    "    hole=0.2,  # Делаем пончик-диаграмму\n",
    "    color_discrete_sequence=px.colors.sequential.RdBu,  # Красиво раскрашиваем\n",
    "    width=800,\n",
    "    height=600\n",
    ")\n",
    "\n",
    "# Сохранение и отображение\n",
    "fig.write_html(\"output/sales_by_store_piechart.html\")  # Сохранение в HTML\n",
    "fig.show()\n"
   ]
  },
  {
   "cell_type": "code",
<<<<<<< HEAD
   "execution_count": 28,
=======
   "execution_count": 14,
>>>>>>> task_3
   "metadata": {},
   "outputs": [
    {
     "name": "stderr",
     "output_type": "stream",
     "text": [
<<<<<<< HEAD
      "/tmp/ipykernel_21771/4063285897.py:14: FutureWarning: \n",
      "\n",
      "Passing `palette` without assigning `hue` is deprecated and will be removed in v0.14.0. Assign the `y` variable to `hue` and set `legend=False` for the same effect.\n",
      "\n",
      "  sns.barplot(data=df_6, x=\"avg_replacement_cost\", y=\"name\", palette=\"viridis\")\n",
      "/tmp/ipykernel_21771/4063285897.py:18: UserWarning: Glyph 128176 (\\N{MONEY BAG}) missing from font(s) DejaVu Sans.\n",
      "  plt.savefig(\"output/avg_replacement_cost_by_genre.png\")\n",
      "/home/maksim/develops/python/MAKSIM/.venv/lib/python3.12/site-packages/IPython/core/pylabtools.py:170: UserWarning: Glyph 128176 (\\N{MONEY BAG}) missing from font(s) DejaVu Sans.\n",
      "  fig.canvas.print_figure(bytes_io, **kw)\n"
=======
      "/tmp/ipykernel_22873/1453440677.py:15: FutureWarning:\n",
      "\n",
      "\n",
      "\n",
      "Passing `palette` without assigning `hue` is deprecated and will be removed in v0.14.0. Assign the `y` variable to `hue` and set `legend=False` for the same effect.\n",
      "\n",
      "\n"
>>>>>>> task_3
     ]
    },
    {
     "data": {
<<<<<<< HEAD
      "image/png": "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",
=======
      "image/png": "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",
>>>>>>> task_3
      "text/plain": [
       "<Figure size 1200x600 with 1 Axes>"
      ]
     },
     "metadata": {},
     "output_type": "display_data"
    }
   ],
   "source": [
    "# 6 Стоимость замены фильма\n",
    "query_6 = \"\"\"\n",
    "SELECT c.name, AVG(f.replacement_cost) AS avg_replacement_cost\n",
    "FROM film f\n",
    "JOIN film_category fc ON f.film_id = fc.film_id\n",
    "JOIN category c ON fc.category_id = c.category_id\n",
    "GROUP BY c.name\n",
    "ORDER BY avg_replacement_cost DESC;\n",
    "\"\"\"\n",
    "df_6 = pd.read_sql(query_6, engine)\n",
    "df_6.to_csv(\"output/avg_replacement_cost_by_genre.csv\", index=False)\n",
    "\n",
    "# Визуализация стоимости замены фильмов\n",
    "plt.figure(figsize=(12, 6))\n",
    "sns.barplot(data=df_6, x=\"avg_replacement_cost\", y=\"name\", palette=\"viridis\")\n",
    "plt.title(\"Средние затраты на замену фильмов по жанрам\")\n",
    "plt.xlabel(\"Средняя стоимость замены ($)\")\n",
    "plt.ylabel(\"Жанр\")\n",
    "plt.savefig(\"output/avg_replacement_cost_by_genre.png\")\n",
    "plt.show()\n"
   ]
  },
  {
   "cell_type": "code",
<<<<<<< HEAD
   "execution_count": 7,
=======
   "execution_count": 15,
>>>>>>> task_3
   "metadata": {},
   "outputs": [
    {
     "data": {
      "application/vnd.plotly.v1+json": {
       "config": {
        "plotlyServerURL": "https://plot.ly"
       },
       "data": [
        {
         "domain": {
          "x": [
           0,
           1
          ],
          "y": [
           0,
           1
          ]
         },
         "hole": 0.2,
         "hovertemplate": "actor_name=%{label}<br>unique_genres=%{value}<extra></extra>",
         "labels": [
          "GROUCHO DUNST",
          "UMA WOOD",
          "HARVEY HOPE",
          "SEAN WILLIAMS",
          "GINA DEGENERES",
          "EWAN GOODING",
          "KEVIN GARLAND",
          "IAN TANDY",
          "REESE WEST",
          "MICHAEL BOLGER",
          "DARYL WAHLBERG",
          "SUSAN DAVIS",
          "VIVIEN BASINGER",
          "ANGELA WITHERSPOON",
          "JADA RYDER",
          "PENELOPE CRONYN",
          "MATTHEW CARREY",
          "RALPH CRUZ",
          "KARL BERRY",
          "SANDRA KILMER",
          "CATE MCQUEEN",
          "MARY KEITEL",
          "JAYNE NOLTE",
          "DAN HARRIS",
          "CHRISTIAN GABLE",
          "HENRY BERRY",
          "BELA WALKEN",
          "FAY WINSLET",
          "RENEE BALL",
          "ANGELA HUDSON",
          "TOM MIRANDA",
          "GRETA MALDEN",
          "REESE KILMER",
          "PARKER GOLDBERG",
          "JULIA BARRYMORE",
          "AUDREY BAILEY",
          "MENA TEMPLE",
          "CHRISTIAN AKROYD",
          "HELEN VOIGHT",
          "RUSSELL TEMPLE",
          "JAYNE NEESON",
          "MARY TANDY",
          "BOB FAWCETT",
          "RIP WINSLET",
          "KENNETH PALTROW",
          "CATE HARRIS",
          "NICK WAHLBERG",
          "ANGELINA ASTAIRE",
          "KIRSTEN PALTROW",
          "ANNE CRONYN",
          "SCARLETT DAMON",
          "WOODY JOLIE",
          "ED MANSFIELD",
          "MINNIE ZELLWEGER",
          "RICHARD PENN",
          "WARREN JACKMAN",
          "SEAN GUINESS",
          "RENEE TRACY",
          "KIRSTEN AKROYD",
          "CAMERON ZELLWEGER",
          "JEFF SILVERSTONE",
          "SYLVESTER DERN",
          "CHRIS BRIDGES",
          "JIM MOSTEL",
          "WALTER TORN",
          "SIDNEY CROWE",
          "LISA MONROE",
          "JAYNE SILVERSTONE",
          "ALEC WAYNE",
          "LAURENCE BULLOCK",
          "NICK DEGENERES",
          "JOHN SUVARI",
          "MILLA PECK",
          "JOE SWANK",
          "AL GARLAND",
          "BURT DUKAKIS",
          "VAL BOLGER",
          "ZERO CAGE",
          "JODIE DEGENERES",
          "WILLIAM HACKMAN",
          "JOHNNY LOLLOBRIGIDA",
          "CUBA OLIVIER",
          "FRED COSTNER",
          "LUCILLE TRACY",
          "RIP CRAWFORD",
          "WOODY HOFFMAN",
          "TIM HACKMAN",
          "AUDREY OLIVIER",
          "TOM MCKELLEN",
          "JOHNNY CAGE",
          "NATALIE HOPKINS",
          "GARY PHOENIX",
          "CARMEN HUNT",
          "PENELOPE PINKETT",
          "JUDE CRUISE",
          "DUSTIN TAUTOU",
          "RAY JOHANSSON",
          "JESSICA BAILEY",
          "BURT POSEY",
          "CARY MCCONAUGHEY",
          "GROUCHO SINATRA",
          "MAE HOFFMAN",
          "JAMES PITT",
          "KENNETH TORN",
          "SPENCER DEPP",
          "WARREN NOLTE",
          "RUSSELL BACALL",
          "MORGAN MCDORMAND",
          "DAN STREEP",
          "CUBA ALLEN",
          "FRANCES TOMEI",
          "GRETA KEITEL",
          "GENE HOPKINS",
          "LUCILLE DEE",
          "WHOOPI HURT",
          "KIM ALLEN",
          "ALBERT JOHANSSON",
          "GEOFFREY HESTON",
          "BEN HARRIS",
          "MERYL GIBSON",
          "FAY WOOD",
          "LAURA BRODY",
          "HUMPHREY WILLIS",
          "WILL WILSON",
          "MENA HOPPER",
          "ALAN DREYFUSS",
          "MICHAEL BENING",
          "PENELOPE GUINESS",
          "JON CHASE",
          "ED GUINESS",
          "DEBBIE AKROYD",
          "HUMPHREY GARLAND",
          "ROCK DUKAKIS",
          "CUBA BIRCH",
          "GREGORY GOODING",
          "BURT TEMPLE",
          "MORGAN WILLIAMS",
          "JULIA MCQUEEN",
          "MILLA KEITEL",
          "MERYL ALLEN",
          "GARY PENN",
          "RIVER DEAN",
          "MICHELLE MCCONAUGHEY",
          "KEVIN BLOOM",
          "FAY KILMER",
          "RUSSELL CLOSE",
          "FRANCES DAY-LEWIS",
          "GOLDIE BRODY",
          "OPRAH KILMER",
          "CHRISTOPHER WEST",
          "DAN TORN",
          "SANDRA PECK",
          "JENNIFER DAVIS",
          "KENNETH HOFFMAN",
          "MATTHEW LEIGH",
          "GENE WILLIS",
          "ELLEN PRESLEY",
          "OLYMPIA PFEIFFER",
          "HARRISON BALE",
          "VIVIEN BERGEN",
          "CHRISTOPHER BERRY",
          "LIZA BERGMAN",
          "SALMA NOLTE",
          "JULIANNE DENCH",
          "ALBERT NOLTE",
          "DARYL CRAWFORD",
          "JANE JACKMAN",
          "ADAM HOPPER",
          "GREG CHAPLIN",
          "BEN WILLIS",
          "MEG HAWKE",
          "CHRISTIAN NEESON",
          "RITA REYNOLDS",
          "GRACE MOSTEL",
          "MORGAN HOPKINS",
          "MINNIE KILMER",
          "BETTE NICHOLSON",
          "GROUCHO WILLIAMS",
          "ELVIS MARX",
          "NICK STALLONE",
          "CHRIS DEPP",
          "SPENCER PECK",
          "PENELOPE MONROE",
          "GENE MCKELLEN",
          "SUSAN DAVIS",
          "SCARLETT BENING",
          "CAMERON STREEP",
          "CAMERON WRAY",
          "MATTHEW JOHANSSON",
          "ADAM GRANT",
          "KIRK JOVOVICH",
          "JULIA ZELLWEGER",
          "CHARLIZE DENCH",
          "ED CHASE",
          "THORA TEMPLE",
          "SISSY SOBIESKI",
          "KENNETH PESCI",
          "EMILY DEE",
          "JULIA FAWCETT",
          "JUDY DEAN"
         ],
         "legendgroup": "",
         "name": "",
         "showlegend": true,
         "type": "pie",
         "values": {
          "bdata": "EBAQEBAQEBAQEBAPDw8PDw8PDw8PDw8PDw8PDw8PDg4ODg4ODg4ODg4ODg4ODg4ODg4ODg4ODg4ODg4ODg4ODg4ODg4ODg4ODg4ODg4ODg0NDQ0NDQ0NDQ0NDQ0NDQ0NDQ0NDQ0NDQ0NDQ0NDQ0NDQ0NDQ0NDQ0NDQ0NDQ0NDQ0NDQ0NDQ0NDQwMDAwMDAwMDAwMDAwMDAwMDAwMDAwMDAwMDAwMDAwMDAsLCwsLCwsLCwsLCwsLCwsLCwsKCgoKCgoKCgkJCAg=",
          "dtype": "i1"
         }
        }
       ],
       "layout": {
        "height": 800,
        "legend": {
         "tracegroupgap": 0
        },
        "piecolorway": [
         "#f0f921",
         "#fdca26",
         "#fb9f3a",
         "#ed7953",
         "#d8576b",
         "#bd3786",
         "#9c179e",
         "#7201a8",
         "#46039f",
         "#0d0887"
        ],
        "template": {
         "data": {
          "bar": [
           {
            "error_x": {
             "color": "#2a3f5f"
            },
            "error_y": {
             "color": "#2a3f5f"
            },
            "marker": {
             "line": {
              "color": "#E5ECF6",
              "width": 0.5
             },
             "pattern": {
              "fillmode": "overlay",
              "size": 10,
              "solidity": 0.2
             }
            },
            "type": "bar"
           }
          ],
          "barpolar": [
           {
            "marker": {
             "line": {
              "color": "#E5ECF6",
              "width": 0.5
             },
             "pattern": {
              "fillmode": "overlay",
              "size": 10,
              "solidity": 0.2
             }
            },
            "type": "barpolar"
           }
          ],
          "carpet": [
           {
            "aaxis": {
             "endlinecolor": "#2a3f5f",
             "gridcolor": "white",
             "linecolor": "white",
             "minorgridcolor": "white",
             "startlinecolor": "#2a3f5f"
            },
            "baxis": {
             "endlinecolor": "#2a3f5f",
             "gridcolor": "white",
             "linecolor": "white",
             "minorgridcolor": "white",
             "startlinecolor": "#2a3f5f"
            },
            "type": "carpet"
           }
          ],
          "choropleth": [
           {
            "colorbar": {
             "outlinewidth": 0,
             "ticks": ""
            },
            "type": "choropleth"
           }
          ],
          "contour": [
           {
            "colorbar": {
             "outlinewidth": 0,
             "ticks": ""
            },
            "colorscale": [
             [
              0,
              "#0d0887"
             ],
             [
              0.1111111111111111,
              "#46039f"
             ],
             [
              0.2222222222222222,
              "#7201a8"
             ],
             [
              0.3333333333333333,
              "#9c179e"
             ],
             [
              0.4444444444444444,
              "#bd3786"
             ],
             [
              0.5555555555555556,
              "#d8576b"
             ],
             [
              0.6666666666666666,
              "#ed7953"
             ],
             [
              0.7777777777777778,
              "#fb9f3a"
             ],
             [
              0.8888888888888888,
              "#fdca26"
             ],
             [
              1,
              "#f0f921"
             ]
            ],
            "type": "contour"
           }
          ],
          "contourcarpet": [
           {
            "colorbar": {
             "outlinewidth": 0,
             "ticks": ""
            },
            "type": "contourcarpet"
           }
          ],
          "heatmap": [
           {
            "colorbar": {
             "outlinewidth": 0,
             "ticks": ""
            },
            "colorscale": [
             [
              0,
              "#0d0887"
             ],
             [
              0.1111111111111111,
              "#46039f"
             ],
             [
              0.2222222222222222,
              "#7201a8"
             ],
             [
              0.3333333333333333,
              "#9c179e"
             ],
             [
              0.4444444444444444,
              "#bd3786"
             ],
             [
              0.5555555555555556,
              "#d8576b"
             ],
             [
              0.6666666666666666,
              "#ed7953"
             ],
             [
              0.7777777777777778,
              "#fb9f3a"
             ],
             [
              0.8888888888888888,
              "#fdca26"
             ],
             [
              1,
              "#f0f921"
             ]
            ],
            "type": "heatmap"
           }
          ],
          "histogram": [
           {
            "marker": {
             "pattern": {
              "fillmode": "overlay",
              "size": 10,
              "solidity": 0.2
             }
            },
            "type": "histogram"
           }
          ],
          "histogram2d": [
           {
            "colorbar": {
             "outlinewidth": 0,
             "ticks": ""
            },
            "colorscale": [
             [
              0,
              "#0d0887"
             ],
             [
              0.1111111111111111,
              "#46039f"
             ],
             [
              0.2222222222222222,
              "#7201a8"
             ],
             [
              0.3333333333333333,
              "#9c179e"
             ],
             [
              0.4444444444444444,
              "#bd3786"
             ],
             [
              0.5555555555555556,
              "#d8576b"
             ],
             [
              0.6666666666666666,
              "#ed7953"
             ],
             [
              0.7777777777777778,
              "#fb9f3a"
             ],
             [
              0.8888888888888888,
              "#fdca26"
             ],
             [
              1,
              "#f0f921"
             ]
            ],
            "type": "histogram2d"
           }
          ],
          "histogram2dcontour": [
           {
            "colorbar": {
             "outlinewidth": 0,
             "ticks": ""
            },
            "colorscale": [
             [
              0,
              "#0d0887"
             ],
             [
              0.1111111111111111,
              "#46039f"
             ],
             [
              0.2222222222222222,
              "#7201a8"
             ],
             [
              0.3333333333333333,
              "#9c179e"
             ],
             [
              0.4444444444444444,
              "#bd3786"
             ],
             [
              0.5555555555555556,
              "#d8576b"
             ],
             [
              0.6666666666666666,
              "#ed7953"
             ],
             [
              0.7777777777777778,
              "#fb9f3a"
             ],
             [
              0.8888888888888888,
              "#fdca26"
             ],
             [
              1,
              "#f0f921"
             ]
            ],
            "type": "histogram2dcontour"
           }
          ],
          "mesh3d": [
           {
            "colorbar": {
             "outlinewidth": 0,
             "ticks": ""
            },
            "type": "mesh3d"
           }
          ],
          "parcoords": [
           {
            "line": {
             "colorbar": {
              "outlinewidth": 0,
              "ticks": ""
             }
            },
            "type": "parcoords"
           }
          ],
          "pie": [
           {
            "automargin": true,
            "type": "pie"
           }
          ],
          "scatter": [
           {
            "fillpattern": {
             "fillmode": "overlay",
             "size": 10,
             "solidity": 0.2
            },
            "type": "scatter"
           }
          ],
          "scatter3d": [
           {
            "line": {
             "colorbar": {
              "outlinewidth": 0,
              "ticks": ""
             }
            },
            "marker": {
             "colorbar": {
              "outlinewidth": 0,
              "ticks": ""
             }
            },
            "type": "scatter3d"
           }
          ],
          "scattercarpet": [
           {
            "marker": {
             "colorbar": {
              "outlinewidth": 0,
              "ticks": ""
             }
            },
            "type": "scattercarpet"
           }
          ],
          "scattergeo": [
           {
            "marker": {
             "colorbar": {
              "outlinewidth": 0,
              "ticks": ""
             }
            },
            "type": "scattergeo"
           }
          ],
          "scattergl": [
           {
            "marker": {
             "colorbar": {
              "outlinewidth": 0,
              "ticks": ""
             }
            },
            "type": "scattergl"
           }
          ],
          "scattermap": [
           {
            "marker": {
             "colorbar": {
              "outlinewidth": 0,
              "ticks": ""
             }
            },
            "type": "scattermap"
           }
          ],
          "scattermapbox": [
           {
            "marker": {
             "colorbar": {
              "outlinewidth": 0,
              "ticks": ""
             }
            },
            "type": "scattermapbox"
           }
          ],
          "scatterpolar": [
           {
            "marker": {
             "colorbar": {
              "outlinewidth": 0,
              "ticks": ""
             }
            },
            "type": "scatterpolar"
           }
          ],
          "scatterpolargl": [
           {
            "marker": {
             "colorbar": {
              "outlinewidth": 0,
              "ticks": ""
             }
            },
            "type": "scatterpolargl"
           }
          ],
          "scatterternary": [
           {
            "marker": {
             "colorbar": {
              "outlinewidth": 0,
              "ticks": ""
             }
            },
            "type": "scatterternary"
           }
          ],
          "surface": [
           {
            "colorbar": {
             "outlinewidth": 0,
             "ticks": ""
            },
            "colorscale": [
             [
              0,
              "#0d0887"
             ],
             [
              0.1111111111111111,
              "#46039f"
             ],
             [
              0.2222222222222222,
              "#7201a8"
             ],
             [
              0.3333333333333333,
              "#9c179e"
             ],
             [
              0.4444444444444444,
              "#bd3786"
             ],
             [
              0.5555555555555556,
              "#d8576b"
             ],
             [
              0.6666666666666666,
              "#ed7953"
             ],
             [
              0.7777777777777778,
              "#fb9f3a"
             ],
             [
              0.8888888888888888,
              "#fdca26"
             ],
             [
              1,
              "#f0f921"
             ]
            ],
            "type": "surface"
           }
          ],
          "table": [
           {
            "cells": {
             "fill": {
              "color": "#EBF0F8"
             },
             "line": {
              "color": "white"
             }
            },
            "header": {
             "fill": {
              "color": "#C8D4E3"
             },
             "line": {
              "color": "white"
             }
            },
            "type": "table"
           }
          ]
         },
         "layout": {
          "annotationdefaults": {
           "arrowcolor": "#2a3f5f",
           "arrowhead": 0,
           "arrowwidth": 1
          },
          "autotypenumbers": "strict",
          "coloraxis": {
           "colorbar": {
            "outlinewidth": 0,
            "ticks": ""
           }
          },
          "colorscale": {
           "diverging": [
            [
             0,
             "#8e0152"
            ],
            [
             0.1,
             "#c51b7d"
            ],
            [
             0.2,
             "#de77ae"
            ],
            [
             0.3,
             "#f1b6da"
            ],
            [
             0.4,
             "#fde0ef"
            ],
            [
             0.5,
             "#f7f7f7"
            ],
            [
             0.6,
             "#e6f5d0"
            ],
            [
             0.7,
             "#b8e186"
            ],
            [
             0.8,
             "#7fbc41"
            ],
            [
             0.9,
             "#4d9221"
            ],
            [
             1,
             "#276419"
            ]
           ],
           "sequential": [
            [
             0,
             "#0d0887"
            ],
            [
             0.1111111111111111,
             "#46039f"
            ],
            [
             0.2222222222222222,
             "#7201a8"
            ],
            [
             0.3333333333333333,
             "#9c179e"
            ],
            [
             0.4444444444444444,
             "#bd3786"
            ],
            [
             0.5555555555555556,
             "#d8576b"
            ],
            [
             0.6666666666666666,
             "#ed7953"
            ],
            [
             0.7777777777777778,
             "#fb9f3a"
            ],
            [
             0.8888888888888888,
             "#fdca26"
            ],
            [
             1,
             "#f0f921"
            ]
           ],
           "sequentialminus": [
            [
             0,
             "#0d0887"
            ],
            [
             0.1111111111111111,
             "#46039f"
            ],
            [
             0.2222222222222222,
             "#7201a8"
            ],
            [
             0.3333333333333333,
             "#9c179e"
            ],
            [
             0.4444444444444444,
             "#bd3786"
            ],
            [
             0.5555555555555556,
             "#d8576b"
            ],
            [
             0.6666666666666666,
             "#ed7953"
            ],
            [
             0.7777777777777778,
             "#fb9f3a"
            ],
            [
             0.8888888888888888,
             "#fdca26"
            ],
            [
             1,
             "#f0f921"
            ]
           ]
          },
          "colorway": [
           "#636efa",
           "#EF553B",
           "#00cc96",
           "#ab63fa",
           "#FFA15A",
           "#19d3f3",
           "#FF6692",
           "#B6E880",
           "#FF97FF",
           "#FECB52"
          ],
          "font": {
           "color": "#2a3f5f"
          },
          "geo": {
           "bgcolor": "white",
           "lakecolor": "white",
           "landcolor": "#E5ECF6",
           "showlakes": true,
           "showland": true,
           "subunitcolor": "white"
          },
          "hoverlabel": {
           "align": "left"
          },
          "hovermode": "closest",
          "mapbox": {
           "style": "light"
          },
          "paper_bgcolor": "white",
          "plot_bgcolor": "#E5ECF6",
          "polar": {
           "angularaxis": {
            "gridcolor": "white",
            "linecolor": "white",
            "ticks": ""
           },
           "bgcolor": "#E5ECF6",
           "radialaxis": {
            "gridcolor": "white",
            "linecolor": "white",
            "ticks": ""
           }
          },
          "scene": {
           "xaxis": {
            "backgroundcolor": "#E5ECF6",
            "gridcolor": "white",
            "gridwidth": 2,
            "linecolor": "white",
            "showbackground": true,
            "ticks": "",
            "zerolinecolor": "white"
           },
           "yaxis": {
            "backgroundcolor": "#E5ECF6",
            "gridcolor": "white",
            "gridwidth": 2,
            "linecolor": "white",
            "showbackground": true,
            "ticks": "",
            "zerolinecolor": "white"
           },
           "zaxis": {
            "backgroundcolor": "#E5ECF6",
            "gridcolor": "white",
            "gridwidth": 2,
            "linecolor": "white",
            "showbackground": true,
            "ticks": "",
            "zerolinecolor": "white"
           }
          },
          "shapedefaults": {
           "line": {
            "color": "#2a3f5f"
           }
          },
          "ternary": {
           "aaxis": {
            "gridcolor": "white",
            "linecolor": "white",
            "ticks": ""
           },
           "baxis": {
            "gridcolor": "white",
            "linecolor": "white",
            "ticks": ""
           },
           "bgcolor": "#E5ECF6",
           "caxis": {
            "gridcolor": "white",
            "linecolor": "white",
            "ticks": ""
           }
          },
          "title": {
           "x": 0.05
          },
          "xaxis": {
           "automargin": true,
           "gridcolor": "white",
           "linecolor": "white",
           "ticks": "",
           "title": {
            "standoff": 15
           },
           "zerolinecolor": "white",
           "zerolinewidth": 2
          },
          "yaxis": {
           "automargin": true,
           "gridcolor": "white",
           "linecolor": "white",
           "ticks": "",
           "title": {
            "standoff": 15
           },
           "zerolinecolor": "white",
           "zerolinewidth": 2
          }
         }
        },
        "title": {
         "text": " Все актёры, снимающиеся в разных жанрах"
        },
        "width": 1000
       }
      }
     },
     "metadata": {},
     "output_type": "display_data"
    }
   ],
   "source": [
    "\n",
    "\n",
    "# SQL-запрос: считаем количество уникальных жанров для всех актеров\n",
    "query_7 = \"\"\"\n",
    "SELECT a.actor_id, a.first_name, a.last_name, COUNT(DISTINCT c.category_id) AS unique_genres\n",
    "FROM actor a\n",
    "JOIN film_actor fa ON a.actor_id = fa.actor_id\n",
    "JOIN film_category fc ON fa.film_id = fc.film_id\n",
    "JOIN category c ON fc.category_id = c.category_id\n",
    "GROUP BY a.actor_id, a.first_name, a.last_name\n",
    "ORDER BY unique_genres DESC;\n",
    "\"\"\"\n",
    "\n",
    "# Выполняем запрос и сохраняем в DataFrame\n",
    "df_7 = pd.read_sql(query_7, engine)\n",
    "df_7[\"actor_name\"] = df_7[\"first_name\"] + \" \" + df_7[\"last_name\"]\n",
    "df_7.to_csv(\"output/all_actors_by_genres.csv\", index=False)\n",
    "\n",
    "# Построение круговой диаграммы с Plotly**\n",
    "fig = px.pie(\n",
    "    df_7,\n",
    "    values=\"unique_genres\",\n",
    "    names=\"actor_name\",\n",
    "    title=\" Все актёры, снимающиеся в разных жанрах\",\n",
    "    hole=0.2,  # Делаем диаграмму \"пончиком\"\n",
    "    color_discrete_sequence=px.colors.sequential.Plasma_r,\n",
    "    width=1000,  # Ширина графика\n",
    "    height=800   # Высота графика\n",
    ")\n",
    "\n",
    "# # Сохранение и показ графика\n",
    "fig.write_image(\"output/actors_by_genres_piechart_all.png\")\n",
    "fig.show()\n"
   ]
  },
  {
   "cell_type": "code",
<<<<<<< HEAD
   "execution_count": 8,
=======
   "execution_count": 16,
>>>>>>> task_3
   "metadata": {},
   "outputs": [
    {
     "data": {
      "application/vnd.plotly.v1+json": {
       "config": {
        "plotlyServerURL": "https://plot.ly"
       },
       "data": [
        {
         "domain": {
          "x": [
           0,
           1
          ],
          "y": [
           0,
           1
          ]
         },
         "hole": 0.2,
         "hovertemplate": "actor_name=%{label}<br>unique_genres=%{value}<extra></extra>",
         "labels": [
          "GROUCHO DUNST",
          "UMA WOOD",
          "HARVEY HOPE",
          "SEAN WILLIAMS",
          "GINA DEGENERES",
          "EWAN GOODING",
          "KEVIN GARLAND",
          "IAN TANDY",
          "REESE WEST",
          "MICHAEL BOLGER",
          "DARYL WAHLBERG",
          "SUSAN DAVIS",
          "VIVIEN BASINGER",
          "ANGELA WITHERSPOON",
          "JADA RYDER",
          "PENELOPE CRONYN",
          "MATTHEW CARREY",
          "RALPH CRUZ",
          "KARL BERRY",
          "SANDRA KILMER",
          "CATE MCQUEEN",
          "MARY KEITEL",
          "JAYNE NOLTE",
          "DAN HARRIS",
          "CHRISTIAN GABLE",
          "HENRY BERRY",
          "BELA WALKEN",
          "FAY WINSLET",
          "RENEE BALL",
          "ANGELA HUDSON",
          "TOM MIRANDA",
          "GRETA MALDEN",
          "REESE KILMER",
          "PARKER GOLDBERG",
          "JULIA BARRYMORE",
          "AUDREY BAILEY",
          "MENA TEMPLE",
          "CHRISTIAN AKROYD",
          "HELEN VOIGHT",
          "RUSSELL TEMPLE"
         ],
         "legendgroup": "",
         "name": "",
         "showlegend": true,
         "type": "pie",
         "values": {
          "bdata": "EBAQEBAQEBAQEBAPDw8PDw8PDw8PDw8PDw8PDw8PDg4ODg4ODg4ODg==",
          "dtype": "i1"
         }
        }
       ],
       "layout": {
        "height": 800,
        "legend": {
         "tracegroupgap": 0
        },
        "piecolorway": [
         "#f0f921",
         "#fdca26",
         "#fb9f3a",
         "#ed7953",
         "#d8576b",
         "#bd3786",
         "#9c179e",
         "#7201a8",
         "#46039f",
         "#0d0887"
        ],
        "template": {
         "data": {
          "bar": [
           {
            "error_x": {
             "color": "#2a3f5f"
            },
            "error_y": {
             "color": "#2a3f5f"
            },
            "marker": {
             "line": {
              "color": "#E5ECF6",
              "width": 0.5
             },
             "pattern": {
              "fillmode": "overlay",
              "size": 10,
              "solidity": 0.2
             }
            },
            "type": "bar"
           }
          ],
          "barpolar": [
           {
            "marker": {
             "line": {
              "color": "#E5ECF6",
              "width": 0.5
             },
             "pattern": {
              "fillmode": "overlay",
              "size": 10,
              "solidity": 0.2
             }
            },
            "type": "barpolar"
           }
          ],
          "carpet": [
           {
            "aaxis": {
             "endlinecolor": "#2a3f5f",
             "gridcolor": "white",
             "linecolor": "white",
             "minorgridcolor": "white",
             "startlinecolor": "#2a3f5f"
            },
            "baxis": {
             "endlinecolor": "#2a3f5f",
             "gridcolor": "white",
             "linecolor": "white",
             "minorgridcolor": "white",
             "startlinecolor": "#2a3f5f"
            },
            "type": "carpet"
           }
          ],
          "choropleth": [
           {
            "colorbar": {
             "outlinewidth": 0,
             "ticks": ""
            },
            "type": "choropleth"
           }
          ],
          "contour": [
           {
            "colorbar": {
             "outlinewidth": 0,
             "ticks": ""
            },
            "colorscale": [
             [
              0,
              "#0d0887"
             ],
             [
              0.1111111111111111,
              "#46039f"
             ],
             [
              0.2222222222222222,
              "#7201a8"
             ],
             [
              0.3333333333333333,
              "#9c179e"
             ],
             [
              0.4444444444444444,
              "#bd3786"
             ],
             [
              0.5555555555555556,
              "#d8576b"
             ],
             [
              0.6666666666666666,
              "#ed7953"
             ],
             [
              0.7777777777777778,
              "#fb9f3a"
             ],
             [
              0.8888888888888888,
              "#fdca26"
             ],
             [
              1,
              "#f0f921"
             ]
            ],
            "type": "contour"
           }
          ],
          "contourcarpet": [
           {
            "colorbar": {
             "outlinewidth": 0,
             "ticks": ""
            },
            "type": "contourcarpet"
           }
          ],
          "heatmap": [
           {
            "colorbar": {
             "outlinewidth": 0,
             "ticks": ""
            },
            "colorscale": [
             [
              0,
              "#0d0887"
             ],
             [
              0.1111111111111111,
              "#46039f"
             ],
             [
              0.2222222222222222,
              "#7201a8"
             ],
             [
              0.3333333333333333,
              "#9c179e"
             ],
             [
              0.4444444444444444,
              "#bd3786"
             ],
             [
              0.5555555555555556,
              "#d8576b"
             ],
             [
              0.6666666666666666,
              "#ed7953"
             ],
             [
              0.7777777777777778,
              "#fb9f3a"
             ],
             [
              0.8888888888888888,
              "#fdca26"
             ],
             [
              1,
              "#f0f921"
             ]
            ],
            "type": "heatmap"
           }
          ],
          "histogram": [
           {
            "marker": {
             "pattern": {
              "fillmode": "overlay",
              "size": 10,
              "solidity": 0.2
             }
            },
            "type": "histogram"
           }
          ],
          "histogram2d": [
           {
            "colorbar": {
             "outlinewidth": 0,
             "ticks": ""
            },
            "colorscale": [
             [
              0,
              "#0d0887"
             ],
             [
              0.1111111111111111,
              "#46039f"
             ],
             [
              0.2222222222222222,
              "#7201a8"
             ],
             [
              0.3333333333333333,
              "#9c179e"
             ],
             [
              0.4444444444444444,
              "#bd3786"
             ],
             [
              0.5555555555555556,
              "#d8576b"
             ],
             [
              0.6666666666666666,
              "#ed7953"
             ],
             [
              0.7777777777777778,
              "#fb9f3a"
             ],
             [
              0.8888888888888888,
              "#fdca26"
             ],
             [
              1,
              "#f0f921"
             ]
            ],
            "type": "histogram2d"
           }
          ],
          "histogram2dcontour": [
           {
            "colorbar": {
             "outlinewidth": 0,
             "ticks": ""
            },
            "colorscale": [
             [
              0,
              "#0d0887"
             ],
             [
              0.1111111111111111,
              "#46039f"
             ],
             [
              0.2222222222222222,
              "#7201a8"
             ],
             [
              0.3333333333333333,
              "#9c179e"
             ],
             [
              0.4444444444444444,
              "#bd3786"
             ],
             [
              0.5555555555555556,
              "#d8576b"
             ],
             [
              0.6666666666666666,
              "#ed7953"
             ],
             [
              0.7777777777777778,
              "#fb9f3a"
             ],
             [
              0.8888888888888888,
              "#fdca26"
             ],
             [
              1,
              "#f0f921"
             ]
            ],
            "type": "histogram2dcontour"
           }
          ],
          "mesh3d": [
           {
            "colorbar": {
             "outlinewidth": 0,
             "ticks": ""
            },
            "type": "mesh3d"
           }
          ],
          "parcoords": [
           {
            "line": {
             "colorbar": {
              "outlinewidth": 0,
              "ticks": ""
             }
            },
            "type": "parcoords"
           }
          ],
          "pie": [
           {
            "automargin": true,
            "type": "pie"
           }
          ],
          "scatter": [
           {
            "fillpattern": {
             "fillmode": "overlay",
             "size": 10,
             "solidity": 0.2
            },
            "type": "scatter"
           }
          ],
          "scatter3d": [
           {
            "line": {
             "colorbar": {
              "outlinewidth": 0,
              "ticks": ""
             }
            },
            "marker": {
             "colorbar": {
              "outlinewidth": 0,
              "ticks": ""
             }
            },
            "type": "scatter3d"
           }
          ],
          "scattercarpet": [
           {
            "marker": {
             "colorbar": {
              "outlinewidth": 0,
              "ticks": ""
             }
            },
            "type": "scattercarpet"
           }
          ],
          "scattergeo": [
           {
            "marker": {
             "colorbar": {
              "outlinewidth": 0,
              "ticks": ""
             }
            },
            "type": "scattergeo"
           }
          ],
          "scattergl": [
           {
            "marker": {
             "colorbar": {
              "outlinewidth": 0,
              "ticks": ""
             }
            },
            "type": "scattergl"
           }
          ],
          "scattermap": [
           {
            "marker": {
             "colorbar": {
              "outlinewidth": 0,
              "ticks": ""
             }
            },
            "type": "scattermap"
           }
          ],
          "scattermapbox": [
           {
            "marker": {
             "colorbar": {
              "outlinewidth": 0,
              "ticks": ""
             }
            },
            "type": "scattermapbox"
           }
          ],
          "scatterpolar": [
           {
            "marker": {
             "colorbar": {
              "outlinewidth": 0,
              "ticks": ""
             }
            },
            "type": "scatterpolar"
           }
          ],
          "scatterpolargl": [
           {
            "marker": {
             "colorbar": {
              "outlinewidth": 0,
              "ticks": ""
             }
            },
            "type": "scatterpolargl"
           }
          ],
          "scatterternary": [
           {
            "marker": {
             "colorbar": {
              "outlinewidth": 0,
              "ticks": ""
             }
            },
            "type": "scatterternary"
           }
          ],
          "surface": [
           {
            "colorbar": {
             "outlinewidth": 0,
             "ticks": ""
            },
            "colorscale": [
             [
              0,
              "#0d0887"
             ],
             [
              0.1111111111111111,
              "#46039f"
             ],
             [
              0.2222222222222222,
              "#7201a8"
             ],
             [
              0.3333333333333333,
              "#9c179e"
             ],
             [
              0.4444444444444444,
              "#bd3786"
             ],
             [
              0.5555555555555556,
              "#d8576b"
             ],
             [
              0.6666666666666666,
              "#ed7953"
             ],
             [
              0.7777777777777778,
              "#fb9f3a"
             ],
             [
              0.8888888888888888,
              "#fdca26"
             ],
             [
              1,
              "#f0f921"
             ]
            ],
            "type": "surface"
           }
          ],
          "table": [
           {
            "cells": {
             "fill": {
              "color": "#EBF0F8"
             },
             "line": {
              "color": "white"
             }
            },
            "header": {
             "fill": {
              "color": "#C8D4E3"
             },
             "line": {
              "color": "white"
             }
            },
            "type": "table"
           }
          ]
         },
         "layout": {
          "annotationdefaults": {
           "arrowcolor": "#2a3f5f",
           "arrowhead": 0,
           "arrowwidth": 1
          },
          "autotypenumbers": "strict",
          "coloraxis": {
           "colorbar": {
            "outlinewidth": 0,
            "ticks": ""
           }
          },
          "colorscale": {
           "diverging": [
            [
             0,
             "#8e0152"
            ],
            [
             0.1,
             "#c51b7d"
            ],
            [
             0.2,
             "#de77ae"
            ],
            [
             0.3,
             "#f1b6da"
            ],
            [
             0.4,
             "#fde0ef"
            ],
            [
             0.5,
             "#f7f7f7"
            ],
            [
             0.6,
             "#e6f5d0"
            ],
            [
             0.7,
             "#b8e186"
            ],
            [
             0.8,
             "#7fbc41"
            ],
            [
             0.9,
             "#4d9221"
            ],
            [
             1,
             "#276419"
            ]
           ],
           "sequential": [
            [
             0,
             "#0d0887"
            ],
            [
             0.1111111111111111,
             "#46039f"
            ],
            [
             0.2222222222222222,
             "#7201a8"
            ],
            [
             0.3333333333333333,
             "#9c179e"
            ],
            [
             0.4444444444444444,
             "#bd3786"
            ],
            [
             0.5555555555555556,
             "#d8576b"
            ],
            [
             0.6666666666666666,
             "#ed7953"
            ],
            [
             0.7777777777777778,
             "#fb9f3a"
            ],
            [
             0.8888888888888888,
             "#fdca26"
            ],
            [
             1,
             "#f0f921"
            ]
           ],
           "sequentialminus": [
            [
             0,
             "#0d0887"
            ],
            [
             0.1111111111111111,
             "#46039f"
            ],
            [
             0.2222222222222222,
             "#7201a8"
            ],
            [
             0.3333333333333333,
             "#9c179e"
            ],
            [
             0.4444444444444444,
             "#bd3786"
            ],
            [
             0.5555555555555556,
             "#d8576b"
            ],
            [
             0.6666666666666666,
             "#ed7953"
            ],
            [
             0.7777777777777778,
             "#fb9f3a"
            ],
            [
             0.8888888888888888,
             "#fdca26"
            ],
            [
             1,
             "#f0f921"
            ]
           ]
          },
          "colorway": [
           "#636efa",
           "#EF553B",
           "#00cc96",
           "#ab63fa",
           "#FFA15A",
           "#19d3f3",
           "#FF6692",
           "#B6E880",
           "#FF97FF",
           "#FECB52"
          ],
          "font": {
           "color": "#2a3f5f"
          },
          "geo": {
           "bgcolor": "white",
           "lakecolor": "white",
           "landcolor": "#E5ECF6",
           "showlakes": true,
           "showland": true,
           "subunitcolor": "white"
          },
          "hoverlabel": {
           "align": "left"
          },
          "hovermode": "closest",
          "mapbox": {
           "style": "light"
          },
          "paper_bgcolor": "white",
          "plot_bgcolor": "#E5ECF6",
          "polar": {
           "angularaxis": {
            "gridcolor": "white",
            "linecolor": "white",
            "ticks": ""
           },
           "bgcolor": "#E5ECF6",
           "radialaxis": {
            "gridcolor": "white",
            "linecolor": "white",
            "ticks": ""
           }
          },
          "scene": {
           "xaxis": {
            "backgroundcolor": "#E5ECF6",
            "gridcolor": "white",
            "gridwidth": 2,
            "linecolor": "white",
            "showbackground": true,
            "ticks": "",
            "zerolinecolor": "white"
           },
           "yaxis": {
            "backgroundcolor": "#E5ECF6",
            "gridcolor": "white",
            "gridwidth": 2,
            "linecolor": "white",
            "showbackground": true,
            "ticks": "",
            "zerolinecolor": "white"
           },
           "zaxis": {
            "backgroundcolor": "#E5ECF6",
            "gridcolor": "white",
            "gridwidth": 2,
            "linecolor": "white",
            "showbackground": true,
            "ticks": "",
            "zerolinecolor": "white"
           }
          },
          "shapedefaults": {
           "line": {
            "color": "#2a3f5f"
           }
          },
          "ternary": {
           "aaxis": {
            "gridcolor": "white",
            "linecolor": "white",
            "ticks": ""
           },
           "baxis": {
            "gridcolor": "white",
            "linecolor": "white",
            "ticks": ""
           },
           "bgcolor": "#E5ECF6",
           "caxis": {
            "gridcolor": "white",
            "linecolor": "white",
            "ticks": ""
           }
          },
          "title": {
           "x": 0.05
          },
          "xaxis": {
           "automargin": true,
           "gridcolor": "white",
           "linecolor": "white",
           "ticks": "",
           "title": {
            "standoff": 15
           },
           "zerolinecolor": "white",
           "zerolinewidth": 2
          },
          "yaxis": {
           "automargin": true,
           "gridcolor": "white",
           "linecolor": "white",
           "ticks": "",
           "title": {
            "standoff": 15
           },
           "zerolinecolor": "white",
           "zerolinewidth": 2
          }
         }
        },
        "title": {
         "text": " Топ-40 актёров по количеству жанров фильмов"
        },
        "width": 1200
       }
      }
     },
     "metadata": {},
     "output_type": "display_data"
    }
   ],
   "source": [
    "df_7 = df_7.head(40) \n",
    "# Построение круговой диаграммы с увеличенным размером\n",
    "fig = px.pie(\n",
    "    df_7,\n",
    "    values=\"unique_genres\",\n",
    "    names=\"actor_name\",\n",
    "    title=\" Топ-40 актёров по количеству жанров фильмов\",\n",
    "    hole=0.2,  # Делаем диаграмму \"пончиком\"\n",
    "    color_discrete_sequence=px.colors.sequential.Plasma_r,\n",
    "    width=1200,  # Ширина графика\n",
    "    height=800   # Высота графика\n",
    ")\n",
    "fig.write_html(\"output/actors_by_genres_piechart.html\")\n",
    "fig.show()\n"
   ]
  },
  {
   "cell_type": "markdown",
   "metadata": {},
   "source": [
    "## Задача 3. Статистический анализ и визуализация данных"
   ]
  },
  {
   "cell_type": "code",
<<<<<<< HEAD
=======
   "execution_count": 17,
   "metadata": {},
   "outputs": [
    {
     "name": "stdout",
     "output_type": "stream",
     "text": [
      "Общая таблица сохранена в output/sakila_combined_data.csv\n",
      "\n",
      "Итоговый статистический анализ:\n",
      "                  Пропущенные значения (%)   Мин     Макс      Среднее  \\\n",
      "film_id                                0.0  1.00  1000.00   501.108888   \n",
      "rental_duration                        0.0  3.00     7.00     4.935490   \n",
      "rental_rate                            0.0  0.99     4.99     2.942630   \n",
      "replacement_cost                       0.0  9.99    29.99    20.215443   \n",
      "store_id                               0.0  1.00     2.00     1.506171   \n",
      "inventory_id                           0.0  1.00  4581.00  2291.842558   \n",
      "amount                                 0.0  0.00    11.99     4.201356   \n",
      "title                                  0.0   NaN      NaN          NaN   \n",
      "rating                                 0.0   NaN      NaN          NaN   \n",
      "category                               0.0   NaN      NaN          NaN   \n",
      "\n",
      "                  Медиана     Дисперсия  Квантиль 0.1  Квантиль 0.9  \\\n",
      "film_id            496.00  8.324006e+04        101.00        897.00   \n",
      "rental_duration      5.00  1.964734e+00          3.00          7.00   \n",
      "rental_rate          2.99  2.721436e+00          0.99          4.99   \n",
      "replacement_cost    20.99  3.698794e+01         11.99         27.99   \n",
      "store_id             2.00  2.499775e-01          1.00          2.00   \n",
      "inventory_id      2291.00  1.748241e+06        459.00       4130.00   \n",
      "amount               3.99  5.583583e+00          0.99          6.99   \n",
      "title                 NaN           NaN           NaN           NaN   \n",
      "rating                NaN           NaN           NaN           NaN   \n",
      "category              NaN           NaN           NaN           NaN   \n",
      "\n",
      "                  Квартиль 1 (Q1)  Квартиль 3 (Q3)  Число уникальных значений  \\\n",
      "film_id                    255.00           753.00                        NaN   \n",
      "rental_duration              4.00             6.00                        NaN   \n",
      "rental_rate                  0.99             4.99                        NaN   \n",
      "replacement_cost            14.99            25.99                        NaN   \n",
      "store_id                     1.00             2.00                        NaN   \n",
      "inventory_id              1154.00          3433.00                        NaN   \n",
      "amount                       2.99             4.99                        NaN   \n",
      "title                         NaN              NaN                      958.0   \n",
      "rating                        NaN              NaN                        5.0   \n",
      "category                      NaN              NaN                       16.0   \n",
      "\n",
      "                                Мода  \n",
      "film_id                          NaN  \n",
      "rental_duration                  NaN  \n",
      "rental_rate                      NaN  \n",
      "replacement_cost                 NaN  \n",
      "store_id                         NaN  \n",
      "inventory_id                     NaN  \n",
      "amount                           NaN  \n",
      "title             BUCKET BROTHERHOOD  \n",
      "rating                         PG-13  \n",
      "category                      Sports  \n",
      "\n",
      "Итоговый отчёт сохранён в output/final_statistical_analysis.csv\n"
     ]
    }
   ],
   "source": [
    "\n",
    "#  Шаг 1: Формируем общую таблицу данных\n",
    "query = \"\"\"\n",
    "SELECT \n",
    "    f.film_id, f.title, f.rental_duration, f.rental_rate, f.replacement_cost, f.rating, \n",
    "    c.name AS category, \n",
    "    s.store_id, i.inventory_id, p.amount, p.payment_date\n",
    "FROM film f\n",
    "JOIN film_category fc ON f.film_id = fc.film_id\n",
    "JOIN category c ON fc.category_id = c.category_id\n",
    "JOIN inventory i ON f.film_id = i.film_id\n",
    "JOIN store s ON i.store_id = s.store_id\n",
    "JOIN rental r ON i.inventory_id = r.inventory_id\n",
    "JOIN payment p ON r.rental_id = p.rental_id;\n",
    "\"\"\"\n",
    "\n",
    "df = pd.read_sql(query, engine)\n",
    "df.to_csv(\"output/sakila_combined_data.csv\", index=False)\n",
    "print(\"Общая таблица сохранена в output/sakila_combined_data.csv\")\n",
    "\n",
    "#  Шаг 2: Анализ числовых переменных\n",
    "num_cols = df.select_dtypes(include=[\"number\"])\n",
    "\n",
    "def numerical_analysis(df):\n",
    "    stats = {\n",
    "        \"Пропущенные значения (%)\": df.isnull().mean() * 100,\n",
    "        \"Мин\": df.min(),\n",
    "        \"Макс\": df.max(),\n",
    "        \"Среднее\": df.mean(),\n",
    "        \"Медиана\": df.median(),\n",
    "        \"Дисперсия\": df.var(),\n",
    "        \"Квантиль 0.1\": df.quantile(0.1),\n",
    "        \"Квантиль 0.9\": df.quantile(0.9),\n",
    "        \"Квартиль 1 (Q1)\": df.quantile(0.25),\n",
    "        \"Квартиль 3 (Q3)\": df.quantile(0.75),\n",
    "    }\n",
    "    return pd.DataFrame(stats)\n",
    "\n",
    "num_stats = numerical_analysis(num_cols)\n",
    "\n",
    "# Шаг 3: Анализ категориальных переменных\n",
    "cat_cols = df.select_dtypes(include=[\"object\"])\n",
    "\n",
    "def categorical_analysis(df):\n",
    "    stats = {\n",
    "        \"Пропущенные значения (%)\": df.isnull().mean() * 100,\n",
    "        \"Число уникальных значений\": df.nunique(),\n",
    "        \"Мода\": df.mode().iloc[0]\n",
    "    }\n",
    "    return pd.DataFrame(stats)\n",
    "\n",
    "cat_stats = categorical_analysis(cat_cols)\n",
    "\n",
    "#  Шаг 4: Объединение результатов в один файл\n",
    "final_report = pd.concat([num_stats, cat_stats], axis=0)\n",
    "final_report.to_csv(\"output/final_statistical_analysis.csv\")\n",
    "\n",
    "#  Шаг 5: Вывод результатов на экран\n",
    "print(\"\\nИтоговый статистический анализ:\")\n",
    "print(final_report)\n",
    "\n",
    "print(\"\\nИтоговый отчёт сохранён в output/final_statistical_analysis.csv\")\n"
   ]
  },
  {
   "cell_type": "code",
   "execution_count": null,
   "metadata": {},
   "outputs": [],
   "source": []
  },
  {
   "cell_type": "code",
   "execution_count": null,
   "metadata": {},
   "outputs": [],
   "source": []
  },
  {
   "cell_type": "code",
   "execution_count": null,
   "metadata": {},
   "outputs": [],
   "source": []
  },
  {
   "cell_type": "code",
   "execution_count": null,
   "metadata": {},
   "outputs": [],
   "source": []
  },
  {
   "cell_type": "code",
>>>>>>> task_3
   "execution_count": null,
   "metadata": {},
   "outputs": [],
   "source": []
  },
  {
   "cell_type": "code",
   "execution_count": null,
   "metadata": {},
   "outputs": [],
   "source": []
  },
  {
   "cell_type": "code",
   "execution_count": null,
   "metadata": {},
   "outputs": [],
   "source": []
  },
  {
   "cell_type": "code",
   "execution_count": null,
   "metadata": {},
   "outputs": [],
   "source": []
  }
 ],
 "metadata": {
  "kernelspec": {
   "display_name": ".venv",
   "language": "python",
   "name": "python3"
  },
  "language_info": {
   "codemirror_mode": {
    "name": "ipython",
    "version": 3
   },
   "file_extension": ".py",
   "mimetype": "text/x-python",
   "name": "python",
   "nbconvert_exporter": "python",
   "pygments_lexer": "ipython3",
   "version": "3.12.8"
  }
 },
 "nbformat": 4,
 "nbformat_minor": 2
}
