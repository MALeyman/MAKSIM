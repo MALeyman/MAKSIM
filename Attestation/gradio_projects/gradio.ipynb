{
 "cells": [
  {
   "cell_type": "markdown",
   "id": "81d453ec",
   "metadata": {},
   "source": [
    " Автор: Лейман М.А.  \n",
    " Дата создания: 26.06.2025  \n",
    "\n",
    "# Итоговая аттестация. \n",
    "\n",
    "Ссылка на gradio - https://huggingface.co/spaces/makc-mon173/image-segmentation"
   ]
  },
  {
   "cell_type": "code",
   "execution_count": null,
   "id": "1fb97c99",
   "metadata": {},
   "outputs": [],
   "source": [
    "import onnxruntime as ort\n",
    "import numpy as np\n",
    "from PIL import Image\n",
    "import gradio as gr"
   ]
  },
  {
   "cell_type": "code",
   "execution_count": null,
   "id": "7ce7376e",
   "metadata": {},
   "outputs": [],
   "source": [
    "# Палитра и имена классов\n",
    "palette = [\n",
    "    [0, 0, 0],      # ФОН\n",
    "    [128, 64,128],  # road\n",
    "    [244, 35,232],  # sidewalk\n",
    "    [70, 70, 70],   # building\n",
    "    [102,102,156],  # wall\n",
    "    [190,153,153],  # fence\n",
    "    [153,153,153],  # pole\n",
    "    [250,170, 30],  # traffic light\n",
    "    [220,220,  0],  # traffic sign\n",
    "    [107,142, 35],  # vegetation\n",
    "    [152,251,152],  # terrain\n",
    "    [70,130,180],   # sky\n",
    "    [220, 20, 60],  # person\n",
    "    [255,  0,  0],  # rider\n",
    "    [0,  0,142],    # car\n",
    "    [0,  0, 70],    # truck\n",
    "    [0, 60,100],    # bus\n",
    "    [0, 80,100],    # train\n",
    "    [0,  0,230],    # motorcycle\n",
    "    [119, 11, 32],  # bicycle\n",
    "]\n",
    "\n",
    "class_names = [\n",
    "    \"ФОН\", \"road\", \"sidewalk\", \"building\", \"wall\", \"fence\", \"pole\",\n",
    "    \"traffic light\", \"traffic sign\", \"vegetation\", \"terrain\", \"sky\",\n",
    "    \"person\", \"rider\", \"car\", \"truck\", \"bus\", \"train\", \"motorcycle\", \"bicycle\"\n",
    "]\n",
    "\n",
    "\n",
    "\n",
    "session = ort.InferenceSession(\"files/unetpp_model.onnx\")\n",
    "\n",
    "def preprocess_image(img, size=(512, 256)):\n",
    "    img = img.convert(\"RGB\").resize(size)  # PIL: (width, height)\n",
    "    img_np = np.array(img).astype(np.float32) / 255.0\n",
    "    mean = np.array([0.485, 0.456, 0.406], dtype=np.float32)\n",
    "    std = np.array([0.229, 0.224, 0.225], dtype=np.float32)\n",
    "    img_np = (img_np - mean) / std\n",
    "    img_np = img_np.transpose(2, 0, 1)  # HWC -> CHW\n",
    "    img_np = np.expand_dims(img_np, axis=0).astype(np.float32)\n",
    "    return img_np\n",
    "\n",
    "\n",
    "\n",
    "\n",
    "def segment_and_overlay(input_img, selected_classes):\n",
    "    orig_width, orig_height = input_img.size  # оригинальный размер\n",
    "\n",
    "    # Предобработка и инференс (модель ожидает 256x512)\n",
    "    input_tensor = preprocess_image(input_img) \n",
    "    input_name = session.get_inputs()[0].name\n",
    "    outputs = session.run(None, {input_name: input_tensor})\n",
    "    pred_mask = np.argmax(outputs[0], axis=1)[0]  # размер (256, 512)\n",
    "\n",
    "    # Палитра и имена классов\n",
    "    palette = [\n",
    "        [0, 0, 0],      # ФОН\n",
    "        [128, 64,128],  # road\n",
    "        [244, 35,232],  # sidewalk\n",
    "        [70, 70, 70],   # building\n",
    "        [102,102,156],  # wall\n",
    "        [190,153,153],  # fence\n",
    "        [153,153,153],  # pole\n",
    "        [250,170, 30],  # traffic light\n",
    "        [220,220,  0],  # traffic sign\n",
    "        [107,142, 35],  # vegetation\n",
    "        [152,251,152],  # terrain\n",
    "        [70,130,180],   # sky\n",
    "        [220, 20, 60],  # person\n",
    "        [255,  0,  0],  # rider\n",
    "        [0,  0,142],    # car\n",
    "        [0,  0, 70],    # truck\n",
    "        [0, 60,100],    # bus\n",
    "        [0, 80,100],    # train\n",
    "        [0,  0,230],    # motorcycle\n",
    "        [119, 11, 32],  # bicycle\n",
    "    ]\n",
    "\n",
    "    class_names = [\n",
    "        \"ФОН\", \"road\", \"sidewalk\", \"building\", \"wall\", \"fence\", \"pole\",\n",
    "        \"traffic light\", \"traffic sign\", \"vegetation\", \"terrain\", \"sky\",\n",
    "        \"person\", \"rider\", \"car\", \"truck\", \"bus\", \"train\", \"motorcycle\", \"bicycle\"\n",
    "    ]\n",
    "\n",
    "    selected_indices = [class_names.index(cls) for cls in selected_classes]\n",
    "\n",
    "    color_mask = np.zeros((pred_mask.shape[0], pred_mask.shape[1], 3), dtype=np.uint8)\n",
    "    for cls_idx in selected_indices:\n",
    "        color_mask[pred_mask == cls_idx] = palette[cls_idx]\n",
    "\n",
    "    mask_img = Image.fromarray(color_mask)\n",
    "\n",
    "    # Растягиваем маску до оригинального размера изображения\n",
    "    mask_img = mask_img.resize((orig_width, orig_height), resample=Image.NEAREST)\n",
    "\n",
    "    # Наложение маски на исходное изображение с прозрачностью\n",
    "    base = input_img.convert(\"RGBA\")\n",
    "    overlay = mask_img.convert(\"RGBA\")\n",
    "    blended = Image.blend(base, overlay, alpha=0.5)\n",
    "\n",
    "    return blended\n"
   ]
  },
  {
   "cell_type": "code",
   "execution_count": null,
   "id": "fad40ede",
   "metadata": {},
   "outputs": [
    {
     "name": "stderr",
     "output_type": "stream",
     "text": [
      "/home/maksim/anaconda3/envs/myenv3/lib/python3.10/site-packages/tqdm/auto.py:21: TqdmWarning: IProgress not found. Please update jupyter and ipywidgets. See https://ipywidgets.readthedocs.io/en/stable/user_install.html\n",
      "  from .autonotebook import tqdm as notebook_tqdm\n"
     ]
    },
    {
     "name": "stdout",
     "output_type": "stream",
     "text": [
      "* Running on local URL:  http://127.0.0.1:7860\n",
      "* To create a public link, set `share=True` in `launch()`.\n"
     ]
    },
    {
     "data": {
      "text/html": [
       "<div><iframe src=\"http://127.0.0.1:7860/\" width=\"100%\" height=\"500\" allow=\"autoplay; camera; microphone; clipboard-read; clipboard-write;\" frameborder=\"0\" allowfullscreen></iframe></div>"
      ],
      "text/plain": [
       "<IPython.core.display.HTML object>"
      ]
     },
     "metadata": {},
     "output_type": "display_data"
    },
    {
     "data": {
      "text/plain": []
     },
     "execution_count": 5,
     "metadata": {},
     "output_type": "execute_result"
    }
   ],
   "source": [
    "\n",
    "with gr.Blocks() as demo:\n",
    "    with gr.Row():\n",
    "        with gr.Column(scale=1):\n",
    "            selected = gr.CheckboxGroup(label=\"Выберите классы для отображения\", choices=class_names, value=class_names[:3])\n",
    "            btn = gr.Button(\"Сегментировать\")\n",
    "        with gr.Column(scale=3):\n",
    "            input_image = gr.Image(type=\"pil\", value=\"files/999.png\", label=\"Исходное изображение\")\n",
    "            output_image = gr.Image(label=\"Результат сегментации\")\n",
    "\n",
    "    btn.click(fn=segment_and_overlay, inputs=[input_image, selected], outputs=output_image)\n",
    "\n",
    "demo.launch()\n"
   ]
  },
  {
   "cell_type": "code",
   "execution_count": null,
   "id": "0277fb7c",
   "metadata": {},
   "outputs": [],
   "source": []
  },
  {
   "cell_type": "code",
   "execution_count": null,
   "id": "2d0b4f52",
   "metadata": {},
   "outputs": [],
   "source": []
  },
  {
   "cell_type": "code",
   "execution_count": null,
   "id": "5437c66d",
   "metadata": {},
   "outputs": [],
   "source": []
  },
  {
   "cell_type": "code",
   "execution_count": null,
   "id": "e630b241",
   "metadata": {},
   "outputs": [],
   "source": []
  },
  {
   "cell_type": "code",
   "execution_count": null,
   "id": "e977301a",
   "metadata": {},
   "outputs": [],
   "source": []
  },
  {
   "cell_type": "code",
   "execution_count": null,
   "id": "eadbf541",
   "metadata": {},
   "outputs": [],
   "source": []
  },
  {
   "cell_type": "code",
   "execution_count": null,
   "id": "8f986f1f",
   "metadata": {},
   "outputs": [],
   "source": []
  }
 ],
 "metadata": {
  "kernelspec": {
   "display_name": "myenv3",
   "language": "python",
   "name": "python3"
  },
  "language_info": {
   "codemirror_mode": {
    "name": "ipython",
    "version": 3
   },
   "file_extension": ".py",
   "mimetype": "text/x-python",
   "name": "python",
   "nbconvert_exporter": "python",
   "pygments_lexer": "ipython3",
   "version": "3.10.18"
  }
 },
 "nbformat": 4,
 "nbformat_minor": 5
}
