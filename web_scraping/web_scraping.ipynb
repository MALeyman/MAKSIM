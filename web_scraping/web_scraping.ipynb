{
 "cells": [
  {
   "cell_type": "code",
   "execution_count": null,
   "metadata": {},
   "outputs": [],
   "source": []
  },
  {
   "cell_type": "code",
   "execution_count": 1,
   "metadata": {},
   "outputs": [],
   "source": [
    "import os\n",
    "import time\n",
    "import requests\n",
    "from selenium import webdriver\n",
    "from selenium.webdriver.common.by import By\n",
    "from selenium.webdriver.common.keys import Keys\n",
    "from bs4 import BeautifulSoup\n",
    "from tqdm import tqdm\n",
    "\n",
    "from selenium import webdriver\n",
    "from selenium.webdriver.chrome.service import Service\n",
    "from webdriver_manager.chrome import ChromeDriverManager"
   ]
  },
  {
   "cell_type": "code",
   "execution_count": 2,
   "metadata": {},
   "outputs": [],
   "source": [
    "# Настройки\n",
    "YANDEX_IMAGES_URL = \"https://yandex.ru/images/\"\n",
    "SAVE_DIR = \"dataset\"\n",
    "CATEGORIES = [\"polar bear\", \"brown bear\"]\n",
    "IMAGES_PER_CATEGORY = 1000"
   ]
  },
  {
   "cell_type": "code",
   "execution_count": 3,
   "metadata": {},
   "outputs": [],
   "source": [
    "# Создание папок\n",
    "def create_folders():\n",
    "    for category in CATEGORIES:\n",
    "        path = os.path.join(SAVE_DIR, category.replace(\" \", \"_\"))\n",
    "        os.makedirs(path, exist_ok=True)"
   ]
  },
  {
   "cell_type": "code",
   "execution_count": 6,
   "metadata": {},
   "outputs": [],
   "source": [
    "# # Запуск Selenium\n",
    "# def init_driver():\n",
    "#     options = webdriver.ChromeOptions()\n",
    "#     options.add_argument(\"--headless\")  # Запуск без UI (ускоряет выполнение)\n",
    "#     driver = webdriver.Chrome(options=options)\n",
    "#     return driver"
   ]
  },
  {
   "cell_type": "code",
   "execution_count": 6,
   "metadata": {},
   "outputs": [],
   "source": [
    " # Поиск изображений в Yandex\n",
    "def fetch_image_urls(driver, query, max_images):\n",
    "    driver.get(YANDEX_IMAGES_URL)\n",
    "    search_box = driver.find_element(By.NAME, \"text\")\n",
    "    search_box.send_keys(query)\n",
    "    search_box.send_keys(Keys.RETURN)\n",
    "    time.sleep(3)\n",
    "\n",
    "    image_urls = set()\n",
    "    scroll_pause_time = 2\n",
    "    last_height = driver.execute_script(\"return document.body.scrollHeight\")\n",
    "\n",
    "    while len(image_urls) < max_images:\n",
    "        soup = BeautifulSoup(driver.page_source, \"html.parser\")\n",
    "        thumbnails = soup.find_all(\"img\", class_=\"serp-item__thumb\")\n",
    "        \n",
    "        for img in thumbnails:\n",
    "            if \"src\" in img.attrs:\n",
    "                image_urls.add(img[\"src\"])\n",
    "            if len(image_urls) >= max_images:\n",
    "                break\n",
    "        \n",
    "        driver.execute_script(\"window.scrollTo(0, document.body.scrollHeight);\")\n",
    "        time.sleep(scroll_pause_time)\n",
    "        new_height = driver.execute_script(\"return document.body.scrollHeight\")\n",
    "        \n",
    "        if new_height == last_height:\n",
    "            break\n",
    "        last_height = new_height\n",
    "\n",
    "    return list(image_urls)"
   ]
  },
  {
   "cell_type": "code",
   "execution_count": 8,
   "metadata": {},
   "outputs": [],
   "source": [
    "# Загрузка изображений\n",
    "def download_images(image_urls, category):\n",
    "    save_path = os.path.join(SAVE_DIR, category.replace(\" \", \"_\"))\n",
    "    for idx, url in tqdm(enumerate(image_urls), total=len(image_urls), desc=f\"Downloading {category}\"):\n",
    "        file_path = os.path.join(save_path, f\"{idx:04d}.jpg\")\n",
    "        try:\n",
    "            response = requests.get(url, stream=True, timeout=5)\n",
    "            if response.status_code == 200:\n",
    "                with open(file_path, \"wb\") as file:\n",
    "                    for chunk in response.iter_content(1024):\n",
    "                        file.write(chunk)\n",
    "        except Exception as e:\n",
    "            print(f\"Ошибка при загрузке {url}: {e}\")"
   ]
  },
  {
   "cell_type": "code",
   "execution_count": 9,
   "metadata": {},
   "outputs": [],
   "source": [
    "\n",
    "def init_driver():\n",
    "    options = webdriver.ChromeOptions()\n",
    "    options.add_argument(\"--headless\")  # Запуск без интерфейса\n",
    "    service = Service(ChromeDriverManager().install())  # Автоустановка ChromeDriver\n",
    "    driver = webdriver.Chrome(service=service, options=options)\n",
    "    return driver\n"
   ]
  },
  {
   "cell_type": "code",
   "execution_count": 10,
   "metadata": {},
   "outputs": [],
   "source": [
    "# Основная логика\n",
    "def main():\n",
    "    create_folders()\n",
    "    driver = init_driver()\n",
    "\n",
    "    for category in CATEGORIES:\n",
    "        print(f\"🔍 Поиск изображений для: {category}\")\n",
    "        image_urls = fetch_image_urls(driver, category, IMAGES_PER_CATEGORY)\n",
    "        print(f\"✅ Найдено {len(image_urls)} изображений.\")\n",
    "        \n",
    "        print(f\"💾 Начинаем загрузку изображений для: {category}\")\n",
    "        download_images(image_urls, category)\n",
    "        print(f\"🎉 Загрузка {category} завершена!\\n\")\n",
    "\n",
    "    driver.quit()"
   ]
  },
  {
   "cell_type": "code",
   "execution_count": 11,
   "metadata": {},
   "outputs": [
    {
     "name": "stdout",
     "output_type": "stream",
     "text": [
      "🔍 Поиск изображений для: polar bear\n",
      "✅ Найдено 0 изображений.\n",
      "💾 Начинаем загрузку изображений для: polar bear\n"
     ]
    },
    {
     "name": "stderr",
     "output_type": "stream",
     "text": [
      "Downloading polar bear: 0it [00:00, ?it/s]"
     ]
    },
    {
     "name": "stdout",
     "output_type": "stream",
     "text": [
      "🎉 Загрузка polar bear завершена!\n",
      "\n",
      "🔍 Поиск изображений для: brown bear\n"
     ]
    },
    {
     "name": "stderr",
     "output_type": "stream",
     "text": [
      "\n"
     ]
    },
    {
     "name": "stdout",
     "output_type": "stream",
     "text": [
      "✅ Найдено 0 изображений.\n",
      "💾 Начинаем загрузку изображений для: brown bear\n"
     ]
    },
    {
     "name": "stderr",
     "output_type": "stream",
     "text": [
      "Downloading brown bear: 0it [00:00, ?it/s]"
     ]
    },
    {
     "name": "stdout",
     "output_type": "stream",
     "text": [
      "🎉 Загрузка brown bear завершена!\n",
      "\n"
     ]
    },
    {
     "name": "stderr",
     "output_type": "stream",
     "text": [
      "\n"
     ]
    }
   ],
   "source": [
    "\n",
    "if __name__ == \"__main__\":\n",
    "    main()\n"
   ]
  },
  {
   "cell_type": "code",
   "execution_count": null,
   "metadata": {},
   "outputs": [],
   "source": []
  },
  {
   "cell_type": "code",
   "execution_count": null,
   "metadata": {},
   "outputs": [],
   "source": []
  },
  {
   "cell_type": "code",
   "execution_count": null,
   "metadata": {},
   "outputs": [],
   "source": []
  },
  {
   "cell_type": "code",
   "execution_count": null,
   "metadata": {},
   "outputs": [],
   "source": []
  }
 ],
 "metadata": {
  "kernelspec": {
   "display_name": ".venv",
   "language": "python",
   "name": "python3"
  },
  "language_info": {
   "codemirror_mode": {
    "name": "ipython",
    "version": 3
   },
   "file_extension": ".py",
   "mimetype": "text/x-python",
   "name": "python",
   "nbconvert_exporter": "python",
   "pygments_lexer": "ipython3",
   "version": "3.12.8"
  }
 },
 "nbformat": 4,
 "nbformat_minor": 2
}
