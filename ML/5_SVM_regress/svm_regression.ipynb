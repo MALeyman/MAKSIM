{
 "cells": [
  {
   "cell_type": "markdown",
   "metadata": {},
   "source": [
    "# Регрессия SVM"
   ]
  },
  {
   "cell_type": "markdown",
   "metadata": {},
   "source": [
    "Признаки (столбцы):  \n",
    "Возраст - __Age__ : Возраст застрахованного лица (числовой)  \n",
    "Пол - __Gender__ : Пол застрахованного лица (Категория: Мужской, Женский)  \n",
    "Годовой доход - __Annual Income__ : Годовой доход застрахованного лица (числовой, асимметричный)  \n",
    "Семейное положение - __Marital Status__ : Семейное положение застрахованного лица (категория: холост, женат, разведен)  \n",
    "Количество иждивенцев - __Number of Dependents__ : Количество иждивенцев (числовое, с пропущенными значениями)  \n",
    "Уровень образования - __Education Level__ : наивысший достигнутый уровень образования (категория: средняя школа, бакалавр, магистр, доктор философии)  \n",
    "Род занятий - __Occupation__ : Род занятий застрахованного лица (категория: работающий по найму, самозанятый, безработный)  \n",
    "Оценка состояния здоровья - __Health Score__ : оценка, отражающая состояние здоровья (числовая, асимметричная)  \n",
    "Местоположение - __Location__ : Тип местоположения (Категория: Город, Пригород, Сельская местность)  \n",
    "Тип полиса - __Policy Type__ : Тип страхового полиса (Категорийный: Базовый, Комплексный, Премиум)  \n",
    "Предыдущие заявления - __Previous Claims__ : Количество предыдущих заявлений (числовое, с выбросами)  \n",
    "Возраст транспортного средства - __Vehicle Age__ : Возраст застрахованного транспортного средства (числовой)  \n",
    "Кредитный рейтинг - __Credit Score__ : кредитный рейтинг застрахованного лица (числовой, с отсутствующими значениями)  \n",
    "Срок действия страхового полиса - __Insurance Duration__ : Срок действия страхового полиса (числовой, в годах)  \n",
    "Дата начала действия полиса - __Policy Start Date__ : Дата начала действия страхового полиса (Текст, неправильно отформатирован)  \n",
    "Отзывы клиентов - __Customer Feedback__ : краткие отзывы клиентов (текст)  \n",
    "Статус курения  - __Smoking Status__  : Статус курения застрахованного лица (Категория: Да, Нет)  \n",
    "Частота упражнений - __Exercise Frequency__ : Частота упражнений (Категория: Ежедневно, Еженедельно, Ежемесячно, Редко)  \n",
    "Тип недвижимости  - __Property Type__ : Тип собственности (Категория: Дом, Квартира, Кондоминиум)  \n",
    "\n",
    "Целевая переменная:  \n",
    "Сумма страховой премии - __Premium Amount__ : целевая переменная, представляющая сумму страховой премии (числовая, асимметричная)  "
   ]
  },
  {
   "cell_type": "code",
   "execution_count": 2,
   "metadata": {},
   "outputs": [
    {
     "name": "stdout",
     "output_type": "stream",
     "text": [
      "Виртуальное окружение\n",
      "/home/maksim/develops/python/MAKSIM/.venv/bin/python\n",
      "\n",
      "Текущее положение: \n",
      "/home/maksim/develops/python/MAKSIM/ML/5_SVM_regress\n",
      "\n",
      "Датасет: \n",
      "sample_submission.csv  test.csv  train.csv\n"
     ]
    }
   ],
   "source": [
    "import time\n",
    "from glob import glob\n",
    "import os \n",
    "import seaborn as sns\n",
    "import pandas as pd\n",
    "import numpy as np\n",
    "import matplotlib.pyplot as plt\n",
    "from sklearn.model_selection import train_test_split, GridSearchCV\n",
    "from sklearn.preprocessing import StandardScaler\n",
    "from sklearn.svm import SVC\n",
    "from sklearn.metrics import confusion_matrix, accuracy_score, precision_score, recall_score, f1_score, roc_auc_score\n",
    "\n",
    "\n",
    "from cuml.metrics._ranking import roc_auc_score as cuml_roc_auc_score\n",
    "from cuml.metrics._ranking import precision_recall_curve\n",
    "from cuml.metrics.accuracy import accuracy_score  as cuml_accuracy_score\n",
    "from cuml.metrics.confusion_matrix import confusion_matrix as cuml_confusion_matrix\n",
    "\n",
    "\n",
    "\n",
    "from sklearn.svm import LinearSVC  # Используем LinearSVC для линейного ядра\n",
    "from cuml.svm import SVC as cuSVC  # Используем GPU-ускоренную модель SVC\n",
    "import cudf\n",
    "import cupy as cp\n",
    "\n",
    "\n",
    "\n",
    "\n",
    "\n",
    "\n",
    "\n",
    "\n",
    "print('Виртуальное окружение')\n",
    "!which python \n",
    "# Текущее положение\n",
    "print('\\nТекущее положение: ')\n",
    "path_1 = os.getcwd()\n",
    "print(path_1)\n",
    "print(\"\\nДатасет: \")\n",
    "!ls dataset"
   ]
  },
  {
   "cell_type": "code",
   "execution_count": 4,
   "metadata": {},
   "outputs": [
    {
     "name": "stdout",
     "output_type": "stream",
     "text": [
      "\n",
      "Размер данных:  (1200000, 21)\n",
      " id  Age Gender  Annual Income Marital Status  Number of Dependents Education Level    Occupation  Health Score Location   Policy Type  Previous Claims  Vehicle Age  Credit Score  Insurance Duration          Policy Start Date Customer Feedback Smoking Status Exercise Frequency Property Type  Premium Amount\n",
      "  0 19.0 Female        10049.0        Married                   1.0      Bachelor's Self-Employed     22.598761    Urban       Premium              2.0         17.0         372.0                 5.0 2023-12-23 15:21:39.134960              Poor             No             Weekly         House          2869.0\n",
      "  1 39.0 Female        31678.0       Divorced                   3.0        Master's           NaN     15.569731    Rural Comprehensive              1.0         12.0         694.0                 2.0 2023-06-12 15:21:39.111551           Average            Yes            Monthly         House          1483.0\n",
      "  2 23.0   Male        25602.0       Divorced                   3.0     High School Self-Employed     47.177549 Suburban       Premium              1.0         14.0           NaN                 3.0 2023-09-30 15:21:39.221386              Good            Yes             Weekly         House           567.0\n",
      "  3 21.0   Male       141855.0        Married                   2.0      Bachelor's           NaN     10.938144    Rural         Basic              1.0          0.0         367.0                 1.0 2024-06-12 15:21:39.226954              Poor            Yes              Daily     Apartment           765.0\n",
      "  4 21.0   Male        39651.0         Single                   1.0      Bachelor's Self-Employed     20.376094    Rural       Premium              0.0          8.0         598.0                 4.0 2021-12-01 15:21:39.252145              Poor            Yes             Weekly         House          2022.0\n",
      "\n",
      "Пропуски:\n"
     ]
    },
    {
     "data": {
      "text/plain": [
       "id                           0\n",
       "Age                      18705\n",
       "Gender                       0\n",
       "Annual Income            44949\n",
       "Marital Status           18529\n",
       "Number of Dependents    109672\n",
       "Education Level              0\n",
       "Occupation              358075\n",
       "Health Score             74076\n",
       "Location                     0\n",
       "Policy Type                  0\n",
       "Previous Claims         364029\n",
       "Vehicle Age                  6\n",
       "Credit Score            137882\n",
       "Insurance Duration           1\n",
       "Policy Start Date            0\n",
       "Customer Feedback        77824\n",
       "Smoking Status               0\n",
       "Exercise Frequency           0\n",
       "Property Type                0\n",
       "Premium Amount               0\n",
       "dtype: int64"
      ]
     },
     "execution_count": 4,
     "metadata": {},
     "output_type": "execute_result"
    }
   ],
   "source": [
    "train_df = pd.read_csv('dataset/train.csv')\n",
    "test_df = pd.read_csv('dataset/test.csv')\n",
    "\n",
    "print('\\nРазмер данных: ', train_df.shape)\n",
    "\n",
    "print(train_df.head().to_string(index=False))\n",
    "\n",
    "X = train_df.drop(columns=['Premium Amount'])\n",
    "y = train_df['Premium Amount']\n",
    "print(\"\\nПропуски:\")\n",
    "train_df.isnull().sum()"
   ]
  },
  {
   "cell_type": "code",
   "execution_count": null,
   "metadata": {},
   "outputs": [],
   "source": []
  },
  {
   "cell_type": "code",
   "execution_count": null,
   "metadata": {},
   "outputs": [],
   "source": []
  },
  {
   "cell_type": "code",
   "execution_count": null,
   "metadata": {},
   "outputs": [],
   "source": []
  },
  {
   "cell_type": "code",
   "execution_count": null,
   "metadata": {},
   "outputs": [],
   "source": []
  },
  {
   "cell_type": "code",
   "execution_count": null,
   "metadata": {},
   "outputs": [],
   "source": []
  }
 ],
 "metadata": {
  "kernelspec": {
   "display_name": ".venv",
   "language": "python",
   "name": "python3"
  },
  "language_info": {
   "codemirror_mode": {
    "name": "ipython",
    "version": 3
   },
   "file_extension": ".py",
   "mimetype": "text/x-python",
   "name": "python",
   "nbconvert_exporter": "python",
   "pygments_lexer": "ipython3",
   "version": "3.12.9"
  }
 },
 "nbformat": 4,
 "nbformat_minor": 2
}
