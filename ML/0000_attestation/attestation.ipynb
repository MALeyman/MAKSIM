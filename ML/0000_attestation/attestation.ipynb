{
 "cells": [
  {
   "cell_type": "markdown",
   "metadata": {},
   "source": [
    "# Промежуточная аттестация №3"
   ]
  },
  {
   "cell_type": "markdown",
   "metadata": {},
   "source": [
    "### __Набор Данных для прогнозирования ожирения__  \n",
    "### Оценка уровня ожирения у отдельных лиц"
   ]
  },
  {
   "cell_type": "markdown",
   "metadata": {},
   "source": [
    "__Data Details:__\n",
    "\n",
    "Gender:       пол  \n",
    "Age:          возраст  \n",
    "Height :      рост  \n",
    "Weight :      вес   \n",
    "family_history :   Страдал ли кто-либо из членов семьи избыточным весом?  \n",
    "FAVC :        Часто ли вы употребляете высококалорийную пищу?  \n",
    "FCVC :        Вы обычно едите овощи в своем рационе?  \n",
    "NCP :         Сколько основных приемов пищи вы съедаете в день?  \n",
    "CAEC :        Вы едите что-нибудь между приемами пищи?  \n",
    "SMOKE :       Вы курите?  \n",
    "CH2O :        Сколько воды вы выпиваете в день?  \n",
    "SCC :         Вы следите за количеством калорий, которые потребляете ежедневно?  \n",
    "FAF:          Как часто вы занимаетесь физической активностью?  \n",
    "TUE :         Сколько времени вы проводите за использованием технологических устройств, таких как мобильный телефон, видеоигры, телевизор, компьютер и другие?  \n",
    "CALC :        Как часто вы употребляете алкоголь?  \n",
    "MTRANS :      Каким транспортом вы обычно пользуетесь?  \n",
    "Obesity :     (Целевой столбец) Уровень ожирения  "
   ]
  },
  {
   "cell_type": "code",
   "execution_count": null,
   "metadata": {
    "vscode": {
     "languageId": "plaintext"
    }
   },
   "outputs": [],
   "source": []
  },
  {
   "cell_type": "code",
   "execution_count": null,
   "metadata": {
    "vscode": {
     "languageId": "plaintext"
    }
   },
   "outputs": [],
   "source": []
  },
  {
   "cell_type": "code",
   "execution_count": null,
   "metadata": {
    "vscode": {
     "languageId": "plaintext"
    }
   },
   "outputs": [],
   "source": []
  }
 ],
 "metadata": {
  "language_info": {
   "name": "python"
  }
 },
 "nbformat": 4,
 "nbformat_minor": 2
}
