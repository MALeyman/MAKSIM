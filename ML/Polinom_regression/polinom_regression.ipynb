{
 "cells": [
  {
   "cell_type": "markdown",
   "metadata": {},
   "source": [
    "# Полиномиальная регрессия"
   ]
  },
  {
   "cell_type": "markdown",
   "metadata": {},
   "source": [
    "## Импорты"
   ]
  },
  {
   "cell_type": "code",
   "execution_count": 11,
   "metadata": {},
   "outputs": [
    {
     "ename": "ModuleNotFoundError",
     "evalue": "No module named 'torch'",
     "output_type": "error",
     "traceback": [
      "\u001b[0;31m---------------------------------------------------------------------------\u001b[0m",
      "\u001b[0;31mModuleNotFoundError\u001b[0m                       Traceback (most recent call last)",
      "Cell \u001b[0;32mIn[11], line 10\u001b[0m\n\u001b[1;32m      7\u001b[0m \u001b[38;5;28;01mimport\u001b[39;00m\u001b[38;5;250m \u001b[39m\u001b[38;5;21;01mseaborn\u001b[39;00m\u001b[38;5;250m \u001b[39m\u001b[38;5;28;01mas\u001b[39;00m\u001b[38;5;250m \u001b[39m\u001b[38;5;21;01msns\u001b[39;00m\n\u001b[1;32m      8\u001b[0m \u001b[38;5;28;01mimport\u001b[39;00m\u001b[38;5;250m \u001b[39m\u001b[38;5;21;01mmatplotlib\u001b[39;00m\u001b[38;5;21;01m.\u001b[39;00m\u001b[38;5;21;01mpyplot\u001b[39;00m\u001b[38;5;250m \u001b[39m\u001b[38;5;28;01mas\u001b[39;00m\u001b[38;5;250m \u001b[39m\u001b[38;5;21;01mplt\u001b[39;00m\n\u001b[0;32m---> 10\u001b[0m \u001b[38;5;28;01mimport\u001b[39;00m\u001b[38;5;250m \u001b[39m\u001b[38;5;21;01mtorch\u001b[39;00m  \n\u001b[1;32m     11\u001b[0m \u001b[38;5;28;01mfrom\u001b[39;00m\u001b[38;5;250m \u001b[39m\u001b[38;5;21;01mtorchsummary\u001b[39;00m\u001b[38;5;250m \u001b[39m\u001b[38;5;28;01mimport\u001b[39;00m summary\n",
      "\u001b[0;31mModuleNotFoundError\u001b[0m: No module named 'torch'"
     ]
    }
   ],
   "source": [
    " \n",
    "import matplotlib.pyplot as plt  \n",
    "import pathlib \n",
    "import pandas as pd\n",
    "import numpy as np\n",
    "from glob import glob\n",
    "import os \n",
    "import seaborn as sns\n",
    "import matplotlib.pyplot as plt\n",
    "\n",
    "import torch  \n",
    "from torchsummary import summary"
   ]
  },
  {
   "cell_type": "code",
   "execution_count": 9,
   "metadata": {},
   "outputs": [
    {
     "name": "stdout",
     "output_type": "stream",
     "text": [
      "/home/maksim/develops/python/MAKSIM/.venv/bin/python\n"
     ]
    }
   ],
   "source": [
    "!which python "
   ]
  },
  {
   "cell_type": "markdown",
   "metadata": {},
   "source": [
    "## Проверка устройства GPU"
   ]
  },
  {
   "cell_type": "code",
   "execution_count": null,
   "metadata": {},
   "outputs": [],
   "source": [
    "# устанавливаем device если gpu или cpu\n",
    "if torch.cuda.is_available():\n",
    "    device = torch.device(\"cuda\")\n",
    "else:\n",
    "    device = torch.device(\"cpu\")\n",
    "print(\"работаем на устройстве: \", device)\n",
    "print('Версия torch:           ', torch.__version__)\n",
    "print(\"версия  cuDNN:          \", torch.backends.cudnn.version())\n",
    "\n",
    "# ПРОВЕРКА GPU\n",
    "!nvidia-smi"
   ]
  },
  {
   "cell_type": "markdown",
   "metadata": {},
   "source": [
    "## Очистка GPU"
   ]
  },
  {
   "cell_type": "code",
   "execution_count": null,
   "metadata": {},
   "outputs": [],
   "source": [
    "torch.cuda.empty_cache()  "
   ]
  },
  {
   "cell_type": "markdown",
   "metadata": {},
   "source": [
    "## Текущее положение"
   ]
  },
  {
   "cell_type": "code",
   "execution_count": 5,
   "metadata": {},
   "outputs": [
    {
     "data": {
      "text/plain": [
       "'/home/maksim/develops/python/MAKSIM/ML/Polinom_regression'"
      ]
     },
     "execution_count": 5,
     "metadata": {},
     "output_type": "execute_result"
    }
   ],
   "source": [
    "# Текущее положение\n",
    "path_1 = os.getcwd()\n",
    "path_1"
   ]
  },
  {
   "cell_type": "markdown",
   "metadata": {},
   "source": [
    "## Просмотр расположения датасета"
   ]
  },
  {
   "cell_type": "code",
   "execution_count": 6,
   "metadata": {},
   "outputs": [
    {
     "name": "stdout",
     "output_type": "stream",
     "text": [
      "sample_submission.csv  test.csv  train.csv\n"
     ]
    }
   ],
   "source": [
    "!ls dataset"
   ]
  },
  {
   "cell_type": "code",
   "execution_count": 8,
   "metadata": {},
   "outputs": [
    {
     "data": {
      "image/png": "[encoded data removed]",
      "text/plain": [
       "<Figure size 4000x100 with 1 Axes>"
      ]
     },
     "metadata": {},
     "output_type": "display_data"
    }
   ],
   "source": [
    "current_palette = sns.color_palette('mako', 40)\n",
    "sns.palplot(current_palette)"
   ]
  },
  {
   "cell_type": "markdown",
   "metadata": {},
   "source": [
    "## Загрузка данных"
   ]
  },
  {
   "cell_type": "code",
   "execution_count": 14,
   "metadata": {},
   "outputs": [
    {
     "name": "stdout",
     "output_type": "stream",
     "text": [
      " id  Age Gender  Annual Income Marital Status  Number of Dependents Education Level    Occupation  Health Score Location   Policy Type  Previous Claims  Vehicle Age  Credit Score  Insurance Duration          Policy Start Date Customer Feedback Smoking Status Exercise Frequency Property Type  Premium Amount\n",
      "  0 19.0 Female        10049.0        Married                   1.0      Bachelor's Self-Employed     22.598761    Urban       Premium              2.0         17.0         372.0                 5.0 2023-12-23 15:21:39.134960              Poor             No             Weekly         House          2869.0\n",
      "  1 39.0 Female        31678.0       Divorced                   3.0        Master's           NaN     15.569731    Rural Comprehensive              1.0         12.0         694.0                 2.0 2023-06-12 15:21:39.111551           Average            Yes            Monthly         House          1483.0\n",
      "  2 23.0   Male        25602.0       Divorced                   3.0     High School Self-Employed     47.177549 Suburban       Premium              1.0         14.0           NaN                 3.0 2023-09-30 15:21:39.221386              Good            Yes             Weekly         House           567.0\n",
      "  3 21.0   Male       141855.0        Married                   2.0      Bachelor's           NaN     10.938144    Rural         Basic              1.0          0.0         367.0                 1.0 2024-06-12 15:21:39.226954              Poor            Yes              Daily     Apartment           765.0\n",
      "  4 21.0   Male        39651.0         Single                   1.0      Bachelor's Self-Employed     20.376094    Rural       Premium              0.0          8.0         598.0                 4.0 2021-12-01 15:21:39.252145              Poor            Yes             Weekly         House          2022.0\n"
     ]
    }
   ],
   "source": [
    "# Загрузка данных\n",
    "train_path = \"dataset/train.csv\"\n",
    "test_path = \"dataset/test.csv\"\n",
    "\n",
    "data = pd.read_csv(train_path)\n",
    "data_test = pd.read_csv(test_path)\n",
    "\n",
    "# Просмотр первых строк\n",
    "print(data.head().to_string(index=False))\n"
   ]
  },
  {
   "cell_type": "code",
   "execution_count": 17,
   "metadata": {},
   "outputs": [
    {
     "name": "stdout",
     "output_type": "stream",
     "text": [
      "     id  Age Gender  Annual Income Marital Status  Number of Dependents Education Level    Occupation  Health Score Location   Policy Type  Previous Claims  Vehicle Age  Credit Score  Insurance Duration          Policy Start Date Customer Feedback Smoking Status Exercise Frequency Property Type\n",
      "1200000 28.0 Female         2310.0            NaN                   4.0      Bachelor's Self-Employed      7.657981    Rural         Basic              NaN         19.0           NaN                 1.0 2023-06-04 15:21:39.245086              Poor            Yes             Weekly         House\n",
      "1200001 31.0 Female       126031.0        Married                   2.0        Master's Self-Employed     13.381379 Suburban       Premium              NaN         14.0         372.0                 8.0 2024-04-22 15:21:39.224915              Good            Yes             Rarely     Apartment\n",
      "1200002 47.0 Female        17092.0       Divorced                   0.0             PhD    Unemployed     24.354527    Urban Comprehensive              NaN         16.0         819.0                 9.0 2023-04-05 15:21:39.134960           Average            Yes            Monthly         Condo\n",
      "1200003 28.0 Female        30424.0       Divorced                   3.0             PhD Self-Employed      5.136225 Suburban Comprehensive              1.0          3.0         770.0                 5.0 2023-10-25 15:21:39.134960              Poor            Yes              Daily         House\n",
      "1200004 24.0   Male        10863.0       Divorced                   2.0     High School    Unemployed     11.844155 Suburban       Premium              NaN         14.0         755.0                 7.0 2021-11-26 15:21:39.259788           Average             No             Weekly         House\n"
     ]
    }
   ],
   "source": [
    "print(data_test.head().to_string(index=False))"
   ]
  }
 ],
 "metadata": {
  "kernelspec": {
   "display_name": ".venv",
   "language": "python",
   "name": "python3"
  },
  "language_info": {
   "codemirror_mode": {
    "name": "ipython",
    "version": 3
   },
   "file_extension": ".py",
   "mimetype": "text/x-python",
   "name": "python",
   "nbconvert_exporter": "python",
   "pygments_lexer": "ipython3",
   "version": "3.12.9"
  }
 },
 "nbformat": 4,
 "nbformat_minor": 2
}
